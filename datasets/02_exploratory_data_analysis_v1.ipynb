{
 "cells": [
  {
   "cell_type": "code",
   "execution_count": 135,
   "metadata": {},
   "outputs": [],
   "source": [
    "import pandas as pd\n",
    "import numpy as np\n",
    "import seaborn as sns\n",
    "import matplotlib.pyplot as plt\n",
    "from collections import Counter\n",
    "import copy"
   ]
  },
  {
   "cell_type": "markdown",
   "metadata": {},
   "source": [
    "## Exploratory Data Analysis"
   ]
  },
  {
   "cell_type": "code",
   "execution_count": 136,
   "metadata": {},
   "outputs": [
    {
     "name": "stderr",
     "output_type": "stream",
     "text": [
      "/Users/juliankleindiek/anaconda3/lib/python3.7/site-packages/IPython/core/interactiveshell.py:3057: DtypeWarning: Columns (7) have mixed types.Specify dtype option on import or set low_memory=False.\n",
      "  interactivity=interactivity, compiler=compiler, result=result)\n",
      "/Users/juliankleindiek/anaconda3/lib/python3.7/site-packages/numpy/lib/arraysetops.py:569: FutureWarning: elementwise comparison failed; returning scalar instead, but in the future will perform elementwise comparison\n",
      "  mask |= (ar1 == a)\n"
     ]
    },
    {
     "name": "stdout",
     "output_type": "stream",
     "text": [
      "The dataset has 3777750 rows and 34 columns.\n"
     ]
    },
    {
     "data": {
      "text/html": [
       "<div>\n",
       "<style scoped>\n",
       "    .dataframe tbody tr th:only-of-type {\n",
       "        vertical-align: middle;\n",
       "    }\n",
       "\n",
       "    .dataframe tbody tr th {\n",
       "        vertical-align: top;\n",
       "    }\n",
       "\n",
       "    .dataframe thead th {\n",
       "        text-align: right;\n",
       "    }\n",
       "</style>\n",
       "<table border=\"1\" class=\"dataframe\">\n",
       "  <thead>\n",
       "    <tr style=\"text-align: right;\">\n",
       "      <th></th>\n",
       "      <th>event_id</th>\n",
       "      <th>latitude</th>\n",
       "      <th>longitude</th>\n",
       "      <th>date</th>\n",
       "      <th>STATE</th>\n",
       "      <th>EVENT_TYPE</th>\n",
       "      <th>TOR_F_SCALE</th>\n",
       "      <th>target</th>\n",
       "      <th>d</th>\n",
       "      <th>cc</th>\n",
       "      <th>...</th>\n",
       "      <th>TOR_LENGTH</th>\n",
       "      <th>TOR_WIDTH</th>\n",
       "      <th>BEGIN_LAT</th>\n",
       "      <th>BEGIN_LON</th>\n",
       "      <th>INJURIES_DIRECT</th>\n",
       "      <th>INJURIES_INDIRECT</th>\n",
       "      <th>DEATHS_DIRECT</th>\n",
       "      <th>DEATHS_INDIRECT</th>\n",
       "      <th>DAMAGE_PROPERTY</th>\n",
       "      <th>DAMAGE_CROPS</th>\n",
       "    </tr>\n",
       "  </thead>\n",
       "  <tbody>\n",
       "    <tr>\n",
       "      <th>0</th>\n",
       "      <td>0</td>\n",
       "      <td>24.74</td>\n",
       "      <td>-124.779999</td>\n",
       "      <td>2015-01-02</td>\n",
       "      <td>HAWAII</td>\n",
       "      <td>Heavy Rain</td>\n",
       "      <td>NaN</td>\n",
       "      <td>1</td>\n",
       "      <td>-0.000008</td>\n",
       "      <td>0.0</td>\n",
       "      <td>...</td>\n",
       "      <td>NaN</td>\n",
       "      <td>NaN</td>\n",
       "      <td>21.564633</td>\n",
       "      <td>-158.380733</td>\n",
       "      <td>0.0</td>\n",
       "      <td>0.0</td>\n",
       "      <td>0.0</td>\n",
       "      <td>0.0</td>\n",
       "      <td>0.0</td>\n",
       "      <td>0.0</td>\n",
       "    </tr>\n",
       "    <tr>\n",
       "      <th>1</th>\n",
       "      <td>1</td>\n",
       "      <td>24.74</td>\n",
       "      <td>-123.939999</td>\n",
       "      <td>2015-01-02</td>\n",
       "      <td>NaN</td>\n",
       "      <td>NaN</td>\n",
       "      <td>NaN</td>\n",
       "      <td>0</td>\n",
       "      <td>-0.000013</td>\n",
       "      <td>0.0</td>\n",
       "      <td>...</td>\n",
       "      <td>NaN</td>\n",
       "      <td>NaN</td>\n",
       "      <td>NaN</td>\n",
       "      <td>NaN</td>\n",
       "      <td>0.0</td>\n",
       "      <td>0.0</td>\n",
       "      <td>0.0</td>\n",
       "      <td>0.0</td>\n",
       "      <td>0.0</td>\n",
       "      <td>0.0</td>\n",
       "    </tr>\n",
       "    <tr>\n",
       "      <th>2</th>\n",
       "      <td>2</td>\n",
       "      <td>24.74</td>\n",
       "      <td>-123.099999</td>\n",
       "      <td>2015-01-02</td>\n",
       "      <td>NaN</td>\n",
       "      <td>NaN</td>\n",
       "      <td>NaN</td>\n",
       "      <td>0</td>\n",
       "      <td>0.000003</td>\n",
       "      <td>0.0</td>\n",
       "      <td>...</td>\n",
       "      <td>NaN</td>\n",
       "      <td>NaN</td>\n",
       "      <td>NaN</td>\n",
       "      <td>NaN</td>\n",
       "      <td>0.0</td>\n",
       "      <td>0.0</td>\n",
       "      <td>0.0</td>\n",
       "      <td>0.0</td>\n",
       "      <td>0.0</td>\n",
       "      <td>0.0</td>\n",
       "    </tr>\n",
       "    <tr>\n",
       "      <th>3</th>\n",
       "      <td>3</td>\n",
       "      <td>24.74</td>\n",
       "      <td>-122.259999</td>\n",
       "      <td>2015-01-02</td>\n",
       "      <td>NaN</td>\n",
       "      <td>NaN</td>\n",
       "      <td>NaN</td>\n",
       "      <td>0</td>\n",
       "      <td>0.000005</td>\n",
       "      <td>0.0</td>\n",
       "      <td>...</td>\n",
       "      <td>NaN</td>\n",
       "      <td>NaN</td>\n",
       "      <td>NaN</td>\n",
       "      <td>NaN</td>\n",
       "      <td>0.0</td>\n",
       "      <td>0.0</td>\n",
       "      <td>0.0</td>\n",
       "      <td>0.0</td>\n",
       "      <td>0.0</td>\n",
       "      <td>0.0</td>\n",
       "    </tr>\n",
       "    <tr>\n",
       "      <th>4</th>\n",
       "      <td>4</td>\n",
       "      <td>24.74</td>\n",
       "      <td>-121.419999</td>\n",
       "      <td>2015-01-02</td>\n",
       "      <td>NaN</td>\n",
       "      <td>NaN</td>\n",
       "      <td>NaN</td>\n",
       "      <td>0</td>\n",
       "      <td>0.000002</td>\n",
       "      <td>0.0</td>\n",
       "      <td>...</td>\n",
       "      <td>NaN</td>\n",
       "      <td>NaN</td>\n",
       "      <td>NaN</td>\n",
       "      <td>NaN</td>\n",
       "      <td>0.0</td>\n",
       "      <td>0.0</td>\n",
       "      <td>0.0</td>\n",
       "      <td>0.0</td>\n",
       "      <td>0.0</td>\n",
       "      <td>0.0</td>\n",
       "    </tr>\n",
       "  </tbody>\n",
       "</table>\n",
       "<p>5 rows × 34 columns</p>\n",
       "</div>"
      ],
      "text/plain": [
       "   event_id  latitude   longitude        date   STATE  EVENT_TYPE TOR_F_SCALE  \\\n",
       "0         0     24.74 -124.779999  2015-01-02  HAWAII  Heavy Rain         NaN   \n",
       "1         1     24.74 -123.939999  2015-01-02     NaN         NaN         NaN   \n",
       "2         2     24.74 -123.099999  2015-01-02     NaN         NaN         NaN   \n",
       "3         3     24.74 -122.259999  2015-01-02     NaN         NaN         NaN   \n",
       "4         4     24.74 -121.419999  2015-01-02     NaN         NaN         NaN   \n",
       "\n",
       "   target         d   cc  ...  TOR_LENGTH  TOR_WIDTH  BEGIN_LAT   BEGIN_LON  \\\n",
       "0       1 -0.000008  0.0  ...         NaN        NaN  21.564633 -158.380733   \n",
       "1       0 -0.000013  0.0  ...         NaN        NaN        NaN         NaN   \n",
       "2       0  0.000003  0.0  ...         NaN        NaN        NaN         NaN   \n",
       "3       0  0.000005  0.0  ...         NaN        NaN        NaN         NaN   \n",
       "4       0  0.000002  0.0  ...         NaN        NaN        NaN         NaN   \n",
       "\n",
       "   INJURIES_DIRECT  INJURIES_INDIRECT  DEATHS_DIRECT  DEATHS_INDIRECT  \\\n",
       "0              0.0                0.0            0.0              0.0   \n",
       "1              0.0                0.0            0.0              0.0   \n",
       "2              0.0                0.0            0.0              0.0   \n",
       "3              0.0                0.0            0.0              0.0   \n",
       "4              0.0                0.0            0.0              0.0   \n",
       "\n",
       "   DAMAGE_PROPERTY  DAMAGE_CROPS  \n",
       "0              0.0           0.0  \n",
       "1              0.0           0.0  \n",
       "2              0.0           0.0  \n",
       "3              0.0           0.0  \n",
       "4              0.0           0.0  \n",
       "\n",
       "[5 rows x 34 columns]"
      ]
     },
     "execution_count": 136,
     "metadata": {},
     "output_type": "execute_result"
    }
   ],
   "source": [
    "# load data\n",
    "dat = pd.read_csv(\"datasets/dat.csv\", index_col = \"Unnamed: 0\")\n",
    "\n",
    "# print info on dataframe\n",
    "print(\"The dataset has {} rows and {} columns.\".format(dat.shape[0], dat.shape[1]))\n",
    "dat.head()"
   ]
  },
  {
   "cell_type": "markdown",
   "metadata": {},
   "source": [
    "## 1 Locaton outliers"
   ]
  },
  {
   "cell_type": "code",
   "execution_count": 137,
   "metadata": {},
   "outputs": [],
   "source": [
    "# calculate errors\n",
    "dat[\"err_lon\"] = abs(dat[\"BEGIN_LON\"] - dat[\"longitude\"])\n",
    "dat[\"err_lat\"] = abs(dat[\"BEGIN_LAT\"] - dat[\"latitude\"])"
   ]
  },
  {
   "cell_type": "code",
   "execution_count": 138,
   "metadata": {},
   "outputs": [
    {
     "data": {
      "image/png": "[encoded data removed]",
      "text/plain": [
       "<Figure size 432x288 with 2 Axes>"
      ]
     },
     "metadata": {
      "needs_background": "light"
     },
     "output_type": "display_data"
    }
   ],
   "source": [
    "# investigate boxplots\n",
    "f, (ax1, ax2) = plt.subplots(1,2)\n",
    "ax1.boxplot(dat[dat[\"target\"] == 1][\"err_lon\"])\n",
    "ax1.set_title(\"Boxplot for error on longitude\")\n",
    "ax2.boxplot(dat[dat[\"target\"] == 1][\"err_lat\"])\n",
    "ax2.set_title(\"Boxplot for error on latitude\")\n",
    "plt.show()"
   ]
  },
  {
   "cell_type": "code",
   "execution_count": 139,
   "metadata": {},
   "outputs": [
    {
     "name": "stdout",
     "output_type": "stream",
     "text": [
      "count    6.171900e+04\n",
      "mean     2.670099e-01\n",
      "std      1.040094e+00\n",
      "min      2.288818e-07\n",
      "25%      9.094643e-02\n",
      "50%      1.899998e-01\n",
      "75%      2.999998e-01\n",
      "max      3.910290e+01\n",
      "Name: err_lat, dtype: float64\n",
      "count    61719.000000\n",
      "mean         0.426573\n",
      "std          2.788786\n",
      "min          0.000001\n",
      "25%          0.083201\n",
      "50%          0.174901\n",
      "75%          0.289999\n",
      "max         46.125401\n",
      "Name: err_lon, dtype: float64\n"
     ]
    }
   ],
   "source": [
    "# describe the errors for latitude and longitude\n",
    "print(dat[\"err_lat\"].describe())\n",
    "print(dat[\"err_lon\"].describe())"
   ]
  },
  {
   "cell_type": "code",
   "execution_count": 140,
   "metadata": {},
   "outputs": [
    {
     "name": "stdout",
     "output_type": "stream",
     "text": [
      "The outliers for latitude are ['HAWAII' 'PUERTO RICO' 'VIRGIN ISLANDS' 'ALASKA' 'AMERICAN SAMOA'] and for longitude ['HAWAII' 'PUERTO RICO' 'VIRGIN ISLANDS' 'ALASKA' 'AMERICAN SAMOA']\n"
     ]
    }
   ],
   "source": [
    "# investigate outlier states\n",
    "lon_outliers = dat[dat[\"err_lon\"] > 1]\n",
    "lat_outliers = dat[dat[\"err_lat\"] > 1]\n",
    "\n",
    "# print\n",
    "print(\"The outliers for latitude are {} and for longitude {}\".format(lat_outliers[\"STATE\"].unique(), lon_outliers[\"STATE\"].unique()))"
   ]
  },
  {
   "cell_type": "markdown",
   "metadata": {},
   "source": [
    "- Outliers that are far away from mainland US need to be removed as we do not have accurate weather information on those remote locations."
   ]
  },
  {
   "cell_type": "code",
   "execution_count": 141,
   "metadata": {},
   "outputs": [],
   "source": [
    "# find outlier states outliers\n",
    "outlier_states = lon_outliers[\"STATE\"].unique()\n",
    "\n",
    "# find non-outlier states\n",
    "non_outlier_states = [i for i in dat[\"STATE\"].unique() if i not in outlier_states]\n",
    "\n",
    "# select non_outlier_states only\n",
    "dat = copy.deepcopy(dat[dat[\"STATE\"].isin(non_outlier_states)])\n",
    "\n",
    "# reset index\n",
    "dat.reset_index(inplace=True, drop=True)"
   ]
  },
  {
   "cell_type": "code",
   "execution_count": 142,
   "metadata": {},
   "outputs": [
    {
     "data": {
      "image/png": "[encoded data removed]",
      "text/plain": [
       "<Figure size 432x288 with 2 Axes>"
      ]
     },
     "metadata": {
      "needs_background": "light"
     },
     "output_type": "display_data"
    }
   ],
   "source": [
    "# investigate final boxplots\n",
    "f, (ax1, ax2) = plt.subplots(1,2)\n",
    "ax1.boxplot(dat[dat[\"target\"] == 1][\"err_lon\"])\n",
    "ax1.set_title(\"Boxplot for error on longitude\")\n",
    "ax2.boxplot(dat[dat[\"target\"] == 1][\"err_lat\"])\n",
    "ax2.set_title(\"Boxplot for error on latitude\")\n",
    "plt.show()"
   ]
  },
  {
   "cell_type": "code",
   "execution_count": 143,
   "metadata": {},
   "outputs": [
    {
     "name": "stdout",
     "output_type": "stream",
     "text": [
      "The error for longitude is 12.79 miles and for latitude 13.45 miles.\n",
      "The dataset now has 3777094 rows and 36 columns.\n",
      "There are 61063 severe weather events, representing 1.62% of the total dataset.\n"
     ]
    }
   ],
   "source": [
    "# investigate the error from the grid enlargement (one degree in lat/lon is approx 69 miles)\n",
    "print(\"The error for longitude is {:.2f} miles and for latitude {:.2f} miles.\".format(dat[\"err_lon\"].mean() * 69, dat[\"err_lat\"].mean() * 69))\n",
    "\n",
    "# shape of dataset\n",
    "print(\"The dataset now has {} rows and {} columns.\".format(dat.shape[0], dat.shape[1]))\n",
    "\n",
    "# balance of dataset\n",
    "print(\"There are {} severe weather events, representing {:.2f}% of the total dataset.\".format(len(dat[dat[\"target\"] == 1]), len(dat[dat[\"target\"] == 1])/len(dat)*100))"
   ]
  },
  {
   "cell_type": "code",
   "execution_count": null,
   "metadata": {},
   "outputs": [],
   "source": []
  }
 ],
 "metadata": {
  "kernelspec": {
   "display_name": "Python 3",
   "language": "python",
   "name": "python3"
  },
  "language_info": {
   "codemirror_mode": {
    "name": "ipython",
    "version": 3
   },
   "file_extension": ".py",
   "mimetype": "text/x-python",
   "name": "python",
   "nbconvert_exporter": "python",
   "pygments_lexer": "ipython3",
   "version": "3.7.3"
  }
 },
 "nbformat": 4,
 "nbformat_minor": 4
}
