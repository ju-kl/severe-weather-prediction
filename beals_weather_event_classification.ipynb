{
 "cells": [
  {
   "cell_type": "code",
   "execution_count": 133,
   "metadata": {},
   "outputs": [],
   "source": [
    "import pandas as pd\n",
    "import numpy as np\n",
    "import seaborn as sns\n",
    "import matplotlib.pyplot as plt\n",
    "import itertools\n",
    "import math\n",
    "from collections import Counter\n",
    "\n",
    "from sklearn.model_selection import train_test_split\n",
    "\n",
    "from sklearn.ensemble import RandomForestClassifier\n",
    "from imblearn.over_sampling import RandomOverSampler\n",
    "from imblearn.under_sampling import RandomUnderSampler\n",
    "from sklearn.svm import LinearSVC\n",
    "from sklearn.svm import SVC\n",
    "from sklearn.neighbors import KNeighborsClassifier\n",
    "from sklearn.metrics import confusion_matrix\n",
    "from sklearn.metrics import classification_report\n",
    "from sklearn.metrics import roc_auc_score\n",
    "from sklearn.model_selection import GridSearchCV\n",
    "from sklearn import datasets, metrics, model_selection\n"
   ]
  },
  {
   "cell_type": "markdown",
   "metadata": {},
   "source": [
    "# Weather Event Classification - Brea Beals\n",
    "\n",
    "\n",
    "### Objective: \n",
    "\n",
    "For this project, we explore the extreme weather events in our dataset. Extreme weather events are defined as weather events that result in damage or inury. Our objective is to classify extreme weather events by type. For this project we will only examine the top 3 weather events: \n",
    "\n",
    "* Thunderstorm Wind\n",
    "* Hail\n",
    "* Flood\n",
    "\n",
    "### Methodology: \n",
    "This notebook follows the following structure: \n",
    "\n",
    "__Part I: Data Preparation__\n",
    "\n",
    "As mentioned above, the three severe weather events considered in this classification task are Thunderstorm Wind, Hail, and Flood. Prior data prepartation was done in the notebook '01_data_preparation.ipynb', and prior feature engineering and selection were done in the notebook '03_feature_engineering.ipynb', which can be located in the github repository along with this notebook.\n",
    "\n",
    "__Part II: Modeling__\n",
    "\n",
    "For each model performance was determined by examining the confusion matrix and classfication report on both the test data and the training data. Overall accuracy, generalization gap, macro average test accuracy, and weighted average test accuracy were specifically examined to determie the model that performed best at overall classfication.\n",
    "\n",
    "    a) Base Model: Random Forest Classifier\n",
    "    b) Tuned Random Forest Classifier\n",
    "    c) Logistic Regression Classifier (using one-vs-rest)\n",
    "    d) AdaBoost Classifier\n",
    "    e) KNeighbors Classifier\n",
    "    f) XGBoost Classifier\n",
    "    \n",
    "__Part III: Applying PCA__\n",
    "\n",
    "PCA is applied to one of the top performing models. The number of components was selected in order to maintian cumulative explained variance of over 90%. \n",
    "\n",
    "__Part IV: Applying Sampling Techniques__\n",
    "\n",
    "These techniques are applied to the best performing model. Random Undersampling was used as the Undersampling technique and SMOTE was used as the Oversampling technique.\n",
    "\n",
    "    a) Undersampling\n",
    "    b) Oversampling\n",
    "\n",
    "__Part V: Summary__\n",
    "\n",
    "    a) Model Overview\n",
    "    b) Future Considerations\n"
   ]
  },
  {
   "cell_type": "markdown",
   "metadata": {},
   "source": [
    "# Part I: Data Preparation"
   ]
  },
  {
   "cell_type": "code",
   "execution_count": 134,
   "metadata": {},
   "outputs": [
    {
     "name": "stderr",
     "output_type": "stream",
     "text": [
      "/Users/breabeals/opt/anaconda3/lib/python3.7/site-packages/IPython/core/interactiveshell.py:3063: DtypeWarning: Columns (3) have mixed types.Specify dtype option on import or set low_memory=False.\n",
      "  interactivity=interactivity, compiler=compiler, result=result)\n",
      "/Users/breabeals/opt/anaconda3/lib/python3.7/site-packages/numpy/lib/arraysetops.py:569: FutureWarning: elementwise comparison failed; returning scalar instead, but in the future will perform elementwise comparison\n",
      "  mask |= (ar1 == a)\n"
     ]
    }
   ],
   "source": [
    "# loading data\n",
    "df = pd.read_csv(\"dat_fe.csv\", index_col = \"Unnamed: 0\")"
   ]
  },
  {
   "cell_type": "code",
   "execution_count": 135,
   "metadata": {},
   "outputs": [
    {
     "data": {
      "text/html": [
       "<div>\n",
       "<style scoped>\n",
       "    .dataframe tbody tr th:only-of-type {\n",
       "        vertical-align: middle;\n",
       "    }\n",
       "\n",
       "    .dataframe tbody tr th {\n",
       "        vertical-align: top;\n",
       "    }\n",
       "\n",
       "    .dataframe thead th {\n",
       "        text-align: right;\n",
       "    }\n",
       "</style>\n",
       "<table border=\"1\" class=\"dataframe\">\n",
       "  <thead>\n",
       "    <tr style=\"text-align: right;\">\n",
       "      <th></th>\n",
       "      <th>latitude</th>\n",
       "      <th>longitude</th>\n",
       "      <th>EVENT_TYPE</th>\n",
       "      <th>INJURIES_DIRECT</th>\n",
       "      <th>INJURIES_INDIRECT</th>\n",
       "      <th>DEATHS_DIRECT</th>\n",
       "      <th>DEATHS_INDIRECT</th>\n",
       "      <th>DAMAGE_PROPERTY</th>\n",
       "      <th>DAMAGE_CROPS</th>\n",
       "      <th>fraction_cloud_cover</th>\n",
       "      <th>...</th>\n",
       "      <th>fraction_cloud_cover_10_day_min</th>\n",
       "      <th>relative_humidity_10_day_min</th>\n",
       "      <th>temperature_10_day_min</th>\n",
       "      <th>u_component_wind_10_day_min</th>\n",
       "      <th>v_component_wind_10_day_min</th>\n",
       "      <th>vertical_velocity_10_day_min</th>\n",
       "      <th>geo_cluster</th>\n",
       "      <th>year</th>\n",
       "      <th>month</th>\n",
       "      <th>day</th>\n",
       "    </tr>\n",
       "  </thead>\n",
       "  <tbody>\n",
       "    <tr>\n",
       "      <th>0</th>\n",
       "      <td>24.74</td>\n",
       "      <td>-124.779999</td>\n",
       "      <td>NaN</td>\n",
       "      <td>0.0</td>\n",
       "      <td>0.0</td>\n",
       "      <td>0.0</td>\n",
       "      <td>0.0</td>\n",
       "      <td>0.0</td>\n",
       "      <td>0.0</td>\n",
       "      <td>NaN</td>\n",
       "      <td>...</td>\n",
       "      <td>NaN</td>\n",
       "      <td>NaN</td>\n",
       "      <td>NaN</td>\n",
       "      <td>NaN</td>\n",
       "      <td>NaN</td>\n",
       "      <td>NaN</td>\n",
       "      <td>0</td>\n",
       "      <td>2015</td>\n",
       "      <td>1</td>\n",
       "      <td>4</td>\n",
       "    </tr>\n",
       "    <tr>\n",
       "      <th>1</th>\n",
       "      <td>24.74</td>\n",
       "      <td>-124.779999</td>\n",
       "      <td>NaN</td>\n",
       "      <td>0.0</td>\n",
       "      <td>0.0</td>\n",
       "      <td>0.0</td>\n",
       "      <td>0.0</td>\n",
       "      <td>0.0</td>\n",
       "      <td>0.0</td>\n",
       "      <td>0.0</td>\n",
       "      <td>...</td>\n",
       "      <td>0.0</td>\n",
       "      <td>7.532600</td>\n",
       "      <td>265.40286</td>\n",
       "      <td>-1.206722</td>\n",
       "      <td>-13.830118</td>\n",
       "      <td>0.329384</td>\n",
       "      <td>0</td>\n",
       "      <td>2015</td>\n",
       "      <td>1</td>\n",
       "      <td>5</td>\n",
       "    </tr>\n",
       "    <tr>\n",
       "      <th>2</th>\n",
       "      <td>24.74</td>\n",
       "      <td>-124.779999</td>\n",
       "      <td>NaN</td>\n",
       "      <td>0.0</td>\n",
       "      <td>0.0</td>\n",
       "      <td>0.0</td>\n",
       "      <td>0.0</td>\n",
       "      <td>0.0</td>\n",
       "      <td>0.0</td>\n",
       "      <td>0.0</td>\n",
       "      <td>...</td>\n",
       "      <td>0.0</td>\n",
       "      <td>7.532600</td>\n",
       "      <td>264.13422</td>\n",
       "      <td>-1.702287</td>\n",
       "      <td>-13.830118</td>\n",
       "      <td>0.310506</td>\n",
       "      <td>0</td>\n",
       "      <td>2015</td>\n",
       "      <td>1</td>\n",
       "      <td>6</td>\n",
       "    </tr>\n",
       "    <tr>\n",
       "      <th>3</th>\n",
       "      <td>24.74</td>\n",
       "      <td>-124.779999</td>\n",
       "      <td>NaN</td>\n",
       "      <td>0.0</td>\n",
       "      <td>0.0</td>\n",
       "      <td>0.0</td>\n",
       "      <td>0.0</td>\n",
       "      <td>0.0</td>\n",
       "      <td>0.0</td>\n",
       "      <td>0.0</td>\n",
       "      <td>...</td>\n",
       "      <td>0.0</td>\n",
       "      <td>7.018421</td>\n",
       "      <td>263.48780</td>\n",
       "      <td>-3.931420</td>\n",
       "      <td>-13.830118</td>\n",
       "      <td>-0.045236</td>\n",
       "      <td>0</td>\n",
       "      <td>2015</td>\n",
       "      <td>1</td>\n",
       "      <td>7</td>\n",
       "    </tr>\n",
       "    <tr>\n",
       "      <th>4</th>\n",
       "      <td>24.74</td>\n",
       "      <td>-124.779999</td>\n",
       "      <td>NaN</td>\n",
       "      <td>0.0</td>\n",
       "      <td>0.0</td>\n",
       "      <td>0.0</td>\n",
       "      <td>0.0</td>\n",
       "      <td>0.0</td>\n",
       "      <td>0.0</td>\n",
       "      <td>0.0</td>\n",
       "      <td>...</td>\n",
       "      <td>0.0</td>\n",
       "      <td>7.018421</td>\n",
       "      <td>261.52145</td>\n",
       "      <td>-3.931420</td>\n",
       "      <td>-13.830118</td>\n",
       "      <td>-0.089284</td>\n",
       "      <td>0</td>\n",
       "      <td>2015</td>\n",
       "      <td>1</td>\n",
       "      <td>8</td>\n",
       "    </tr>\n",
       "  </tbody>\n",
       "</table>\n",
       "<p>5 rows × 43 columns</p>\n",
       "</div>"
      ],
      "text/plain": [
       "   latitude   longitude EVENT_TYPE  INJURIES_DIRECT  INJURIES_INDIRECT  \\\n",
       "0     24.74 -124.779999        NaN              0.0                0.0   \n",
       "1     24.74 -124.779999        NaN              0.0                0.0   \n",
       "2     24.74 -124.779999        NaN              0.0                0.0   \n",
       "3     24.74 -124.779999        NaN              0.0                0.0   \n",
       "4     24.74 -124.779999        NaN              0.0                0.0   \n",
       "\n",
       "   DEATHS_DIRECT  DEATHS_INDIRECT  DAMAGE_PROPERTY  DAMAGE_CROPS  \\\n",
       "0            0.0              0.0              0.0           0.0   \n",
       "1            0.0              0.0              0.0           0.0   \n",
       "2            0.0              0.0              0.0           0.0   \n",
       "3            0.0              0.0              0.0           0.0   \n",
       "4            0.0              0.0              0.0           0.0   \n",
       "\n",
       "   fraction_cloud_cover  ...  fraction_cloud_cover_10_day_min  \\\n",
       "0                   NaN  ...                              NaN   \n",
       "1                   0.0  ...                              0.0   \n",
       "2                   0.0  ...                              0.0   \n",
       "3                   0.0  ...                              0.0   \n",
       "4                   0.0  ...                              0.0   \n",
       "\n",
       "   relative_humidity_10_day_min  temperature_10_day_min  \\\n",
       "0                           NaN                     NaN   \n",
       "1                      7.532600               265.40286   \n",
       "2                      7.532600               264.13422   \n",
       "3                      7.018421               263.48780   \n",
       "4                      7.018421               261.52145   \n",
       "\n",
       "   u_component_wind_10_day_min  v_component_wind_10_day_min  \\\n",
       "0                          NaN                          NaN   \n",
       "1                    -1.206722                   -13.830118   \n",
       "2                    -1.702287                   -13.830118   \n",
       "3                    -3.931420                   -13.830118   \n",
       "4                    -3.931420                   -13.830118   \n",
       "\n",
       "   vertical_velocity_10_day_min  geo_cluster  year  month  day  \n",
       "0                           NaN            0  2015      1    4  \n",
       "1                      0.329384            0  2015      1    5  \n",
       "2                      0.310506            0  2015      1    6  \n",
       "3                     -0.045236            0  2015      1    7  \n",
       "4                     -0.089284            0  2015      1    8  \n",
       "\n",
       "[5 rows x 43 columns]"
      ]
     },
     "execution_count": 135,
     "metadata": {},
     "output_type": "execute_result"
    }
   ],
   "source": [
    "df.head()"
   ]
  },
  {
   "cell_type": "code",
   "execution_count": 136,
   "metadata": {},
   "outputs": [
    {
     "name": "stdout",
     "output_type": "stream",
     "text": [
      "Number of extreme weather events: 61063\n"
     ]
    }
   ],
   "source": [
    "print(\"Number of extreme weather events: {}\".format(df.EVENT_TYPE.value_counts().sum()))"
   ]
  },
  {
   "cell_type": "code",
   "execution_count": 137,
   "metadata": {},
   "outputs": [
    {
     "name": "stdout",
     "output_type": "stream",
     "text": [
      "Number of extreme weather events by category:\n",
      "Thunderstorm Wind           23471\n",
      "Hail                        14619\n",
      "Flash Flood                  6885\n",
      "Flood                        6807\n",
      "Marine Thunderstorm Wind     4027\n",
      "Heavy Rain                   2276\n",
      "Tornado                      2015\n",
      "Lightning                     963\n",
      "Name: EVENT_TYPE, dtype: int64\n"
     ]
    }
   ],
   "source": [
    "print(\"Number of extreme weather events by category:\\n{}\".format(df.EVENT_TYPE.value_counts()))"
   ]
  },
  {
   "cell_type": "code",
   "execution_count": 138,
   "metadata": {},
   "outputs": [],
   "source": [
    "#copying the dataset before altering\n",
    "df_events = df.copy()"
   ]
  },
  {
   "cell_type": "markdown",
   "metadata": {},
   "source": [
    "For this project we are making the assumption that \"Marine Thunderstorm Wind\" and \"Thunderstorm Wind\" can be combined into one category, as well as \"Flash Flood\" and \"Flood.\""
   ]
  },
  {
   "cell_type": "code",
   "execution_count": 139,
   "metadata": {},
   "outputs": [],
   "source": [
    "#combining thunderstorm wind with marine thunderstorm wind\n",
    "df_events[\"EVENT_TYPE\"]= df_events[\"EVENT_TYPE\"].str.replace(\"Marine Thunderstorm Wind\", \"Thunderstorm Wind\")\n",
    "\n",
    "#combining flash flood with flood\n",
    "df_events[\"EVENT_TYPE\"]= df_events[\"EVENT_TYPE\"].str.replace(\"Flash Flood\", \"Flood\") "
   ]
  },
  {
   "cell_type": "code",
   "execution_count": 140,
   "metadata": {},
   "outputs": [
    {
     "data": {
      "text/plain": [
       "Thunderstorm Wind    27498\n",
       "Hail                 14619\n",
       "Flood                13692\n",
       "Heavy Rain            2276\n",
       "Tornado               2015\n",
       "Lightning              963\n",
       "Name: EVENT_TYPE, dtype: int64"
      ]
     },
     "execution_count": 140,
     "metadata": {},
     "output_type": "execute_result"
    }
   ],
   "source": [
    "df_events.EVENT_TYPE.value_counts()"
   ]
  },
  {
   "cell_type": "code",
   "execution_count": 141,
   "metadata": {},
   "outputs": [
    {
     "data": {
      "text/plain": [
       "Thunderstorm Wind    27498\n",
       "Hail                 14619\n",
       "Flood                13692\n",
       "Name: EVENT_TYPE, dtype: int64"
      ]
     },
     "execution_count": 141,
     "metadata": {},
     "output_type": "execute_result"
    }
   ],
   "source": [
    "df_events = df_events[df_events.EVENT_TYPE.isin([\"Thunderstorm Wind\", \"Hail\", \"Flood\"])]\n",
    "df_events.EVENT_TYPE.value_counts()"
   ]
  },
  {
   "cell_type": "code",
   "execution_count": 142,
   "metadata": {},
   "outputs": [],
   "source": [
    "#dropping nas\n",
    "df_events = df_events.dropna()\n",
    "#dropping all injury/damage realted columns as well as year and day\n",
    "df_events = df_events.drop([\"INJURIES_DIRECT\", \"INJURIES_INDIRECT\", \"DEATHS_DIRECT\", \"DEATHS_INDIRECT\", \"DAMAGE_PROPERTY\", \"DAMAGE_CROPS\",\"year\", \"day\"], axis = 1)"
   ]
  },
  {
   "cell_type": "markdown",
   "metadata": {},
   "source": [
    "The weather event data is imblananced between the three classes. We will model this multi-class classification with the imbalanced data first, then apply different balancing methods to see if the model can be improved. "
   ]
  },
  {
   "cell_type": "code",
   "execution_count": 143,
   "metadata": {},
   "outputs": [],
   "source": [
    "#For modeling with a multi-class classifier\n",
    "\n",
    "#Multiclass\n",
    "\n",
    "y = df_events[[\"EVENT_TYPE\"]]\n",
    "X = df_events.drop([\"EVENT_TYPE\"], axis = 1)"
   ]
  },
  {
   "cell_type": "code",
   "execution_count": 144,
   "metadata": {},
   "outputs": [],
   "source": [
    "# Set seed for reproducibility\n",
    "SEED = 1\n",
    "# split data into train and test \n",
    "X_train, X_test, y_train, y_test = train_test_split(X, y, \n",
    "                                                    test_size = 0.3, \n",
    "                                                    random_state = SEED)"
   ]
  },
  {
   "cell_type": "code",
   "execution_count": 145,
   "metadata": {},
   "outputs": [],
   "source": [
    "from sklearn.preprocessing import StandardScaler\n",
    "std_scaler = StandardScaler()\n",
    "\n",
    "X_train_scaled = std_scaler.fit_transform(X_train)\n",
    "X_test_scaled = std_scaler.transform(X_test)"
   ]
  },
  {
   "cell_type": "markdown",
   "metadata": {},
   "source": [
    "# Part II: Modeling"
   ]
  },
  {
   "cell_type": "markdown",
   "metadata": {},
   "source": [
    "## A) Multiclass Classification: Random Forest Base Model"
   ]
  },
  {
   "cell_type": "code",
   "execution_count": 146,
   "metadata": {},
   "outputs": [
    {
     "name": "stderr",
     "output_type": "stream",
     "text": [
      "/Users/breabeals/opt/anaconda3/lib/python3.7/site-packages/ipykernel_launcher.py:6: DataConversionWarning: A column-vector y was passed when a 1d array was expected. Please change the shape of y to (n_samples,), for example using ravel().\n",
      "  \n"
     ]
    },
    {
     "data": {
      "text/plain": [
       "RandomForestClassifier(bootstrap=True, ccp_alpha=0.0, class_weight=None,\n",
       "                       criterion='gini', max_depth=None, max_features='auto',\n",
       "                       max_leaf_nodes=None, max_samples=None,\n",
       "                       min_impurity_decrease=0.0, min_impurity_split=None,\n",
       "                       min_samples_leaf=1, min_samples_split=2,\n",
       "                       min_weight_fraction_leaf=0.0, n_estimators=100,\n",
       "                       n_jobs=None, oob_score=False, random_state=1, verbose=0,\n",
       "                       warm_start=False)"
      ]
     },
     "execution_count": 146,
     "metadata": {},
     "output_type": "execute_result"
    }
   ],
   "source": [
    "# Set seed for reproducibility\n",
    "SEED = 1\n",
    "\n",
    "#fitting Random Forest Classifier model\n",
    "rf = RandomForestClassifier(random_state=SEED)\n",
    "rf.fit(X_train_scaled,y_train)"
   ]
  },
  {
   "cell_type": "code",
   "execution_count": 147,
   "metadata": {},
   "outputs": [],
   "source": [
    "#predicted classes for rf baseline model\n",
    "y_pred_base = rf.predict(X_test_scaled)"
   ]
  },
  {
   "cell_type": "code",
   "execution_count": 148,
   "metadata": {},
   "outputs": [
    {
     "name": "stdout",
     "output_type": "stream",
     "text": [
      "Text(0.5, 1, 'Random Forest MultiClass Base Model - Test Data')\n",
      "                   precision    recall  f1-score   support\n",
      "\n",
      "            Flood       0.76      0.57      0.65      3989\n",
      "             Hail       0.63      0.58      0.60      4387\n",
      "Thunderstorm Wind       0.70      0.81      0.75      8360\n",
      "\n",
      "         accuracy                           0.69     16736\n",
      "        macro avg       0.70      0.65      0.67     16736\n",
      "     weighted avg       0.70      0.69      0.69     16736\n",
      "\n"
     ]
    },
    {
     "data": {
      "image/png": "[encoded data removed]",
      "text/plain": [
       "<Figure size 432x288 with 2 Axes>"
      ]
     },
     "metadata": {
      "needs_background": "light"
     },
     "output_type": "display_data"
    }
   ],
   "source": [
    "#Test Data: Base Model\n",
    "\n",
    "#confusion matrix for rf base model\n",
    "test_matrix_base = confusion_matrix(y_test, y_pred_base)\n",
    "\n",
    "#plotting heatmap confusion matrix\n",
    "print(sns.heatmap(test_matrix_base, annot=True, cmap=\"YlGnBu\",fmt=\"d\").set_title(\n",
    "'Random Forest MultiClass Base Model - Test Data'))\n",
    "\n",
    "\n",
    "#classification report for rf base model\n",
    "test_report_base = classification_report(y_test, y_pred_base)\n",
    "print(test_report_base)"
   ]
  },
  {
   "cell_type": "code",
   "execution_count": 55,
   "metadata": {},
   "outputs": [
    {
     "name": "stdout",
     "output_type": "stream",
     "text": [
      "Text(0.5, 1, 'Random Forest MultiClass Base Model - Train Data')\n",
      "                   precision    recall  f1-score   support\n",
      "\n",
      "            Flood       1.00      1.00      1.00      9691\n",
      "             Hail       1.00      1.00      1.00     10232\n",
      "Thunderstorm Wind       1.00      1.00      1.00     19125\n",
      "\n",
      "         accuracy                           1.00     39048\n",
      "        macro avg       1.00      1.00      1.00     39048\n",
      "     weighted avg       1.00      1.00      1.00     39048\n",
      "\n"
     ]
    },
    {
     "data": {
      "image/png": "[encoded data removed]",
      "text/plain": [
       "<Figure size 432x288 with 2 Axes>"
      ]
     },
     "metadata": {
      "needs_background": "light"
     },
     "output_type": "display_data"
    }
   ],
   "source": [
    "#training data prediction\n",
    "#predicted classes for rf baseline model \n",
    "y_tpred_base = rf.predict(X_train_scaled)\n",
    "\n",
    "train_matrix_base = confusion_matrix(y_train, y_tpred_base)\n",
    "\n",
    "#plotting heatmap confusion matrix\n",
    "print(sns.heatmap(train_matrix_base, annot=True, cmap=\"Blues\",fmt=\"d\").set_title(\n",
    "'Random Forest MultiClass Base Model - Train Data'))\n",
    "\n",
    "#classification report for rf base model\n",
    "train_report_base = classification_report(y_train, y_tpred_base)\n",
    "print(train_report_base)"
   ]
  },
  {
   "cell_type": "markdown",
   "metadata": {},
   "source": [
    "Clearly this model is extremely overfit. We will do some hyperparameter tuning to improve the model. "
   ]
  },
  {
   "cell_type": "code",
   "execution_count": 45,
   "metadata": {},
   "outputs": [
    {
     "data": {
      "image/png": "[encoded data removed]",
      "text/plain": [
       "<Figure size 432x288 with 1 Axes>"
      ]
     },
     "metadata": {
      "needs_background": "light"
     },
     "output_type": "display_data"
    },
    {
     "name": "stdout",
     "output_type": "stream",
     "text": [
      "The top 5 feautres for the Random Forest Base Model: \n",
      "longitude                  0.071689\n",
      "temperature                0.044652\n",
      "temperature_10_day_mean    0.039563\n",
      "v_component_wind           0.036548\n",
      "temperature_10_day_max     0.036548\n",
      "dtype: float64\n"
     ]
    }
   ],
   "source": [
    "# Create a pd.Series of features importances\n",
    "importances_rf = pd.Series(rf.feature_importances_,\n",
    "index = X_train.columns)\n",
    "# Sort importances_rf - top 5\n",
    "sorted_importances_rf = importances_rf.sort_values(ascending = False)[:5]\n",
    "# Make a horizontal bar plot\n",
    "sorted_importances_rf.plot(kind='barh', color='blue')\n",
    "plt.title(\"Base Model Top 5 Features\")\n",
    "plt.show()\n",
    "\n",
    "print(\"The top 5 feautres for the Random Forest Base Model: \\n{}\".format(sorted_importances_rf))"
   ]
  },
  {
   "cell_type": "markdown",
   "metadata": {},
   "source": [
    "## B) Multiclass Classification: Random Searched Random Forest"
   ]
  },
  {
   "cell_type": "code",
   "execution_count": 51,
   "metadata": {},
   "outputs": [
    {
     "name": "stdout",
     "output_type": "stream",
     "text": [
      "Fitting 5 folds for each of 10 candidates, totalling 50 fits\n"
     ]
    },
    {
     "name": "stderr",
     "output_type": "stream",
     "text": [
      "[Parallel(n_jobs=-1)]: Using backend LokyBackend with 8 concurrent workers.\n",
      "[Parallel(n_jobs=-1)]: Done  16 tasks      | elapsed:   53.9s\n",
      "[Parallel(n_jobs=-1)]: Done  50 out of  50 | elapsed:  3.0min finished\n",
      "/Users/breabeals/opt/anaconda3/lib/python3.7/site-packages/sklearn/model_selection/_search.py:739: DataConversionWarning: A column-vector y was passed when a 1d array was expected. Please change the shape of y to (n_samples,), for example using ravel().\n",
      "  self.best_estimator_.fit(X, y, **fit_params)\n"
     ]
    },
    {
     "data": {
      "text/plain": [
       "RandomizedSearchCV(cv=5, error_score=nan,\n",
       "                   estimator=RandomForestClassifier(bootstrap=True,\n",
       "                                                    ccp_alpha=0.0,\n",
       "                                                    class_weight=None,\n",
       "                                                    criterion='gini',\n",
       "                                                    max_depth=None,\n",
       "                                                    max_features='auto',\n",
       "                                                    max_leaf_nodes=None,\n",
       "                                                    max_samples=None,\n",
       "                                                    min_impurity_decrease=0.0,\n",
       "                                                    min_impurity_split=None,\n",
       "                                                    min_samples_leaf=1,\n",
       "                                                    min_samples_split=2,\n",
       "                                                    min_weight_fraction_leaf=0.0,\n",
       "                                                    n_estimators=100,\n",
       "                                                    n_jobs=None,\n",
       "                                                    oob_score=False,\n",
       "                                                    random_state=1, verbose=0,\n",
       "                                                    warm_start=False),\n",
       "                   iid='deprecated', n_iter=10, n_jobs=-1,\n",
       "                   param_distributions={'max_depth': [2, 4, 5, 6, 7, 8],\n",
       "                                        'max_features': ['auto', 'sqrt',\n",
       "                                                         'log2'],\n",
       "                                        'n_estimators': [100, 200, 500]},\n",
       "                   pre_dispatch='2*n_jobs', random_state=None, refit=True,\n",
       "                   return_train_score=False, scoring='accuracy', verbose=3)"
      ]
     },
     "execution_count": 51,
     "metadata": {},
     "output_type": "execute_result"
    }
   ],
   "source": [
    "from sklearn.model_selection import RandomizedSearchCV\n",
    "\n",
    "random_grid = { \n",
    "    'n_estimators': [100, 200, 500],\n",
    "    'max_features': ['auto', 'sqrt', 'log2'],\n",
    "    'max_depth' : [2,4,5,6,7,8]\n",
    "}\n",
    "\n",
    "\n",
    "#fitting Random Forest Classifier model\n",
    "rf_gs = RandomForestClassifier(random_state=SEED)\n",
    "\n",
    "# Create gridsearch object with various combinations of parameters\n",
    "rf_gs = RandomizedSearchCV(rf, random_grid, cv = 5, \n",
    "                       scoring = 'accuracy', \n",
    "                       verbose=3,\n",
    "                       n_jobs = -1)\n",
    "\n",
    "rf_gs.fit(X_train_scaled,y_train)"
   ]
  },
  {
   "cell_type": "code",
   "execution_count": 47,
   "metadata": {},
   "outputs": [],
   "source": [
    "#best performing model\n",
    "rf_gs = rf_gs.best_estimator_"
   ]
  },
  {
   "cell_type": "code",
   "execution_count": 48,
   "metadata": {},
   "outputs": [],
   "source": [
    "#saving model\n",
    "import pickle\n",
    "filename = 'rf_gs.sav'\n",
    "pickle.dump(rf_gs, open(filename, 'wb'))"
   ]
  },
  {
   "cell_type": "code",
   "execution_count": 30,
   "metadata": {},
   "outputs": [],
   "source": [
    "# load the model from disk\n",
    "rf_gs = pickle.load(open('rf_gs.sav', 'rb'))"
   ]
  },
  {
   "cell_type": "code",
   "execution_count": 31,
   "metadata": {},
   "outputs": [
    {
     "name": "stdout",
     "output_type": "stream",
     "text": [
      "Text(0.5, 1, 'Random Forest MultiClass GridSearch Model - Test Data')\n",
      "                   precision    recall  f1-score   support\n",
      "\n",
      "            Flood       0.73      0.40      0.51      3989\n",
      "             Hail       0.57      0.50      0.53      4387\n",
      "Thunderstorm Wind       0.63      0.81      0.71      8360\n",
      "\n",
      "         accuracy                           0.63     16736\n",
      "        macro avg       0.64      0.57      0.59     16736\n",
      "     weighted avg       0.64      0.63      0.62     16736\n",
      "\n"
     ]
    },
    {
     "data": {
      "image/png": "[encoded data removed]",
      "text/plain": [
       "<Figure size 432x288 with 2 Axes>"
      ]
     },
     "metadata": {
      "needs_background": "light"
     },
     "output_type": "display_data"
    }
   ],
   "source": [
    "#Test Data: Random Forest Grid Search\n",
    "\n",
    "#predicted classes for rf grid search model\n",
    "y_pred_base_gs = rf_gs.predict(X_test_scaled)\n",
    "\n",
    "#confusion matrix for rf gs model\n",
    "test_matrix_base_gs = confusion_matrix(y_test, y_pred_base_gs)\n",
    "\n",
    "#plotting heatmap confusion matrix\n",
    "print(sns.heatmap(test_matrix_base_gs, annot=True, cmap=\"YlGnBu\",fmt=\"d\").set_title(\n",
    "'Random Forest MultiClass GridSearch Model - Test Data'))\n",
    "\n",
    "\n",
    "#classification report for rf gs model\n",
    "test_report_base_gs = classification_report(y_test, y_pred_base_gs)\n",
    "print(test_report_base_gs)"
   ]
  },
  {
   "cell_type": "code",
   "execution_count": 32,
   "metadata": {},
   "outputs": [
    {
     "name": "stdout",
     "output_type": "stream",
     "text": [
      "Text(0.5, 1, 'Random Forest MultiClass GridSearch Model - Test Data')\n",
      "                   precision    recall  f1-score   support\n",
      "\n",
      "            Flood       0.80      0.44      0.57      9691\n",
      "             Hail       0.61      0.53      0.57     10232\n",
      "Thunderstorm Wind       0.65      0.84      0.73     19125\n",
      "\n",
      "         accuracy                           0.66     39048\n",
      "        macro avg       0.69      0.61      0.62     39048\n",
      "     weighted avg       0.68      0.66      0.65     39048\n",
      "\n"
     ]
    },
    {
     "data": {
      "image/png": "[encoded data removed]",
      "text/plain": [
       "<Figure size 432x288 with 2 Axes>"
      ]
     },
     "metadata": {
      "needs_background": "light"
     },
     "output_type": "display_data"
    }
   ],
   "source": [
    "#Training Data: Random Forest Grid Search\n",
    "\n",
    "#predicted classes for rf grid search model\n",
    "y_tpred_base_gs = rf_gs.predict(X_train_scaled)\n",
    "\n",
    "#confusion matrix for rf gs model\n",
    "train_matrix_base_gs = confusion_matrix(y_train, y_tpred_base_gs)\n",
    "\n",
    "#plotting heatmap confusion matrix\n",
    "print(sns.heatmap(train_matrix_base_gs, annot=True, cmap=\"YlGnBu\",fmt=\"d\").set_title(\n",
    "'Random Forest MultiClass GridSearch Model - Test Data'))\n",
    "\n",
    "\n",
    "#classification report for rf gs model\n",
    "train_report_base_gs = classification_report(y_train, y_tpred_base_gs)\n",
    "print(train_report_base_gs)"
   ]
  },
  {
   "cell_type": "markdown",
   "metadata": {},
   "source": [
    "We have substantially improved the overfitting from the base model. Our grid searched model has an accuracy of 63% and a weighted accuracy of 62% on the test data. Based on the f1 scores, the harmonic mean between precision and recall, the model is best performing on \"Thunderstorm Wind\" - which makes sense because it is the class with the most instances. Below we look at which features are most imporatant in our classification: "
   ]
  },
  {
   "cell_type": "code",
   "execution_count": 33,
   "metadata": {},
   "outputs": [
    {
     "data": {
      "image/png": "[encoded data removed]",
      "text/plain": [
       "<Figure size 432x288 with 1 Axes>"
      ]
     },
     "metadata": {
      "needs_background": "light"
     },
     "output_type": "display_data"
    },
    {
     "name": "stdout",
     "output_type": "stream",
     "text": [
      "The top 5 feautres for the Random Forest with Search: \n",
      "longitude                  0.201994\n",
      "geo_cluster                0.074837\n",
      "temperature                0.074837\n",
      "temperature_10_day_mean    0.053511\n",
      "temperature_10_day_max     0.047504\n",
      "dtype: float64\n"
     ]
    }
   ],
   "source": [
    "# Create a pd.Series of features importances\n",
    "importances_rf_gs = pd.Series(rf_gs.feature_importances_,\n",
    "index = X_train.columns)\n",
    "# Sort importances_rf - top 5\n",
    "sorted_importances_rf_gs = importances_rf_gs.sort_values(ascending = False)[:5]\n",
    "# Make a horizontal bar plot\n",
    "sorted_importances_rf_gs.plot(kind='barh', color='blue')\n",
    "plt.title(\"Random Forest with Search: Top 5 Features\")\n",
    "plt.show()\n",
    "\n",
    "print(\"The top 5 feautres for the Random Forest with Search: \\n{}\".format(sorted_importances_rf_gs))"
   ]
  },
  {
   "cell_type": "markdown",
   "metadata": {},
   "source": [
    "It is interesitng to note that while longitude still remains the most important feautre, geo_cluster (which was not even in the top 5 before) is now the second most important feature. "
   ]
  },
  {
   "cell_type": "code",
   "execution_count": 57,
   "metadata": {},
   "outputs": [
    {
     "data": {
      "text/plain": [
       "geo_cluster  EVENT_TYPE       \n",
       "0            Hail                   940\n",
       "             Thunderstorm Wind     1361\n",
       "1            Hail                  2388\n",
       "             Thunderstorm Wind    12695\n",
       "2            Hail                  7559\n",
       "             Thunderstorm Wind     6562\n",
       "3            Hail                  3732\n",
       "             Thunderstorm Wind     6867\n",
       "dtype: int64"
      ]
     },
     "execution_count": 57,
     "metadata": {},
     "output_type": "execute_result"
    }
   ],
   "source": [
    "#exploring the distribution of each of the event types within each geo_cluster\n",
    "df_events.groupby(['geo_cluster', 'EVENT_TYPE']).size()"
   ]
  },
  {
   "cell_type": "markdown",
   "metadata": {},
   "source": [
    "It appears that there are a disproportionate amount of Thunderstorm Wind events in geo_cluster 1, and a disproportionate amount of Floods in geo_cluster 0, and a dispropotionate amount of Hail events in geo_cluster 2. geo_cluster 3 follows the same distribution as the data. This indicates that geo_cluster will be extremely imporant in classification. \n",
    "\n",
    "Longitude is also an extremely important factor. I explore the longitude distribution below: "
   ]
  },
  {
   "cell_type": "code",
   "execution_count": 54,
   "metadata": {},
   "outputs": [
    {
     "data": {
      "text/html": [
       "<div>\n",
       "<style scoped>\n",
       "    .dataframe tbody tr th:only-of-type {\n",
       "        vertical-align: middle;\n",
       "    }\n",
       "\n",
       "    .dataframe tbody tr th {\n",
       "        vertical-align: top;\n",
       "    }\n",
       "\n",
       "    .dataframe thead th {\n",
       "        text-align: right;\n",
       "    }\n",
       "</style>\n",
       "<table border=\"1\" class=\"dataframe\">\n",
       "  <thead>\n",
       "    <tr style=\"text-align: right;\">\n",
       "      <th></th>\n",
       "      <th>count</th>\n",
       "      <th>mean</th>\n",
       "      <th>std</th>\n",
       "      <th>min</th>\n",
       "      <th>25%</th>\n",
       "      <th>50%</th>\n",
       "      <th>75%</th>\n",
       "      <th>max</th>\n",
       "    </tr>\n",
       "    <tr>\n",
       "      <th>EVENT_TYPE</th>\n",
       "      <th></th>\n",
       "      <th></th>\n",
       "      <th></th>\n",
       "      <th></th>\n",
       "      <th></th>\n",
       "      <th></th>\n",
       "      <th></th>\n",
       "      <th></th>\n",
       "    </tr>\n",
       "  </thead>\n",
       "  <tbody>\n",
       "    <tr>\n",
       "      <th>Flood</th>\n",
       "      <td>13680.0</td>\n",
       "      <td>-93.399306</td>\n",
       "      <td>12.532181</td>\n",
       "      <td>-124.779999</td>\n",
       "      <td>-98.739999</td>\n",
       "      <td>-92.019999</td>\n",
       "      <td>-84.459999</td>\n",
       "      <td>-67.659999</td>\n",
       "    </tr>\n",
       "    <tr>\n",
       "      <th>Hail</th>\n",
       "      <td>14619.0</td>\n",
       "      <td>-95.965453</td>\n",
       "      <td>9.076016</td>\n",
       "      <td>-124.779999</td>\n",
       "      <td>-102.099999</td>\n",
       "      <td>-97.059999</td>\n",
       "      <td>-90.339999</td>\n",
       "      <td>-67.659999</td>\n",
       "    </tr>\n",
       "    <tr>\n",
       "      <th>Thunderstorm Wind</th>\n",
       "      <td>27485.0</td>\n",
       "      <td>-88.872314</td>\n",
       "      <td>10.002352</td>\n",
       "      <td>-124.779999</td>\n",
       "      <td>-95.379999</td>\n",
       "      <td>-86.979999</td>\n",
       "      <td>-81.099999</td>\n",
       "      <td>-67.659999</td>\n",
       "    </tr>\n",
       "  </tbody>\n",
       "</table>\n",
       "</div>"
      ],
      "text/plain": [
       "                     count       mean        std         min         25%  \\\n",
       "EVENT_TYPE                                                                 \n",
       "Flood              13680.0 -93.399306  12.532181 -124.779999  -98.739999   \n",
       "Hail               14619.0 -95.965453   9.076016 -124.779999 -102.099999   \n",
       "Thunderstorm Wind  27485.0 -88.872314  10.002352 -124.779999  -95.379999   \n",
       "\n",
       "                         50%        75%        max  \n",
       "EVENT_TYPE                                          \n",
       "Flood             -92.019999 -84.459999 -67.659999  \n",
       "Hail              -97.059999 -90.339999 -67.659999  \n",
       "Thunderstorm Wind -86.979999 -81.099999 -67.659999  "
      ]
     },
     "execution_count": 54,
     "metadata": {},
     "output_type": "execute_result"
    }
   ],
   "source": [
    "df_events[\"longitude\"].groupby(df_events[\"EVENT_TYPE\"]).describe()"
   ]
  },
  {
   "cell_type": "code",
   "execution_count": 62,
   "metadata": {},
   "outputs": [
    {
     "data": {
      "text/plain": [
       "<matplotlib.axes._subplots.AxesSubplot at 0x1a5e99f610>"
      ]
     },
     "execution_count": 62,
     "metadata": {},
     "output_type": "execute_result"
    },
    {
     "data": {
      "image/png": "[encoded data removed]",
      "text/plain": [
       "<Figure size 432x288 with 1 Axes>"
      ]
     },
     "metadata": {
      "needs_background": "light"
     },
     "output_type": "display_data"
    }
   ],
   "source": [
    "hail_long = df_events.longitude[df_events[\"EVENT_TYPE\"] == \"Hail\"]\n",
    "hail_long_dist = pd.Series(hail_long, name=\"Longitude Distribution of Hail\")\n",
    "sns.distplot(hail_long_dist)"
   ]
  },
  {
   "cell_type": "code",
   "execution_count": 63,
   "metadata": {},
   "outputs": [
    {
     "data": {
      "text/plain": [
       "<matplotlib.axes._subplots.AxesSubplot at 0x1a5e9e29d0>"
      ]
     },
     "execution_count": 63,
     "metadata": {},
     "output_type": "execute_result"
    },
    {
     "data": {
      "image/png": "[encoded data removed]",
      "text/plain": [
       "<Figure size 432x288 with 1 Axes>"
      ]
     },
     "metadata": {
      "needs_background": "light"
     },
     "output_type": "display_data"
    }
   ],
   "source": [
    "flood_long = df_events.longitude[df_events[\"EVENT_TYPE\"] == \"Flood\"]\n",
    "flood_long_dist = pd.Series(flood_long, name=\"Longitude Distribution of Flood\")\n",
    "sns.distplot(flood_long_dist)"
   ]
  },
  {
   "cell_type": "code",
   "execution_count": 64,
   "metadata": {},
   "outputs": [
    {
     "data": {
      "text/plain": [
       "<matplotlib.axes._subplots.AxesSubplot at 0x1a65e7ebd0>"
      ]
     },
     "execution_count": 64,
     "metadata": {},
     "output_type": "execute_result"
    },
    {
     "data": {
      "image/png": "[encoded data removed]",
      "text/plain": [
       "<Figure size 432x288 with 1 Axes>"
      ]
     },
     "metadata": {
      "needs_background": "light"
     },
     "output_type": "display_data"
    }
   ],
   "source": [
    "wind_long = df_events.longitude[df_events[\"EVENT_TYPE\"] == \"Thunderstorm Wind\"]\n",
    "wind_long_dist = pd.Series(wind_long, name=\"Longitude Distribution of Wind\")\n",
    "sns.distplot(wind_long_dist)"
   ]
  },
  {
   "cell_type": "markdown",
   "metadata": {},
   "source": [
    "## C) Multiclass Classification: Logistic Regression"
   ]
  },
  {
   "cell_type": "code",
   "execution_count": 83,
   "metadata": {},
   "outputs": [
    {
     "name": "stdout",
     "output_type": "stream",
     "text": [
      "Fitting 5 folds for each of 10 candidates, totalling 50 fits\n"
     ]
    },
    {
     "name": "stderr",
     "output_type": "stream",
     "text": [
      "[Parallel(n_jobs=-1)]: Using backend LokyBackend with 8 concurrent workers.\n",
      "[Parallel(n_jobs=-1)]: Done  34 tasks      | elapsed:    3.8s\n",
      "[Parallel(n_jobs=-1)]: Done  50 out of  50 | elapsed:    5.7s finished\n",
      "/Users/breabeals/opt/anaconda3/lib/python3.7/site-packages/sklearn/utils/validation.py:760: DataConversionWarning: A column-vector y was passed when a 1d array was expected. Please change the shape of y to (n_samples, ), for example using ravel().\n",
      "  y = column_or_1d(y, warn=True)\n"
     ]
    }
   ],
   "source": [
    "from sklearn.linear_model import LogisticRegression\n",
    "\n",
    "lr = LogisticRegression()\n",
    "\n",
    "# Create param grid.\n",
    "param_grid = { \n",
    "    'class_weight': ['dict', 'balanced'],\n",
    "    'C': [0.001,0.01,0.1,1.,10,100],\n",
    "    'max_iter': [500]\n",
    "}\n",
    "\n",
    "\n",
    "clf = RandomizedSearchCV(lr, param_grid, \n",
    "                         scoring ='accuracy', \n",
    "                         cv = 5, \n",
    "                         verbose=True, \n",
    "                         n_jobs=-1)\n",
    "\n",
    "# Fit on data\n",
    "best_clf = clf.fit(X_train_scaled, y_train)"
   ]
  },
  {
   "cell_type": "code",
   "execution_count": 84,
   "metadata": {},
   "outputs": [],
   "source": [
    "#best performing model\n",
    "lr_gs = best_clf.best_estimator_"
   ]
  },
  {
   "cell_type": "code",
   "execution_count": 85,
   "metadata": {},
   "outputs": [],
   "source": [
    "#saving model\n",
    "import pickle\n",
    "filename = 'lr_gs.sav'\n",
    "pickle.dump(lr_gs, open(filename, 'wb'))"
   ]
  },
  {
   "cell_type": "code",
   "execution_count": 86,
   "metadata": {},
   "outputs": [],
   "source": [
    "# load the model from disk\n",
    "lr_gs = pickle.load(open('lr_gs.sav', 'rb'))"
   ]
  },
  {
   "cell_type": "code",
   "execution_count": 87,
   "metadata": {},
   "outputs": [
    {
     "name": "stdout",
     "output_type": "stream",
     "text": [
      "Text(0.5, 1, 'Logistic Regression MultiClass GridSearch Model - Test Data')\n",
      "                   precision    recall  f1-score   support\n",
      "\n",
      "            Flood       0.46      0.49      0.48      3989\n",
      "             Hail       0.46      0.63      0.53      4387\n",
      "Thunderstorm Wind       0.71      0.54      0.61      8360\n",
      "\n",
      "         accuracy                           0.55     16736\n",
      "        macro avg       0.54      0.56      0.54     16736\n",
      "     weighted avg       0.58      0.55      0.56     16736\n",
      "\n"
     ]
    },
    {
     "data": {
      "image/png": "[encoded data removed]",
      "text/plain": [
       "<Figure size 432x288 with 2 Axes>"
      ]
     },
     "metadata": {
      "needs_background": "light"
     },
     "output_type": "display_data"
    }
   ],
   "source": [
    "#Test Data: Logistic Regression + RF Grid Search\n",
    "\n",
    "y_pred_base_lr = lr_gs.predict(X_test_scaled)\n",
    "\n",
    "test_matrix_base_lr = confusion_matrix(y_test, y_pred_base_lr)\n",
    "\n",
    "#plotting heatmap confusion matrix\n",
    "print(sns.heatmap(test_matrix_base_lr, annot=True, cmap=\"YlGnBu\",fmt=\"d\").set_title(\n",
    "'Logistic Regression MultiClass GridSearch Model - Test Data'))\n",
    "\n",
    "test_report_base_lr = classification_report(y_test, y_pred_base_lr)\n",
    "print(test_report_base_lr)"
   ]
  },
  {
   "cell_type": "code",
   "execution_count": 88,
   "metadata": {},
   "outputs": [
    {
     "name": "stdout",
     "output_type": "stream",
     "text": [
      "Text(0.5, 1, 'Logistic Regression MultiClass GridSearch Model - Test Data')\n",
      "                   precision    recall  f1-score   support\n",
      "\n",
      "            Flood       0.48      0.49      0.48      9691\n",
      "             Hail       0.46      0.65      0.54     10232\n",
      "Thunderstorm Wind       0.70      0.54      0.61     19125\n",
      "\n",
      "         accuracy                           0.56     39048\n",
      "        macro avg       0.55      0.56      0.54     39048\n",
      "     weighted avg       0.58      0.56      0.56     39048\n",
      "\n"
     ]
    },
    {
     "data": {
      "image/png": "[encoded data removed]",
      "text/plain": [
       "<Figure size 432x288 with 2 Axes>"
      ]
     },
     "metadata": {
      "needs_background": "light"
     },
     "output_type": "display_data"
    }
   ],
   "source": [
    "#Training Data: Logistic Regression + RF Grid Search\n",
    "\n",
    "y_tpred_base_lr = lr_gs.predict(X_train_scaled)\n",
    "\n",
    "train_matrix_base_lr = confusion_matrix(y_train, y_tpred_base_lr)\n",
    "\n",
    "#plotting heatmap confusion matrix\n",
    "print(sns.heatmap(train_matrix_base_lr, annot=True, cmap=\"YlGnBu\",fmt=\"d\").set_title(\n",
    "'Logistic Regression MultiClass GridSearch Model - Test Data'))\n",
    "\n",
    "train_report_base_lr = classification_report(y_train, y_tpred_base_lr)\n",
    "print(train_report_base_lr)"
   ]
  },
  {
   "cell_type": "markdown",
   "metadata": {},
   "source": [
    "This model has a good balance of bias and variance, but overall underperforms our previous model."
   ]
  },
  {
   "cell_type": "markdown",
   "metadata": {},
   "source": [
    "## D) Multiclass Classification: AdaBoost with Grid Search"
   ]
  },
  {
   "cell_type": "code",
   "execution_count": 90,
   "metadata": {},
   "outputs": [],
   "source": [
    "#fitting AdaBoost Classifier model with default parameters\n",
    "from sklearn.ensemble import AdaBoostClassifier\n",
    "ab = AdaBoostClassifier()"
   ]
  },
  {
   "cell_type": "code",
   "execution_count": 92,
   "metadata": {},
   "outputs": [
    {
     "name": "stdout",
     "output_type": "stream",
     "text": [
      "Fitting 5 folds for each of 10 candidates, totalling 50 fits\n"
     ]
    },
    {
     "name": "stderr",
     "output_type": "stream",
     "text": [
      "[Parallel(n_jobs=-1)]: Using backend LokyBackend with 8 concurrent workers.\n",
      "[Parallel(n_jobs=-1)]: Done  25 tasks      | elapsed:  4.8min\n",
      "[Parallel(n_jobs=-1)]: Done  50 out of  50 | elapsed:  9.1min finished\n",
      "/Users/breabeals/opt/anaconda3/lib/python3.7/site-packages/sklearn/utils/validation.py:760: DataConversionWarning: A column-vector y was passed when a 1d array was expected. Please change the shape of y to (n_samples, ), for example using ravel().\n",
      "  y = column_or_1d(y, warn=True)\n"
     ]
    },
    {
     "data": {
      "text/plain": [
       "RandomizedSearchCV(cv=5, error_score=nan,\n",
       "                   estimator=AdaBoostClassifier(algorithm='SAMME.R',\n",
       "                                                base_estimator=None,\n",
       "                                                learning_rate=1.0,\n",
       "                                                n_estimators=50,\n",
       "                                                random_state=None),\n",
       "                   iid='deprecated', n_iter=10, n_jobs=-1,\n",
       "                   param_distributions={'learning_rate': [0.4, 0.6, 0.8, 1,\n",
       "                                                          1.2],\n",
       "                                        'n_estimators': [100, 200, 300, 400],\n",
       "                                        'random_state': [1]},\n",
       "                   pre_dispatch='2*n_jobs', random_state=None, refit=True,\n",
       "                   return_train_score=False, scoring='accuracy', verbose=2)"
      ]
     },
     "execution_count": 92,
     "metadata": {},
     "output_type": "execute_result"
    }
   ],
   "source": [
    "#setting grid search parameters\n",
    "parameters = {'n_estimators':[100, 200, 300, 400], \n",
    "              'learning_rate': [0.4,0.6,0.8, 1, 1.2],\n",
    "              'random_state': [SEED]}\n",
    "\n",
    "# Create gridsearch object with various combinations of parameters\n",
    "ab_Grid = RandomizedSearchCV(ab, parameters, cv = 5, \n",
    "                       scoring = 'accuracy', \n",
    "                       verbose=2,\n",
    "                       n_jobs = -1)\n",
    "#fitting model\n",
    "ab_Grid.fit(X_train_scaled, y_train)"
   ]
  },
  {
   "cell_type": "code",
   "execution_count": 93,
   "metadata": {},
   "outputs": [],
   "source": [
    "#best performing model\n",
    "ab_best = ab_Grid.best_estimator_"
   ]
  },
  {
   "cell_type": "code",
   "execution_count": 94,
   "metadata": {},
   "outputs": [],
   "source": [
    "#saving model\n",
    "import pickle\n",
    "filename = 'ab_ml_project.sav'\n",
    "pickle.dump(ab_best, open(filename, 'wb'))"
   ]
  },
  {
   "cell_type": "code",
   "execution_count": 95,
   "metadata": {},
   "outputs": [],
   "source": [
    "# load the model from disk\n",
    "ab_best = pickle.load(open('ab_ml_project.sav', 'rb'))"
   ]
  },
  {
   "cell_type": "code",
   "execution_count": 96,
   "metadata": {},
   "outputs": [
    {
     "name": "stdout",
     "output_type": "stream",
     "text": [
      "Text(0.5, 1, 'AdaBoost MultiClass Model - Test Data')\n",
      "                   precision    recall  f1-score   support\n",
      "\n",
      "            Flood       0.60      0.42      0.49      3989\n",
      "             Hail       0.55      0.49      0.52      4387\n",
      "Thunderstorm Wind       0.64      0.77      0.70      8360\n",
      "\n",
      "         accuracy                           0.61     16736\n",
      "        macro avg       0.60      0.56      0.57     16736\n",
      "     weighted avg       0.61      0.61      0.60     16736\n",
      "\n"
     ]
    },
    {
     "data": {
      "image/png": "[encoded data removed]",
      "text/plain": [
       "<Figure size 432x288 with 2 Axes>"
      ]
     },
     "metadata": {
      "needs_background": "light"
     },
     "output_type": "display_data"
    }
   ],
   "source": [
    "#Test: AdaBoost\n",
    "\n",
    "#predicted classes for adaboost\n",
    "y_pred_ab = ab_best.predict(X_test_scaled)\n",
    "\n",
    "\n",
    "#confusion matrix for adaboost\n",
    "test_matrix_ab = confusion_matrix(y_test, y_pred_ab)\n",
    "#plotting heatmap confusion matrix\n",
    "print(sns.heatmap(test_matrix_ab, annot=True, cmap=\"YlGnBu\",fmt=\"d\").set_title(\n",
    "'AdaBoost MultiClass Model - Test Data'))\n",
    "\n",
    "\n",
    "#classification report for adaboost\n",
    "test_report_ab = classification_report(y_test, y_pred_ab)\n",
    "print(test_report_ab)"
   ]
  },
  {
   "cell_type": "code",
   "execution_count": 97,
   "metadata": {},
   "outputs": [
    {
     "name": "stdout",
     "output_type": "stream",
     "text": [
      "Text(0.5, 1, 'AdaBoost MultiClass Model - Training Data')\n",
      "                   precision    recall  f1-score   support\n",
      "\n",
      "            Flood       0.63      0.44      0.52      9691\n",
      "             Hail       0.58      0.52      0.54     10232\n",
      "Thunderstorm Wind       0.63      0.77      0.70     19125\n",
      "\n",
      "         accuracy                           0.62     39048\n",
      "        macro avg       0.61      0.57      0.59     39048\n",
      "     weighted avg       0.62      0.62      0.61     39048\n",
      "\n"
     ]
    },
    {
     "data": {
      "image/png": "[encoded data removed]",
      "text/plain": [
       "<Figure size 432x288 with 2 Axes>"
      ]
     },
     "metadata": {
      "needs_background": "light"
     },
     "output_type": "display_data"
    }
   ],
   "source": [
    "#Training Data: Adaboost\n",
    "\n",
    "#predicted classes for adaboost\n",
    "y_pred_ab_train = ab_best.predict(X_train_scaled)\n",
    "\n",
    "#confusion matrix for adaboost\n",
    "train_matrix_ab = confusion_matrix(y_train, y_pred_ab_train)\n",
    "print(sns.heatmap(train_matrix_ab, annot=True, cmap=\"YlGnBu\",fmt=\"d\").set_title(\n",
    "'AdaBoost MultiClass Model - Training Data'))\n",
    "\n",
    "\n",
    "#classification report for adaboost\n",
    "train_report_ab = classification_report(y_train, y_pred_ab_train)\n",
    "print(train_report_ab)"
   ]
  },
  {
   "cell_type": "markdown",
   "metadata": {},
   "source": [
    "This model has a small generalzation gap, and is performing relatively well. However, it it still not performing quite as well as our Random Forest Model. "
   ]
  },
  {
   "cell_type": "markdown",
   "metadata": {},
   "source": [
    "## E ) KNeighbors Classifier"
   ]
  },
  {
   "cell_type": "code",
   "execution_count": 58,
   "metadata": {},
   "outputs": [
    {
     "name": "stdout",
     "output_type": "stream",
     "text": [
      "Fitting 5 folds for each of 10 candidates, totalling 50 fits\n"
     ]
    },
    {
     "name": "stderr",
     "output_type": "stream",
     "text": [
      "[Parallel(n_jobs=-1)]: Using backend LokyBackend with 8 concurrent workers.\n",
      "[Parallel(n_jobs=-1)]: Done  16 tasks      | elapsed:  2.0min\n",
      "[Parallel(n_jobs=-1)]: Done  50 out of  50 | elapsed:  5.9min finished\n",
      "/Users/breabeals/opt/anaconda3/lib/python3.7/site-packages/sklearn/model_selection/_search.py:739: DataConversionWarning: A column-vector y was passed when a 1d array was expected. Please change the shape of y to (n_samples, ), for example using ravel().\n",
      "  self.best_estimator_.fit(X, y, **fit_params)\n"
     ]
    },
    {
     "data": {
      "text/plain": [
       "RandomizedSearchCV(cv=5, error_score=nan,\n",
       "                   estimator=KNeighborsClassifier(algorithm='auto',\n",
       "                                                  leaf_size=30,\n",
       "                                                  metric='minkowski',\n",
       "                                                  metric_params=None,\n",
       "                                                  n_jobs=None, n_neighbors=5,\n",
       "                                                  p=2, weights='uniform'),\n",
       "                   iid='deprecated', n_iter=10, n_jobs=-1,\n",
       "                   param_distributions=[{'n_neighbors': [3, 4, 5, 6, 7, 10],\n",
       "                                         'weights': ['uniform', 'distance']}],\n",
       "                   pre_dispatch='2*n_jobs', random_state=None, refit=True,\n",
       "                   return_train_score=False, scoring='accuracy', verbose=3)"
      ]
     },
     "execution_count": 58,
     "metadata": {},
     "output_type": "execute_result"
    }
   ],
   "source": [
    "\n",
    "param_grid = [{'weights': [\"uniform\", \"distance\"], 'n_neighbors': [3, 4, 5, 6, 7, 10]}]\n",
    "\n",
    "knn_clf = KNeighborsClassifier()\n",
    "grid_search = RandomizedSearchCV(knn_clf, \n",
    "                                 param_grid, \n",
    "                                 cv=5, \n",
    "                                 verbose=3, \n",
    "                                 n_jobs=-1, \n",
    "                                 scoring = \"accuracy\")\n",
    "\n",
    "grid_search.fit(X_train_scaled, y_train)"
   ]
  },
  {
   "cell_type": "code",
   "execution_count": 59,
   "metadata": {},
   "outputs": [],
   "source": [
    "#best performing model\n",
    "knn_best = grid_search.best_estimator_"
   ]
  },
  {
   "cell_type": "code",
   "execution_count": 60,
   "metadata": {},
   "outputs": [],
   "source": [
    "#saving model\n",
    "import pickle\n",
    "filename = 'knn_ml_project.sav'\n",
    "pickle.dump(knn_best, open(filename, 'wb'))"
   ]
  },
  {
   "cell_type": "code",
   "execution_count": 61,
   "metadata": {},
   "outputs": [],
   "source": [
    "# load the model from disk\n",
    "knn_best = pickle.load(open('knn_ml_project.sav', 'rb'))"
   ]
  },
  {
   "cell_type": "code",
   "execution_count": 62,
   "metadata": {},
   "outputs": [
    {
     "name": "stdout",
     "output_type": "stream",
     "text": [
      "Text(0.5, 1, 'KNeighbors MultiClass Model - Test Data')\n",
      "                   precision    recall  f1-score   support\n",
      "\n",
      "            Flood       0.69      0.57      0.63      3989\n",
      "             Hail       0.59      0.55      0.57      4387\n",
      "Thunderstorm Wind       0.69      0.77      0.73      8360\n",
      "\n",
      "         accuracy                           0.66     16736\n",
      "        macro avg       0.66      0.63      0.64     16736\n",
      "     weighted avg       0.66      0.66      0.66     16736\n",
      "\n"
     ]
    },
    {
     "data": {
      "image/png": "[encoded data removed]",
      "text/plain": [
       "<Figure size 432x288 with 2 Axes>"
      ]
     },
     "metadata": {
      "needs_background": "light"
     },
     "output_type": "display_data"
    }
   ],
   "source": [
    "\n",
    "#predicted classes for KNN\n",
    "y_pred_knn = knn_best.predict(X_test_scaled)\n",
    "\n",
    "\n",
    "#confusion matrix for KNN\n",
    "test_matrix_knn = confusion_matrix(y_test, y_pred_knn)\n",
    "print(sns.heatmap(test_matrix_knn, annot=True, cmap=\"YlGnBu\",fmt=\"d\").set_title(\n",
    "'KNeighbors MultiClass Model - Test Data'))\n",
    "\n",
    "\n",
    "#classification report for KNN\n",
    "test_report_knn = classification_report(y_test, y_pred_knn)\n",
    "print(test_report_knn)"
   ]
  },
  {
   "cell_type": "code",
   "execution_count": 63,
   "metadata": {},
   "outputs": [
    {
     "name": "stdout",
     "output_type": "stream",
     "text": [
      "Text(0.5, 1, 'KNeighbors MultiClass Model - Training Data')\n",
      "                   precision    recall  f1-score   support\n",
      "\n",
      "            Flood       1.00      1.00      1.00      9691\n",
      "             Hail       1.00      1.00      1.00     10232\n",
      "Thunderstorm Wind       1.00      1.00      1.00     19125\n",
      "\n",
      "         accuracy                           1.00     39048\n",
      "        macro avg       1.00      1.00      1.00     39048\n",
      "     weighted avg       1.00      1.00      1.00     39048\n",
      "\n"
     ]
    },
    {
     "data": {
      "image/png": "[encoded data removed]",
      "text/plain": [
       "<Figure size 432x288 with 2 Axes>"
      ]
     },
     "metadata": {
      "needs_background": "light"
     },
     "output_type": "display_data"
    }
   ],
   "source": [
    "#Training: KNN\n",
    "\n",
    "#predicted classes for KNN\n",
    "y_pred_knn_train = knn_best.predict(X_train_scaled)\n",
    "\n",
    "\n",
    "#confusion matrix for KNN\n",
    "train_matrix_knn = confusion_matrix(y_train, y_pred_knn_train)\n",
    "print(sns.heatmap(train_matrix_knn, annot=True, cmap=\"YlGnBu\",fmt=\"d\").set_title(\n",
    "'KNeighbors MultiClass Model - Training Data'))\n",
    "\n",
    "\n",
    "#classification report for KNN\n",
    "train_report_knn = classification_report(y_train, y_pred_knn_train)\n",
    "print(train_report_knn)"
   ]
  },
  {
   "cell_type": "markdown",
   "metadata": {},
   "source": [
    "Interestingly, this model is extremely overfit without getting an improvement in accuracy."
   ]
  },
  {
   "cell_type": "markdown",
   "metadata": {},
   "source": [
    "## F) XGB Classifier "
   ]
  },
  {
   "cell_type": "code",
   "execution_count": 129,
   "metadata": {},
   "outputs": [
    {
     "name": "stdout",
     "output_type": "stream",
     "text": [
      "Fitting 5 folds for each of 10 candidates, totalling 50 fits\n"
     ]
    },
    {
     "name": "stderr",
     "output_type": "stream",
     "text": [
      "[Parallel(n_jobs=-1)]: Using backend LokyBackend with 8 concurrent workers.\n",
      "[Parallel(n_jobs=-1)]: Done  16 tasks      | elapsed:  4.6min\n",
      "[Parallel(n_jobs=-1)]: Done  50 out of  50 | elapsed: 13.1min finished\n",
      "/Users/breabeals/opt/anaconda3/lib/python3.7/site-packages/sklearn/preprocessing/_label.py:235: DataConversionWarning: A column-vector y was passed when a 1d array was expected. Please change the shape of y to (n_samples, ), for example using ravel().\n",
      "  y = column_or_1d(y, warn=True)\n",
      "/Users/breabeals/opt/anaconda3/lib/python3.7/site-packages/sklearn/preprocessing/_label.py:268: DataConversionWarning: A column-vector y was passed when a 1d array was expected. Please change the shape of y to (n_samples, ), for example using ravel().\n",
      "  y = column_or_1d(y, warn=True)\n"
     ]
    },
    {
     "data": {
      "text/plain": [
       "RandomizedSearchCV(cv=5, error_score=nan,\n",
       "                   estimator=XGBClassifier(base_score=0.5, booster='gbtree',\n",
       "                                           colsample_bylevel=1,\n",
       "                                           colsample_bynode=1,\n",
       "                                           colsample_bytree=1, gamma=0,\n",
       "                                           learning_rate=0.1, max_delta_step=0,\n",
       "                                           max_depth=3, min_child_weight=1,\n",
       "                                           missing=None, n_estimators=100,\n",
       "                                           n_jobs=1, nthread=None,\n",
       "                                           objective='binary:logistic',\n",
       "                                           random_state=1, reg_alpha=0,\n",
       "                                           reg_lambda=1, scale_pos_weight=1,\n",
       "                                           seed=None, silent=None, subsample=1,\n",
       "                                           verbosity=1),\n",
       "                   iid='deprecated', n_iter=10, n_jobs=-1,\n",
       "                   param_distributions={'gamma': [0.0, 0.5, 1.0, 1.5],\n",
       "                                        'learning_rate': [0.0001, 0.001, 0.01,\n",
       "                                                          0.1, 0.2],\n",
       "                                        'max_depth': [1, 2],\n",
       "                                        'n_estimators': [100, 500, 750]},\n",
       "                   pre_dispatch='2*n_jobs', random_state=None, refit=True,\n",
       "                   return_train_score=False, scoring='accuracy', verbose=3)"
      ]
     },
     "execution_count": 129,
     "metadata": {},
     "output_type": "execute_result"
    }
   ],
   "source": [
    "from xgboost import XGBClassifier\n",
    "#fitting RandomizedSearchCV model with default parameters\n",
    "xgb_clf = XGBClassifier(random_state = SEED)\n",
    "\n",
    "#creating list for n_estimators, learning_rate, and gamma_list\n",
    "gamma_list = np.arange(0,2,0.5).tolist()\n",
    "\n",
    "#setting grid search parameters\n",
    "parameters_xgb = {'n_estimators': [100, 500, 750], \n",
    "              'learning_rate': [0.0001, 0.001, 0.01, 0.1, 0.2],\n",
    "              'max_depth': [1, 2],\n",
    "              'gamma': gamma_list}\n",
    "\n",
    "# Create gridsearch object with various combinations of parameters\n",
    "xgb_rs = RandomizedSearchCV(xgb_clf, parameters_xgb, cv = 5, \n",
    "                       scoring = 'accuracy', \n",
    "                       verbose=3,\n",
    "                       n_jobs = -1)\n",
    "#fitting model\n",
    "xgb_rs.fit(X_train_scaled, y_train)"
   ]
  },
  {
   "cell_type": "code",
   "execution_count": 135,
   "metadata": {},
   "outputs": [],
   "source": [
    "#best estimator\n",
    "xgb_best_est = xgb_rs.best_estimator_"
   ]
  },
  {
   "cell_type": "code",
   "execution_count": 136,
   "metadata": {},
   "outputs": [],
   "source": [
    "import pickle\n",
    "# save the model to disk\n",
    "filename = 'xgb_ml_project.sav'\n",
    "pickle.dump(xgb_best_est, open(filename, 'wb'))"
   ]
  },
  {
   "cell_type": "code",
   "execution_count": 100,
   "metadata": {},
   "outputs": [],
   "source": [
    "# load the model from disk\n",
    "xgb_best_est = pickle.load(open('xgb_ml_project.sav', 'rb'))"
   ]
  },
  {
   "cell_type": "code",
   "execution_count": 142,
   "metadata": {},
   "outputs": [
    {
     "name": "stdout",
     "output_type": "stream",
     "text": [
      "Text(0.5, 1, 'XGBoost MultiClass Model - Test Data')\n",
      "                   precision    recall  f1-score   support\n",
      "\n",
      "            Flood       0.67      0.47      0.55      3989\n",
      "             Hail       0.57      0.53      0.55      4387\n",
      "Thunderstorm Wind       0.66      0.77      0.71      8360\n",
      "\n",
      "         accuracy                           0.64     16736\n",
      "        macro avg       0.63      0.59      0.60     16736\n",
      "     weighted avg       0.64      0.64      0.63     16736\n",
      "\n"
     ]
    },
    {
     "data": {
      "image/png": "[encoded data removed]",
      "text/plain": [
       "<Figure size 432x288 with 2 Axes>"
      ]
     },
     "metadata": {
      "needs_background": "light"
     },
     "output_type": "display_data"
    }
   ],
   "source": [
    "#Test: XGB\n",
    "\n",
    "y_pred_xgb = xgb_best_est.predict(X_test_scaled)\n",
    "\n",
    "\n",
    "#confusion matrix for xgb\n",
    "test_matrix_xgb = confusion_matrix(y_test, y_pred_xgb)\n",
    "print(sns.heatmap(test_matrix_xgb, annot=True, cmap=\"YlGnBu\",fmt=\"d\").set_title(\n",
    "'XGBoost MultiClass Model - Test Data'))\n",
    "\n",
    "\n",
    "#classification report for xgb\n",
    "test_report_xgb = classification_report(y_test, y_pred_xgb)\n",
    "print(test_report_xgb)"
   ]
  },
  {
   "cell_type": "code",
   "execution_count": 140,
   "metadata": {},
   "outputs": [
    {
     "name": "stdout",
     "output_type": "stream",
     "text": [
      "Text(0.5, 1, 'XGBoost MultiClass Model - Training Data')\n",
      "                   precision    recall  f1-score   support\n",
      "\n",
      "            Flood       0.72      0.50      0.59      9691\n",
      "             Hail       0.62      0.57      0.60     10232\n",
      "Thunderstorm Wind       0.67      0.80      0.73     19125\n",
      "\n",
      "         accuracy                           0.67     39048\n",
      "        macro avg       0.67      0.63      0.64     39048\n",
      "     weighted avg       0.67      0.67      0.66     39048\n",
      "\n"
     ]
    },
    {
     "data": {
      "image/png": "[encoded data removed]",
      "text/plain": [
       "<Figure size 432x288 with 2 Axes>"
      ]
     },
     "metadata": {
      "needs_background": "light"
     },
     "output_type": "display_data"
    }
   ],
   "source": [
    "#Train: XGB\n",
    "\n",
    "y_pred_xgb_train = xgb_best_est.predict(X_train_scaled)\n",
    "\n",
    "#confusion matrix for xgb\n",
    "train_matrix_xgb = confusion_matrix(y_train, y_pred_xgb_train)\n",
    "print(sns.heatmap(train_matrix_xgb, annot=True, cmap=\"YlGnBu\",fmt=\"d\").set_title(\n",
    "'XGBoost MultiClass Model - Training Data'))\n",
    "\n",
    "\n",
    "#classification report for xgb\n",
    "train_report_xgb = classification_report(y_train, y_pred_xgb_train)\n",
    "print(train_report_xgb)"
   ]
  },
  {
   "cell_type": "markdown",
   "metadata": {},
   "source": [
    "This is our best model yet. Our overall test accuracy is 1% higher than our second best performing model, but our f1-scores for every class are also higher. This is performing better in recall for Flood and Hail, while also having better precision with Thunderstorm Wind. This is in line with what we want from our model.\n",
    "\n",
    "Let's look at the feature importances below: "
   ]
  },
  {
   "cell_type": "code",
   "execution_count": 101,
   "metadata": {},
   "outputs": [
    {
     "data": {
      "image/png": "[encoded data removed]",
      "text/plain": [
       "<Figure size 432x288 with 1 Axes>"
      ]
     },
     "metadata": {
      "needs_background": "light"
     },
     "output_type": "display_data"
    },
    {
     "name": "stdout",
     "output_type": "stream",
     "text": [
      "The top 5 feautres for the XGB Model: \n",
      "fraction_cloud_cover                0.139981\n",
      "fraction_cloud_cover_10_day_mean    0.104886\n",
      "longitude                           0.084950\n",
      "temperature                         0.068461\n",
      "geo_cluster                         0.067699\n",
      "dtype: float32\n"
     ]
    }
   ],
   "source": [
    "# Create a pd.Series of features importances\n",
    "importances_xgb = pd.Series(xgb_best_est.feature_importances_,\n",
    "index = X_train.columns)\n",
    "# Sort importances - top 5\n",
    "sorted_importances_xgb = importances_xgb.sort_values(ascending = False)[:5]\n",
    "# Make a horizontal bar plot\n",
    "sorted_importances_xgb.plot(kind='barh', color='blue')\n",
    "plt.title(\"XGB Model Top 5 Features\")\n",
    "plt.show()\n",
    "\n",
    "print(\"The top 5 feautres for the XGB Model: \\n{}\".format(sorted_importances_xgb))\n"
   ]
  },
  {
   "cell_type": "markdown",
   "metadata": {},
   "source": [
    "This is our first model to not have longitude as the most important feature. The new top two features are fraction_cloud_coverage, and fraction_cloud_coverage_10_day_mean. These two features had not previously appeared in any top 5 feautres list for any of our models. Clearly, this model is learning information from these feautres that the other models had not been able to."
   ]
  },
  {
   "cell_type": "code",
   "execution_count": 108,
   "metadata": {},
   "outputs": [
    {
     "name": "stdout",
     "output_type": "stream",
     "text": [
      "Probability Estimates For Each Class: [[0.3239929  0.20896249 0.46704462]]\n"
     ]
    }
   ],
   "source": [
    "print(\"Probability Estimates For Each Class: {}\".format(xgb_best_est.predict_proba(X_test_scaled[:1])))"
   ]
  },
  {
   "cell_type": "markdown",
   "metadata": {},
   "source": [
    "# Part III: Applying PCA "
   ]
  },
  {
   "cell_type": "markdown",
   "metadata": {},
   "source": [
    "Note: applying PCA to our tuned Random Forest Model rather than our XGB Classifier as the XGB Classifer takes well over double the time to run with only 1% better accuracy. If the PCA shows improvement, we will apply it to the XGB Classifer model as well. "
   ]
  },
  {
   "cell_type": "code",
   "execution_count": 84,
   "metadata": {},
   "outputs": [
    {
     "data": {
      "image/png": "[encoded data removed]",
      "text/plain": [
       "<Figure size 432x288 with 1 Axes>"
      ]
     },
     "metadata": {
      "needs_background": "light"
     },
     "output_type": "display_data"
    }
   ],
   "source": [
    "from sklearn.decomposition import PCA\n",
    "\n",
    "#pca on X_train_scaled\n",
    "pca = PCA()\n",
    "pca = pca.fit(X_train_scaled)\n",
    "\n",
    "plt.plot(np.cumsum(pca.explained_variance_ratio_))\n",
    "plt.title(\"Cumulative Explained Variance for PCA\")\n",
    "plt.xlabel('number of components')\n",
    "plt.ylabel('cumulative explained variance');"
   ]
  },
  {
   "cell_type": "code",
   "execution_count": 85,
   "metadata": {},
   "outputs": [
    {
     "data": {
      "text/plain": [
       "array([0.2650639 , 0.3980103 , 0.4704846 , 0.53000262, 0.58400197,\n",
       "       0.62891903, 0.66970303, 0.70671661, 0.74253353, 0.77213915,\n",
       "       0.79906479, 0.82423239, 0.84755824, 0.86924672, 0.8870888 ,\n",
       "       0.90373072])"
      ]
     },
     "execution_count": 85,
     "metadata": {},
     "output_type": "execute_result"
    }
   ],
   "source": [
    "#cumulative explained variance\n",
    "np.cumsum(pca.explained_variance_ratio_)[:16]"
   ]
  },
  {
   "cell_type": "markdown",
   "metadata": {},
   "source": [
    "Using only 16 principal components explains over 90% of our variance."
   ]
  },
  {
   "cell_type": "code",
   "execution_count": 92,
   "metadata": {},
   "outputs": [],
   "source": [
    "from sklearn.decomposition import PCA\n",
    "\n",
    "n_comp = 16\n",
    "\n",
    "#pca on X_train_scaled\n",
    "pca = PCA(n_components = n_comp, random_state = 1)\n",
    "X_train_pca = pca.fit_transform(X_train_scaled)\n",
    "\n",
    "#pca on X_test_scaled\n",
    "X_test_pca = pca.transform(X_test_scaled)"
   ]
  },
  {
   "cell_type": "code",
   "execution_count": 93,
   "metadata": {},
   "outputs": [
    {
     "name": "stdout",
     "output_type": "stream",
     "text": [
      "Fitting 5 folds for each of 10 candidates, totalling 50 fits\n"
     ]
    },
    {
     "name": "stderr",
     "output_type": "stream",
     "text": [
      "[Parallel(n_jobs=-1)]: Using backend LokyBackend with 8 concurrent workers.\n",
      "[Parallel(n_jobs=-1)]: Done  16 tasks      | elapsed:  1.4min\n",
      "[Parallel(n_jobs=-1)]: Done  50 out of  50 | elapsed:  3.6min finished\n",
      "/Users/breabeals/opt/anaconda3/lib/python3.7/site-packages/sklearn/model_selection/_search.py:739: DataConversionWarning: A column-vector y was passed when a 1d array was expected. Please change the shape of y to (n_samples,), for example using ravel().\n",
      "  self.best_estimator_.fit(X, y, **fit_params)\n"
     ]
    },
    {
     "data": {
      "text/plain": [
       "RandomizedSearchCV(cv=5, error_score=nan,\n",
       "                   estimator=RandomForestClassifier(bootstrap=True,\n",
       "                                                    ccp_alpha=0.0,\n",
       "                                                    class_weight=None,\n",
       "                                                    criterion='gini',\n",
       "                                                    max_depth=None,\n",
       "                                                    max_features='auto',\n",
       "                                                    max_leaf_nodes=None,\n",
       "                                                    max_samples=None,\n",
       "                                                    min_impurity_decrease=0.0,\n",
       "                                                    min_impurity_split=None,\n",
       "                                                    min_samples_leaf=1,\n",
       "                                                    min_samples_split=2,\n",
       "                                                    min_weight_fraction_leaf=0.0,\n",
       "                                                    n_estimators=100,\n",
       "                                                    n_jobs=None,\n",
       "                                                    oob_score=False,\n",
       "                                                    random_state=1, verbose=0,\n",
       "                                                    warm_start=False),\n",
       "                   iid='deprecated', n_iter=10, n_jobs=-1,\n",
       "                   param_distributions={'max_depth': [2, 4, 5, 6, 7, 8],\n",
       "                                        'max_features': ['auto', 'sqrt',\n",
       "                                                         'log2'],\n",
       "                                        'n_estimators': [100, 200, 500]},\n",
       "                   pre_dispatch='2*n_jobs', random_state=None, refit=True,\n",
       "                   return_train_score=False, scoring='accuracy', verbose=3)"
      ]
     },
     "execution_count": 93,
     "metadata": {},
     "output_type": "execute_result"
    }
   ],
   "source": [
    "from sklearn.model_selection import RandomizedSearchCV\n",
    "\n",
    "random_grid = { \n",
    "    'n_estimators': [100, 200, 500],\n",
    "    'max_features': ['auto', 'sqrt', 'log2'],\n",
    "    'max_depth' : [2,4,5,6,7,8]\n",
    "}\n",
    "\n",
    "\n",
    "#fitting Random Forest Classifier model\n",
    "rf_pca = RandomForestClassifier(random_state=SEED)\n",
    "\n",
    "# Create gridsearch object with various combinations of parameters\n",
    "rf_gs_pca = RandomizedSearchCV(rf_pca, random_grid, cv = 5, \n",
    "                       scoring = 'accuracy', \n",
    "                       verbose=3,\n",
    "                       n_jobs = -1)\n",
    "\n",
    "rf_gs_pca.fit(X_train_pca,y_train)"
   ]
  },
  {
   "cell_type": "code",
   "execution_count": 94,
   "metadata": {},
   "outputs": [],
   "source": [
    "#best performing model\n",
    "rf_gs_pca = rf_gs_pca.best_estimator_"
   ]
  },
  {
   "cell_type": "code",
   "execution_count": 95,
   "metadata": {},
   "outputs": [],
   "source": [
    "#saving model\n",
    "import pickle\n",
    "filename = 'rf_gs_pca.sav'\n",
    "pickle.dump(rf_gs_pca, open(filename, 'wb'))"
   ]
  },
  {
   "cell_type": "code",
   "execution_count": 96,
   "metadata": {},
   "outputs": [],
   "source": [
    "# load the model from disk\n",
    "rf_gs_pca = pickle.load(open('rf_gs_pca.sav', 'rb'))"
   ]
  },
  {
   "cell_type": "code",
   "execution_count": 97,
   "metadata": {},
   "outputs": [
    {
     "name": "stdout",
     "output_type": "stream",
     "text": [
      "Text(0.5, 1, 'Random Forest MultiClass GridSearch Model - Test Data')\n",
      "                   precision    recall  f1-score   support\n",
      "\n",
      "            Flood       0.67      0.31      0.42      3989\n",
      "             Hail       0.54      0.38      0.44      4387\n",
      "Thunderstorm Wind       0.60      0.84      0.70      8360\n",
      "\n",
      "         accuracy                           0.59     16736\n",
      "        macro avg       0.60      0.51      0.52     16736\n",
      "     weighted avg       0.60      0.59      0.57     16736\n",
      "\n"
     ]
    },
    {
     "data": {
      "image/png": "[encoded data removed]",
      "text/plain": [
       "<Figure size 432x288 with 2 Axes>"
      ]
     },
     "metadata": {
      "needs_background": "light"
     },
     "output_type": "display_data"
    }
   ],
   "source": [
    "#Test Data: Random Forest Grid Search + PCA\n",
    "\n",
    "#predicted classes for rf grid search model\n",
    "y_pred_base_gs_pca = rf_gs_pca.predict(X_test_pca)\n",
    "\n",
    "#confusion matrix for rf gs model\n",
    "test_matrix_base_gs_pca = confusion_matrix(y_test, y_pred_base_gs_pca)\n",
    "\n",
    "#plotting heatmap confusion matrix\n",
    "print(sns.heatmap(test_matrix_base_gs_pca, annot=True, cmap=\"YlGnBu\",fmt=\"d\").set_title(\n",
    "'Random Forest MultiClass GridSearch Model - Test Data'))\n",
    "\n",
    "\n",
    "#classification report for model\n",
    "test_report_base_gs_pca = classification_report(y_test, y_pred_base_gs_pca)\n",
    "print(test_report_base_gs_pca)"
   ]
  },
  {
   "cell_type": "code",
   "execution_count": 98,
   "metadata": {},
   "outputs": [
    {
     "name": "stdout",
     "output_type": "stream",
     "text": [
      "Text(0.5, 1, 'Random Forest MultiClass GridSearch Model - Test Data')\n",
      "                   precision    recall  f1-score   support\n",
      "\n",
      "            Flood       0.79      0.37      0.50      9691\n",
      "             Hail       0.61      0.44      0.51     10232\n",
      "Thunderstorm Wind       0.61      0.87      0.72     19125\n",
      "\n",
      "         accuracy                           0.63     39048\n",
      "        macro avg       0.67      0.56      0.58     39048\n",
      "     weighted avg       0.66      0.63      0.61     39048\n",
      "\n"
     ]
    },
    {
     "data": {
      "image/png": "[encoded data removed]",
      "text/plain": [
       "<Figure size 432x288 with 2 Axes>"
      ]
     },
     "metadata": {
      "needs_background": "light"
     },
     "output_type": "display_data"
    }
   ],
   "source": [
    "#Training Data: Random Forest Grid Search + PCA\n",
    "\n",
    "y_tpred_base_gs_pca = rf_gs_pca.predict(X_train_pca)\n",
    "\n",
    "train_matrix_base_gs_pca = confusion_matrix(y_train, y_tpred_base_gs_pca)\n",
    "\n",
    "#plotting heatmap confusion matrix\n",
    "print(sns.heatmap(train_matrix_base_gs_pca, annot=True, cmap=\"YlGnBu\",fmt=\"d\").set_title(\n",
    "'Random Forest MultiClass GridSearch Model - Test Data'))\n",
    "\n",
    "train_report_base_gs_pca = classification_report(y_train, y_tpred_base_gs_pca)\n",
    "print(train_report_base_gs_pca)"
   ]
  },
  {
   "cell_type": "markdown",
   "metadata": {},
   "source": [
    "PCA did not improve the accuracy of our classifcation by any metric. From inspecting the classification matrix, it's clear that the model is predicting that more of the instances are a \"Thunderstorm Wind.\" This is probably because there are almost double the amount of Thunderstorm Wind events than any other event. The Random Forest fit without PCA is printed below for reference: "
   ]
  },
  {
   "cell_type": "code",
   "execution_count": 125,
   "metadata": {
    "scrolled": true
   },
   "outputs": [
    {
     "name": "stdout",
     "output_type": "stream",
     "text": [
      "Text(0.5, 1, 'Random Forest MultiClass Base Model - Test Data')\n"
     ]
    },
    {
     "data": {
      "image/png": "[encoded data removed]",
      "text/plain": [
       "<Figure size 432x288 with 2 Axes>"
      ]
     },
     "metadata": {
      "needs_background": "light"
     },
     "output_type": "display_data"
    }
   ],
   "source": [
    "print(sns.heatmap(test_matrix_base, annot=True, cmap=\"YlGnBu\",fmt=\"d\").set_title(\n",
    "'Random Forest MultiClass Base Model - Test Data'))"
   ]
  },
  {
   "cell_type": "markdown",
   "metadata": {},
   "source": [
    "# Part IV: Applying Sampling Techniques"
   ]
  },
  {
   "cell_type": "markdown",
   "metadata": {},
   "source": [
    "We will apply under and over sampling methods to our best performing model, the XGB Classifier, to see if our accuracy is improved."
   ]
  },
  {
   "cell_type": "markdown",
   "metadata": {},
   "source": [
    "## A) Undersampling:"
   ]
  },
  {
   "cell_type": "code",
   "execution_count": 143,
   "metadata": {},
   "outputs": [
    {
     "name": "stdout",
     "output_type": "stream",
     "text": [
      "Flood                9691\n",
      "Thunderstorm Wind    9691\n",
      "Hail                 9691\n",
      "Name: EVENT_TYPE, dtype: int64\n"
     ]
    }
   ],
   "source": [
    "#applying undersampling to training data\n",
    "under = RandomUnderSampler(sampling_strategy='not minority', random_state=SEED)\n",
    "# fit and apply the transform\n",
    "X_train_under, y_train_under = under.fit_resample(X_train, y_train)\n",
    "print(y_train_under.EVENT_TYPE.value_counts())"
   ]
  },
  {
   "cell_type": "code",
   "execution_count": 144,
   "metadata": {},
   "outputs": [],
   "source": [
    "#scaling\n",
    "std_scaler = StandardScaler()\n",
    "X_train_scaled_under = std_scaler.fit_transform(X_train_under)\n",
    "X_test_scaled_under = std_scaler.transform(X_test)"
   ]
  },
  {
   "cell_type": "code",
   "execution_count": 148,
   "metadata": {},
   "outputs": [
    {
     "name": "stdout",
     "output_type": "stream",
     "text": [
      "Fitting 5 folds for each of 10 candidates, totalling 50 fits\n"
     ]
    },
    {
     "name": "stderr",
     "output_type": "stream",
     "text": [
      "[Parallel(n_jobs=-1)]: Using backend LokyBackend with 8 concurrent workers.\n",
      "[Parallel(n_jobs=-1)]: Done  16 tasks      | elapsed:  4.4min\n",
      "[Parallel(n_jobs=-1)]: Done  50 out of  50 | elapsed: 10.2min finished\n",
      "/Users/breabeals/opt/anaconda3/lib/python3.7/site-packages/sklearn/preprocessing/_label.py:235: DataConversionWarning: A column-vector y was passed when a 1d array was expected. Please change the shape of y to (n_samples, ), for example using ravel().\n",
      "  y = column_or_1d(y, warn=True)\n",
      "/Users/breabeals/opt/anaconda3/lib/python3.7/site-packages/sklearn/preprocessing/_label.py:268: DataConversionWarning: A column-vector y was passed when a 1d array was expected. Please change the shape of y to (n_samples, ), for example using ravel().\n",
      "  y = column_or_1d(y, warn=True)\n"
     ]
    },
    {
     "data": {
      "text/plain": [
       "RandomizedSearchCV(cv=5, error_score=nan,\n",
       "                   estimator=XGBClassifier(base_score=0.5, booster='gbtree',\n",
       "                                           colsample_bylevel=1,\n",
       "                                           colsample_bynode=1,\n",
       "                                           colsample_bytree=1, gamma=0,\n",
       "                                           learning_rate=0.1, max_delta_step=0,\n",
       "                                           max_depth=3, min_child_weight=1,\n",
       "                                           missing=None, n_estimators=100,\n",
       "                                           n_jobs=1, nthread=None,\n",
       "                                           objective='binary:logistic',\n",
       "                                           random_state=1, reg_alpha=0,\n",
       "                                           reg_lambda=1, scale_pos_weight=1,\n",
       "                                           seed=None, silent=None, subsample=1,\n",
       "                                           verbosity=1),\n",
       "                   iid='deprecated', n_iter=10, n_jobs=-1,\n",
       "                   param_distributions={'gamma': [0.0, 0.5, 1.0, 1.5],\n",
       "                                        'learning_rate': [0.0001, 0.001, 0.01,\n",
       "                                                          0.1, 0.2],\n",
       "                                        'max_depth': [1, 2],\n",
       "                                        'n_estimators': [100, 500, 750]},\n",
       "                   pre_dispatch='2*n_jobs', random_state=None, refit=True,\n",
       "                   return_train_score=False, scoring='accuracy', verbose=3)"
      ]
     },
     "execution_count": 148,
     "metadata": {},
     "output_type": "execute_result"
    }
   ],
   "source": [
    "#fitting our best model to undersampled data\n",
    "xgb_rs.fit(X_train_scaled_under,y_train_under)"
   ]
  },
  {
   "cell_type": "code",
   "execution_count": 149,
   "metadata": {},
   "outputs": [],
   "source": [
    "#best estimator\n",
    "xgb_best_under = xgb_rs.best_estimator_"
   ]
  },
  {
   "cell_type": "code",
   "execution_count": 150,
   "metadata": {},
   "outputs": [],
   "source": [
    "import pickle\n",
    "# save the model to disk\n",
    "filename = 'xgb_under_ml_project.sav'\n",
    "pickle.dump(xgb_best_under, open(filename, 'wb'))"
   ]
  },
  {
   "cell_type": "code",
   "execution_count": 151,
   "metadata": {},
   "outputs": [],
   "source": [
    "# load the model from disk\n",
    "xgb_best_under = pickle.load(open('xgb_under_ml_project.sav', 'rb'))"
   ]
  },
  {
   "cell_type": "code",
   "execution_count": 152,
   "metadata": {},
   "outputs": [
    {
     "name": "stdout",
     "output_type": "stream",
     "text": [
      "[[2279  776  934]\n",
      " [ 593 2986  808]\n",
      " [1394 2202 4764]]\n",
      "                   precision    recall  f1-score   support\n",
      "\n",
      "            Flood       0.53      0.57      0.55      3989\n",
      "             Hail       0.50      0.68      0.58      4387\n",
      "Thunderstorm Wind       0.73      0.57      0.64      8360\n",
      "\n",
      "         accuracy                           0.60     16736\n",
      "        macro avg       0.59      0.61      0.59     16736\n",
      "     weighted avg       0.62      0.60      0.60     16736\n",
      "\n"
     ]
    }
   ],
   "source": [
    "#Test: XGB\n",
    "\n",
    "y_pred_xgb_under = xgb_best_under.predict(X_test_scaled_under)\n",
    "\n",
    "#confusion matrix for xgb\n",
    "test_matrix_xgb_under = confusion_matrix(y_test, y_pred_xgb_under)\n",
    "print(test_matrix_xgb_under)\n",
    "\n",
    "\n",
    "#classification report for xgb\n",
    "test_report_xgb_under = classification_report(y_test, y_pred_xgb_under)\n",
    "print(test_report_xgb_under)"
   ]
  },
  {
   "cell_type": "code",
   "execution_count": 153,
   "metadata": {},
   "outputs": [
    {
     "name": "stdout",
     "output_type": "stream",
     "text": [
      "[[5721 1711 2259]\n",
      " [1205 6762 1724]\n",
      " [1596 2447 5648]]\n",
      "                   precision    recall  f1-score   support\n",
      "\n",
      "            Flood       0.67      0.59      0.63      9691\n",
      "             Hail       0.62      0.70      0.66      9691\n",
      "Thunderstorm Wind       0.59      0.58      0.58      9691\n",
      "\n",
      "         accuracy                           0.62     29073\n",
      "        macro avg       0.63      0.62      0.62     29073\n",
      "     weighted avg       0.63      0.62      0.62     29073\n",
      "\n"
     ]
    }
   ],
   "source": [
    "#Train: XGB\n",
    "\n",
    "y_tpred_xgb_under = xgb_best_under.predict(X_train_scaled_under)\n",
    "\n",
    "#confusion matrix for xgb\n",
    "train_matrix_xgb_under = confusion_matrix(y_train_under, y_tpred_xgb_under)\n",
    "print(train_matrix_xgb_under)\n",
    "\n",
    "\n",
    "#classification report for xgb\n",
    "train_report_xgb_under = classification_report(y_train_under, y_tpred_xgb_under)\n",
    "print(train_report_xgb_under)"
   ]
  },
  {
   "cell_type": "markdown",
   "metadata": {},
   "source": [
    "## B) Oversampling with SMOTE"
   ]
  },
  {
   "cell_type": "code",
   "execution_count": 104,
   "metadata": {},
   "outputs": [
    {
     "name": "stdout",
     "output_type": "stream",
     "text": [
      "(57375, 34) (57375, 1)\n",
      "Flood                19125\n",
      "Thunderstorm Wind    19125\n",
      "Hail                 19125\n",
      "Name: EVENT_TYPE, dtype: int64\n"
     ]
    }
   ],
   "source": [
    "#applying SMOTE to training data\n",
    "from imblearn.over_sampling import SMOTE\n",
    "from collections import Counter\n",
    "\n",
    "smote = SMOTE('all', random_state = SEED)\n",
    "X_train_sm, y_train_sm = smote.fit_sample(X_train, y_train)\n",
    "print(X_train_sm.shape, y_train_sm.shape)\n",
    "print(y_train_sm.EVENT_TYPE.value_counts())"
   ]
  },
  {
   "cell_type": "code",
   "execution_count": 105,
   "metadata": {},
   "outputs": [],
   "source": [
    "#scaling\n",
    "from sklearn.preprocessing import StandardScaler\n",
    "std_scaler = StandardScaler()\n",
    "X_train_scaled_sm = std_scaler.fit_transform(X_train_sm)\n",
    "X_test_scaled_sm = std_scaler.transform(X_test)"
   ]
  },
  {
   "cell_type": "code",
   "execution_count": 156,
   "metadata": {},
   "outputs": [
    {
     "name": "stdout",
     "output_type": "stream",
     "text": [
      "Fitting 5 folds for each of 10 candidates, totalling 50 fits\n"
     ]
    },
    {
     "name": "stderr",
     "output_type": "stream",
     "text": [
      "[Parallel(n_jobs=-1)]: Using backend LokyBackend with 8 concurrent workers.\n",
      "[Parallel(n_jobs=-1)]: Done  16 tasks      | elapsed:  3.4min\n",
      "[Parallel(n_jobs=-1)]: Done  50 out of  50 | elapsed: 25.6min finished\n",
      "/Users/breabeals/opt/anaconda3/lib/python3.7/site-packages/sklearn/preprocessing/_label.py:235: DataConversionWarning: A column-vector y was passed when a 1d array was expected. Please change the shape of y to (n_samples, ), for example using ravel().\n",
      "  y = column_or_1d(y, warn=True)\n",
      "/Users/breabeals/opt/anaconda3/lib/python3.7/site-packages/sklearn/preprocessing/_label.py:268: DataConversionWarning: A column-vector y was passed when a 1d array was expected. Please change the shape of y to (n_samples, ), for example using ravel().\n",
      "  y = column_or_1d(y, warn=True)\n"
     ]
    },
    {
     "data": {
      "text/plain": [
       "RandomizedSearchCV(cv=5, error_score=nan,\n",
       "                   estimator=XGBClassifier(base_score=0.5, booster='gbtree',\n",
       "                                           colsample_bylevel=1,\n",
       "                                           colsample_bynode=1,\n",
       "                                           colsample_bytree=1, gamma=0,\n",
       "                                           learning_rate=0.1, max_delta_step=0,\n",
       "                                           max_depth=3, min_child_weight=1,\n",
       "                                           missing=None, n_estimators=100,\n",
       "                                           n_jobs=1, nthread=None,\n",
       "                                           objective='binary:logistic',\n",
       "                                           random_state=1, reg_alpha=0,\n",
       "                                           reg_lambda=1, scale_pos_weight=1,\n",
       "                                           seed=None, silent=None, subsample=1,\n",
       "                                           verbosity=1),\n",
       "                   iid='deprecated', n_iter=10, n_jobs=-1,\n",
       "                   param_distributions={'gamma': [0.0, 0.5, 1.0, 1.5],\n",
       "                                        'learning_rate': [0.0001, 0.001, 0.01,\n",
       "                                                          0.1, 0.2],\n",
       "                                        'max_depth': [1, 2],\n",
       "                                        'n_estimators': [100, 500, 750]},\n",
       "                   pre_dispatch='2*n_jobs', random_state=None, refit=True,\n",
       "                   return_train_score=False, scoring='accuracy', verbose=3)"
      ]
     },
     "execution_count": 156,
     "metadata": {},
     "output_type": "execute_result"
    }
   ],
   "source": [
    "#fitting our best model to undersampled data\n",
    "xgb_rs.fit(X_train_scaled_sm,y_train_sm)"
   ]
  },
  {
   "cell_type": "code",
   "execution_count": 163,
   "metadata": {},
   "outputs": [],
   "source": [
    "#best estimator\n",
    "xgb_best_over = xgb_rs.best_estimator_"
   ]
  },
  {
   "cell_type": "code",
   "execution_count": null,
   "metadata": {},
   "outputs": [],
   "source": [
    "import pickle\n",
    "# save the model to disk\n",
    "filename = 'xgb_over_ml_project.sav'\n",
    "pickle.dump(xgb_best_over, open(filename, 'wb'))"
   ]
  },
  {
   "cell_type": "code",
   "execution_count": null,
   "metadata": {},
   "outputs": [],
   "source": [
    "# load the model from disk\n",
    "xgb_best_over = pickle.load(open('xgb_over_ml_project.sav', 'rb'))"
   ]
  },
  {
   "cell_type": "code",
   "execution_count": 106,
   "metadata": {},
   "outputs": [
    {
     "name": "stdout",
     "output_type": "stream",
     "text": [
      "[[2152  764 1073]\n",
      " [ 637 2895  855]\n",
      " [1317 2118 4925]]\n",
      "                   precision    recall  f1-score   support\n",
      "\n",
      "            Flood       0.52      0.54      0.53      3989\n",
      "             Hail       0.50      0.66      0.57      4387\n",
      "Thunderstorm Wind       0.72      0.59      0.65      8360\n",
      "\n",
      "         accuracy                           0.60     16736\n",
      "        macro avg       0.58      0.60      0.58     16736\n",
      "     weighted avg       0.62      0.60      0.60     16736\n",
      "\n"
     ]
    }
   ],
   "source": [
    "#Test: XGB\n",
    "\n",
    "y_pred_xgb_over = xgb_best_over.predict(X_test_scaled_sm)\n",
    "\n",
    "#confusion matrix for xgb\n",
    "test_matrix_xgb_over = confusion_matrix(y_test, y_pred_xgb_over)\n",
    "print(test_matrix_xgb_over)\n",
    "\n",
    "\n",
    "#classification report for xgb\n",
    "test_report_xgb_over = classification_report(y_test, y_pred_xgb_over)\n",
    "print(test_report_xgb_over)"
   ]
  },
  {
   "cell_type": "code",
   "execution_count": 161,
   "metadata": {},
   "outputs": [
    {
     "name": "stdout",
     "output_type": "stream",
     "text": [
      "[[11075  3611  4439]\n",
      " [ 2633 13320  3172]\n",
      " [ 3115  4641 11369]]\n",
      "                   precision    recall  f1-score   support\n",
      "\n",
      "            Flood       0.66      0.58      0.62     19125\n",
      "             Hail       0.62      0.70      0.65     19125\n",
      "Thunderstorm Wind       0.60      0.59      0.60     19125\n",
      "\n",
      "         accuracy                           0.62     57375\n",
      "        macro avg       0.62      0.62      0.62     57375\n",
      "     weighted avg       0.62      0.62      0.62     57375\n",
      "\n"
     ]
    }
   ],
   "source": [
    "#Train: XGB\n",
    "\n",
    "y_tpred_xgb_over = xgb_best_over.predict(X_train_scaled_sm)\n",
    "\n",
    "#confusion matrix for xgb\n",
    "train_matrix_xgb_over = confusion_matrix(y_train_sm, y_tpred_xgb_over)\n",
    "print(train_matrix_xgb_over)\n",
    "\n",
    "\n",
    "#classification report for xgb\n",
    "train_report_xgb_over = classification_report(y_train_sm, y_tpred_xgb_over)\n",
    "print(train_report_xgb_over)"
   ]
  },
  {
   "cell_type": "markdown",
   "metadata": {},
   "source": [
    "Our undersampling and oversampling techniques did not result in a better model. Both models had a test accuracy 4% lower than our best performing model thus far. "
   ]
  },
  {
   "cell_type": "markdown",
   "metadata": {},
   "source": [
    "# Part V: Summary"
   ]
  },
  {
   "cell_type": "markdown",
   "metadata": {},
   "source": [
    "## A) Model Overview: \n",
    "\n",
    "Our three best models arnd their test accuracy/ train accuracy are shown below: \n",
    "\n",
    "* __XGBoost Classifier:__\n",
    "\n",
    "    * Test Accuracy: 0.64\n",
    "    * Train Accuracy: 0.67\n",
    "    * Test Weighted Average: 0.63\n",
    "\n",
    "* __Random Forest Classifier:__\n",
    "\n",
    "    * Test Accuracy: 0.63\n",
    "    * Train Accuracy: 0.66\n",
    "    * Test Weighted Average: 0.62\n",
    "    \n",
    "    \n",
    "* __AdaBoost Classifier:__\n",
    "\n",
    "    * Test Accuracy: 0.61\n",
    "    * Train Accuracy: 0.62\n",
    "    * Test Weighted Average: 0.60\n",
    "\n",
    "\n",
    "Overall, our best performing model in terms of test accuracy was our XGBoost Classifier, without PCA, and without any form of undersampling or oversampling. The model had a test accuracy of 64% and a train accuracy of 67%. While the model could be improved with a slightly smaller generalization gap, it is expected for the test accuray to be slightly less than the train accuracy, and overall the model is generalizing well. \n",
    "\n",
    "Our Random Forest Classifier had only slightly lower test accuracy, 63%, with a training accuracy of 66%. Much like the XGBoost Classifier, there is a 3% difference between the test and train accuracy. Considering the generalization gap is the same, and the XGBoost Classifier outperformed by 1% in both test acccuracy and test weighted average accuracy, we will favor the XGBoost Model over the Random Forest. \n",
    "\n",
    "Another model that is worth consideration is the AdaBoost Classifier, with a test accuracy of 61%. While this model slightly performed the other two models mentioned, the AdaBoost Classifier only has a 1% difference between the test and train accuracy. This model appears to be generalizing the best, but at the cost of slightly lower accuracy. \n",
    "\n",
    "Interesingly, PCA, and sampling techniques to balance the data did not result in significantly better overall results nor did it help our model see improvement in minority class results. \n",
    "\n",
    "Below our the results of how each technique compared to it's base model: \n",
    "\n",
    "\n",
    " * __Applying PCA:__\n",
    " \n",
    "     * Test Accuracy: -4%\n",
    "     * Train Accuracy: -3%\n",
    "     * Test Weighted Average: -5%\n",
    "     \n",
    "     \n",
    " * __Applying Undersampling:__\n",
    " \n",
    "     * Test Accuracy: -4%\n",
    "     * Train Accuracy: -5%\n",
    "     * Test Weighted Average: -3%\n",
    "     \n",
    "     \n",
    " * __Applying Oversampling:__\n",
    " \n",
    "     * Test Accuracy: -4%\n",
    "     * Train Accuracy: -5%\n",
    "     * Test Weighted Average: -3%\n",
    "     "
   ]
  },
  {
   "cell_type": "markdown",
   "metadata": {},
   "source": [
    "## B)  Future Considerations: \n",
    "\n",
    "In the majority of our models, location and temperature related features were the most important. However, in our best performing model, using XGBoost Classifier, features related to fraction cloud coverage were the best. I would be interested in doing a little more digging into fraction cloud coverage to see how I could further engineer that feature. \n",
    "\n",
    "I would also like to further engineer the location realted features. Our geoclusters where a great start to grouping the latitude and longitudes into meaningful groups, but I believe more could be done. If I were to continue this project, I would want to match each location to its state using the latitude and longitude. Then, I would map each state to its resepctive region of the country (ie: Midwest, Pacific Northwest, etc) as weather is often regional. \n",
    "\n",
    "I would also like to explore more sampling techniques, including a combination of oversampling and undersampling, and broadening the scope of the project to attempt to classify all of the types of severe weather events. "
   ]
  },
  {
   "cell_type": "code",
   "execution_count": null,
   "metadata": {},
   "outputs": [],
   "source": []
  }
 ],
 "metadata": {
  "kernelspec": {
   "display_name": "Python 3",
   "language": "python",
   "name": "python3"
  },
  "language_info": {
   "codemirror_mode": {
    "name": "ipython",
    "version": 3
   },
   "file_extension": ".py",
   "mimetype": "text/x-python",
   "name": "python",
   "nbconvert_exporter": "python",
   "pygments_lexer": "ipython3",
   "version": "3.7.6"
  }
 },
 "nbformat": 4,
 "nbformat_minor": 4
}
