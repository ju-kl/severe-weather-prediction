{
 "cells": [
  {
   "cell_type": "code",
   "execution_count": 6,
   "metadata": {},
   "outputs": [],
   "source": [
    "import pandas as pd\n",
    "import numpy as np\n",
    "import pickle\n",
    "import matplotlib.pyplot as plt\n",
    "import seaborn as sns\n",
    "from collections import Counter\n",
    "\n",
    "from imblearn.datasets import make_imbalance\n",
    "from imblearn.over_sampling import SMOTE\n",
    "from imblearn.under_sampling import RandomUnderSampler\n",
    "from imblearn.over_sampling import RandomOverSampler\n",
    "from sklearn.preprocessing import StandardScaler\n",
    "\n",
    "from sklearn.model_selection import GridSearchCV\n",
    "from sklearn.model_selection import RandomizedSearchCV\n",
    "\n",
    "from sklearn import svm\n",
    "from sklearn.tree import DecisionTreeClassifier\n",
    "from sklearn.ensemble import GradientBoostingClassifier\n",
    "from sklearn.neighbors import KNeighborsClassifier\n",
    "from sklearn.ensemble import RandomForestClassifier\n",
    "from sklearn.ensemble import AdaBoostClassifier\n",
    "\n",
    "import tensorflow as tf\n",
    "from keras.models import Sequential\n",
    "from keras.layers import Dense, Dropout\n",
    "\n",
    "from sklearn.metrics import classification_report\n",
    "from sklearn.metrics import confusion_matrix\n",
    "from sklearn.metrics import roc_auc_score"
   ]
  },
  {
   "cell_type": "markdown",
   "metadata": {},
   "source": [
    "## Damage Models\n",
    "\n",
    "**Purpose of this notebook:** In this notebook, we apply different machine learning and deep learning techniques to make predictions on the damage caused by severe weather events. The target variable will be a categorical variable created from `DAMAGE_PROPERTY` and `DAMAGE_CROPS`. We will use the feature engineered data resulting from previous notebooks.\n",
    "\n",
    "Structure of this notebook:\n",
    "1. Multiclass classification: We start by classifying multiple damage categories based on balanced as well as unbalanced data. We apply models such as SVM, KNN, Decision Trees, Random Forests, Gradient Boosting, and Ada Boosting and compare their performance respectively.\n",
    "2. Binary classification: We then limit the number of classes to only 2 and again make classifications based on balanced as well as unbalanced data. We apply deep learning techniques such as Artificial Neural Networks and benchmark them against machine learning models such as Ada Boosting."
   ]
  },
  {
   "cell_type": "markdown",
   "metadata": {},
   "source": [
    "## 1. Data"
   ]
  },
  {
   "cell_type": "code",
   "execution_count": 7,
   "metadata": {},
   "outputs": [],
   "source": [
    "# load data\n",
    "dat = pd.read_csv(\"datasets/dat_fe.csv\", index_col=\"Unnamed: 0\")"
   ]
  },
  {
   "cell_type": "code",
   "execution_count": 8,
   "metadata": {},
   "outputs": [
    {
     "data": {
      "text/html": [
       "<div>\n",
       "<style scoped>\n",
       "    .dataframe tbody tr th:only-of-type {\n",
       "        vertical-align: middle;\n",
       "    }\n",
       "\n",
       "    .dataframe tbody tr th {\n",
       "        vertical-align: top;\n",
       "    }\n",
       "\n",
       "    .dataframe thead th {\n",
       "        text-align: right;\n",
       "    }\n",
       "</style>\n",
       "<table border=\"1\" class=\"dataframe\">\n",
       "  <thead>\n",
       "    <tr style=\"text-align: right;\">\n",
       "      <th></th>\n",
       "      <th>latitude</th>\n",
       "      <th>longitude</th>\n",
       "      <th>EVENT_TYPE</th>\n",
       "      <th>INJURIES_DIRECT</th>\n",
       "      <th>INJURIES_INDIRECT</th>\n",
       "      <th>DEATHS_DIRECT</th>\n",
       "      <th>DEATHS_INDIRECT</th>\n",
       "      <th>DAMAGE_PROPERTY</th>\n",
       "      <th>DAMAGE_CROPS</th>\n",
       "      <th>fraction_cloud_cover</th>\n",
       "      <th>...</th>\n",
       "      <th>fraction_cloud_cover_10_day_min</th>\n",
       "      <th>relative_humidity_10_day_min</th>\n",
       "      <th>temperature_10_day_min</th>\n",
       "      <th>u_component_wind_10_day_min</th>\n",
       "      <th>v_component_wind_10_day_min</th>\n",
       "      <th>vertical_velocity_10_day_min</th>\n",
       "      <th>geo_cluster</th>\n",
       "      <th>year</th>\n",
       "      <th>month</th>\n",
       "      <th>day</th>\n",
       "    </tr>\n",
       "  </thead>\n",
       "  <tbody>\n",
       "    <tr>\n",
       "      <th>0</th>\n",
       "      <td>24.74</td>\n",
       "      <td>-124.779999</td>\n",
       "      <td>NaN</td>\n",
       "      <td>0.0</td>\n",
       "      <td>0.0</td>\n",
       "      <td>0.0</td>\n",
       "      <td>0.0</td>\n",
       "      <td>0.0</td>\n",
       "      <td>0.0</td>\n",
       "      <td>NaN</td>\n",
       "      <td>...</td>\n",
       "      <td>NaN</td>\n",
       "      <td>NaN</td>\n",
       "      <td>NaN</td>\n",
       "      <td>NaN</td>\n",
       "      <td>NaN</td>\n",
       "      <td>NaN</td>\n",
       "      <td>0</td>\n",
       "      <td>2015</td>\n",
       "      <td>1</td>\n",
       "      <td>4</td>\n",
       "    </tr>\n",
       "    <tr>\n",
       "      <th>1</th>\n",
       "      <td>24.74</td>\n",
       "      <td>-124.779999</td>\n",
       "      <td>NaN</td>\n",
       "      <td>0.0</td>\n",
       "      <td>0.0</td>\n",
       "      <td>0.0</td>\n",
       "      <td>0.0</td>\n",
       "      <td>0.0</td>\n",
       "      <td>0.0</td>\n",
       "      <td>0.0</td>\n",
       "      <td>...</td>\n",
       "      <td>0.0</td>\n",
       "      <td>7.532600</td>\n",
       "      <td>265.40286</td>\n",
       "      <td>-1.206722</td>\n",
       "      <td>-13.830118</td>\n",
       "      <td>0.329384</td>\n",
       "      <td>0</td>\n",
       "      <td>2015</td>\n",
       "      <td>1</td>\n",
       "      <td>5</td>\n",
       "    </tr>\n",
       "    <tr>\n",
       "      <th>2</th>\n",
       "      <td>24.74</td>\n",
       "      <td>-124.779999</td>\n",
       "      <td>NaN</td>\n",
       "      <td>0.0</td>\n",
       "      <td>0.0</td>\n",
       "      <td>0.0</td>\n",
       "      <td>0.0</td>\n",
       "      <td>0.0</td>\n",
       "      <td>0.0</td>\n",
       "      <td>0.0</td>\n",
       "      <td>...</td>\n",
       "      <td>0.0</td>\n",
       "      <td>7.532600</td>\n",
       "      <td>264.13422</td>\n",
       "      <td>-1.702287</td>\n",
       "      <td>-13.830118</td>\n",
       "      <td>0.310506</td>\n",
       "      <td>0</td>\n",
       "      <td>2015</td>\n",
       "      <td>1</td>\n",
       "      <td>6</td>\n",
       "    </tr>\n",
       "    <tr>\n",
       "      <th>3</th>\n",
       "      <td>24.74</td>\n",
       "      <td>-124.779999</td>\n",
       "      <td>NaN</td>\n",
       "      <td>0.0</td>\n",
       "      <td>0.0</td>\n",
       "      <td>0.0</td>\n",
       "      <td>0.0</td>\n",
       "      <td>0.0</td>\n",
       "      <td>0.0</td>\n",
       "      <td>0.0</td>\n",
       "      <td>...</td>\n",
       "      <td>0.0</td>\n",
       "      <td>7.018421</td>\n",
       "      <td>263.48780</td>\n",
       "      <td>-3.931420</td>\n",
       "      <td>-13.830118</td>\n",
       "      <td>-0.045236</td>\n",
       "      <td>0</td>\n",
       "      <td>2015</td>\n",
       "      <td>1</td>\n",
       "      <td>7</td>\n",
       "    </tr>\n",
       "    <tr>\n",
       "      <th>4</th>\n",
       "      <td>24.74</td>\n",
       "      <td>-124.779999</td>\n",
       "      <td>NaN</td>\n",
       "      <td>0.0</td>\n",
       "      <td>0.0</td>\n",
       "      <td>0.0</td>\n",
       "      <td>0.0</td>\n",
       "      <td>0.0</td>\n",
       "      <td>0.0</td>\n",
       "      <td>0.0</td>\n",
       "      <td>...</td>\n",
       "      <td>0.0</td>\n",
       "      <td>7.018421</td>\n",
       "      <td>261.52145</td>\n",
       "      <td>-3.931420</td>\n",
       "      <td>-13.830118</td>\n",
       "      <td>-0.089284</td>\n",
       "      <td>0</td>\n",
       "      <td>2015</td>\n",
       "      <td>1</td>\n",
       "      <td>8</td>\n",
       "    </tr>\n",
       "  </tbody>\n",
       "</table>\n",
       "<p>5 rows × 43 columns</p>\n",
       "</div>"
      ],
      "text/plain": [
       "   latitude   longitude EVENT_TYPE  INJURIES_DIRECT  INJURIES_INDIRECT  \\\n",
       "0     24.74 -124.779999        NaN              0.0                0.0   \n",
       "1     24.74 -124.779999        NaN              0.0                0.0   \n",
       "2     24.74 -124.779999        NaN              0.0                0.0   \n",
       "3     24.74 -124.779999        NaN              0.0                0.0   \n",
       "4     24.74 -124.779999        NaN              0.0                0.0   \n",
       "\n",
       "   DEATHS_DIRECT  DEATHS_INDIRECT  DAMAGE_PROPERTY  DAMAGE_CROPS  \\\n",
       "0            0.0              0.0              0.0           0.0   \n",
       "1            0.0              0.0              0.0           0.0   \n",
       "2            0.0              0.0              0.0           0.0   \n",
       "3            0.0              0.0              0.0           0.0   \n",
       "4            0.0              0.0              0.0           0.0   \n",
       "\n",
       "   fraction_cloud_cover  ...  fraction_cloud_cover_10_day_min  \\\n",
       "0                   NaN  ...                              NaN   \n",
       "1                   0.0  ...                              0.0   \n",
       "2                   0.0  ...                              0.0   \n",
       "3                   0.0  ...                              0.0   \n",
       "4                   0.0  ...                              0.0   \n",
       "\n",
       "   relative_humidity_10_day_min  temperature_10_day_min  \\\n",
       "0                           NaN                     NaN   \n",
       "1                      7.532600               265.40286   \n",
       "2                      7.532600               264.13422   \n",
       "3                      7.018421               263.48780   \n",
       "4                      7.018421               261.52145   \n",
       "\n",
       "   u_component_wind_10_day_min  v_component_wind_10_day_min  \\\n",
       "0                          NaN                          NaN   \n",
       "1                    -1.206722                   -13.830118   \n",
       "2                    -1.702287                   -13.830118   \n",
       "3                    -3.931420                   -13.830118   \n",
       "4                    -3.931420                   -13.830118   \n",
       "\n",
       "   vertical_velocity_10_day_min  geo_cluster  year  month  day  \n",
       "0                           NaN            0  2015      1    4  \n",
       "1                      0.329384            0  2015      1    5  \n",
       "2                      0.310506            0  2015      1    6  \n",
       "3                     -0.045236            0  2015      1    7  \n",
       "4                     -0.089284            0  2015      1    8  \n",
       "\n",
       "[5 rows x 43 columns]"
      ]
     },
     "execution_count": 8,
     "metadata": {},
     "output_type": "execute_result"
    }
   ],
   "source": [
    "# display\n",
    "dat.head()"
   ]
  },
  {
   "cell_type": "code",
   "execution_count": 9,
   "metadata": {},
   "outputs": [
    {
     "data": {
      "text/plain": [
       "count    2.318900e+04\n",
       "mean     3.627052e+06\n",
       "std      1.354412e+08\n",
       "min      1.000000e+01\n",
       "25%      4.000000e+03\n",
       "50%      1.500000e+04\n",
       "75%      6.400000e+04\n",
       "max      1.200291e+10\n",
       "Name: total_damage, dtype: float64"
      ]
     },
     "execution_count": 9,
     "metadata": {},
     "output_type": "execute_result"
    }
   ],
   "source": [
    "# create column for total damage\n",
    "dat[\"total_damage\"] = dat[\"DAMAGE_PROPERTY\"] + dat[\"DAMAGE_CROPS\"]\n",
    "\n",
    "# find rows where total damage is not null\n",
    "total_damage_not_null = dat[dat[\"total_damage\"] != 0]\n",
    "\n",
    "# find info on not null damage\n",
    "total_damage_not_null[\"total_damage\"].describe()"
   ]
  },
  {
   "cell_type": "markdown",
   "metadata": {},
   "source": [
    "## 2. Multiclass Classification"
   ]
  },
  {
   "cell_type": "markdown",
   "metadata": {},
   "source": [
    "### 2.1. Creating Classes"
   ]
  },
  {
   "cell_type": "markdown",
   "metadata": {},
   "source": [
    "The following cut-off points are defined having our insurance business use case in mind as well as trying to find a reasonable distribution of classes."
   ]
  },
  {
   "cell_type": "code",
   "execution_count": 6,
   "metadata": {},
   "outputs": [
    {
     "data": {
      "text/plain": [
       "no_damage              3753905\n",
       "small_damage             12045\n",
       "considerable_damage       6713\n",
       "high_damage               3223\n",
       "catastrophic_damage       1208\n",
       "Name: damage_class, dtype: int64"
      ]
     },
     "execution_count": 6,
     "metadata": {},
     "output_type": "execute_result"
    }
   ],
   "source": [
    "# define ranges for damage classes\n",
    "bin_labels = [\"no_damage\", \"small_damage\", \"considerable_damage\", \"high_damage\", \"catastrophic_damage\"]\n",
    "cut_bins = [-1, 1, 15000, 100000, 1000000, float(dat[[\"total_damage\"]].max())]\n",
    "\n",
    "# assign damage classes\n",
    "dat[\"damage_class\"] = pd.cut(dat[\"total_damage\"], bins=cut_bins, labels=bin_labels)\n",
    "\n",
    "# investigate resulting bins\n",
    "dat[\"damage_class\"].value_counts()"
   ]
  },
  {
   "cell_type": "code",
   "execution_count": 7,
   "metadata": {},
   "outputs": [
    {
     "name": "stdout",
     "output_type": "stream",
     "text": [
      "Flood                       306\n",
      "Flash Flood                 283\n",
      "Thunderstorm Wind           237\n",
      "Hail                        163\n",
      "Tornado                     133\n",
      "Heavy Rain                   55\n",
      "Marine Thunderstorm Wind     16\n",
      "Lightning                    15\n",
      "Name: EVENT_TYPE, dtype: int64\n",
      "Thunderstorm Wind           7275\n",
      "Flash Flood                 1450\n",
      "Hail                        1370\n",
      "Flood                        987\n",
      "Lightning                    361\n",
      "Tornado                      247\n",
      "Marine Thunderstorm Wind     233\n",
      "Heavy Rain                   122\n",
      "Name: EVENT_TYPE, dtype: int64\n"
     ]
    }
   ],
   "source": [
    "# insight into events by damage class\n",
    "print(dat[dat.damage_class == \"catastrophic_damage\"][\"EVENT_TYPE\"].value_counts())\n",
    "print(dat[dat.damage_class == \"small_damage\"][\"EVENT_TYPE\"].value_counts())"
   ]
  },
  {
   "cell_type": "code",
   "execution_count": 8,
   "metadata": {},
   "outputs": [],
   "source": [
    "# drop event columns\n",
    "dat = dat.drop(columns=[\"EVENT_TYPE\"]).copy()\n",
    "\n",
    "# drop nans \n",
    "dat.dropna(inplace=True)"
   ]
  },
  {
   "cell_type": "code",
   "execution_count": 9,
   "metadata": {},
   "outputs": [],
   "source": [
    "# split into train and test; not random but by time\n",
    "dat_train = dat[dat[\"year\"] < 2019].copy()\n",
    "dat_test = dat[dat[\"year\"] >= 2019].copy()"
   ]
  },
  {
   "cell_type": "code",
   "execution_count": 10,
   "metadata": {},
   "outputs": [
    {
     "name": "stdout",
     "output_type": "stream",
     "text": [
      "0.80% of the data are used for training, representing 4 year(s).\n",
      "0.20% of the data are used for testing, representing 1 year(s).\n"
     ]
    }
   ],
   "source": [
    "# train and test split\n",
    "print(\"{:.2f}% of the data are used for training, representing {} year(s).\".format(len(dat_train)/len(dat), len(dat_train[\"year\"].unique())))\n",
    "print(\"{:.2f}% of the data are used for testing, representing {} year(s).\".format(len(dat_test)/len(dat), len(dat_test[\"year\"].unique())))"
   ]
  },
  {
   "cell_type": "code",
   "execution_count": 11,
   "metadata": {},
   "outputs": [],
   "source": [
    "# drop first 10 days from testing for each location as they include information from training\n",
    "dat_test = dat_test[(dat_test[\"month\"] != 1) & (dat_test[\"day\"] > 10)]"
   ]
  },
  {
   "cell_type": "code",
   "execution_count": 12,
   "metadata": {},
   "outputs": [],
   "source": [
    "# select features for train\n",
    "X_train = dat_train.drop(columns=[\"INJURIES_DIRECT\", \"INJURIES_INDIRECT\", \"DEATHS_DIRECT\", \"DEATHS_INDIRECT\",\n",
    "                                  \"DAMAGE_PROPERTY\", \"DAMAGE_CROPS\", \"total_damage\", \"damage_class\"]).copy().values\n",
    "\n",
    "# select features for test\n",
    "X_test = dat_test.drop(columns=[\"INJURIES_DIRECT\", \"INJURIES_INDIRECT\", \"DEATHS_DIRECT\", \"DEATHS_INDIRECT\",\n",
    "                                \"DAMAGE_PROPERTY\", \"DAMAGE_CROPS\", \"total_damage\", \"damage_class\"]).copy().values"
   ]
  },
  {
   "cell_type": "code",
   "execution_count": 13,
   "metadata": {},
   "outputs": [],
   "source": [
    "# select target variable\n",
    "y_train = dat_train[[\"damage_class\"]].copy().values.ravel()\n",
    "y_test = dat_test[[\"damage_class\"]].copy().values.ravel()"
   ]
  },
  {
   "cell_type": "markdown",
   "metadata": {},
   "source": [
    "### 2.2. Sampling and Balance"
   ]
  },
  {
   "cell_type": "markdown",
   "metadata": {},
   "source": [
    "### - make_imbalance\n",
    "- See: https://imbalanced-learn.readthedocs.io/en/stable/auto_examples/applications/plot_multi_class_under_sampling.html"
   ]
  },
  {
   "cell_type": "code",
   "execution_count": 12,
   "metadata": {},
   "outputs": [
    {
     "name": "stdout",
     "output_type": "stream",
     "text": [
      "no_damage              99.395467\n",
      "small_damage            0.315555\n",
      "considerable_damage     0.173386\n",
      "high_damage             0.084970\n",
      "catastrophic_damage     0.030621\n",
      "dtype: float64\n"
     ]
    }
   ],
   "source": [
    "# investigate balance in train\n",
    "print(pd.Series(y_train).value_counts()/len(y_train)*100)"
   ]
  },
  {
   "cell_type": "code",
   "execution_count": 13,
   "metadata": {},
   "outputs": [],
   "source": [
    "# balance train dataset\n",
    "X_train_bal, y_train_bal = make_imbalance(X_train, y_train, sampling_strategy={\"no_damage\": int(len(y_train)*0.01)}, \n",
    "                                          random_state=3)"
   ]
  },
  {
   "cell_type": "code",
   "execution_count": 14,
   "metadata": {},
   "outputs": [
    {
     "name": "stdout",
     "output_type": "stream",
     "text": [
      "no_damage              62.323151\n",
      "small_damage           19.666646\n",
      "considerable_damage    10.806122\n",
      "high_damage             5.295661\n",
      "catastrophic_damage     1.908421\n",
      "dtype: float64\n"
     ]
    }
   ],
   "source": [
    "print(pd.Series(y_train_bal).value_counts()/len(y_train_bal)*100)"
   ]
  },
  {
   "cell_type": "markdown",
   "metadata": {},
   "source": [
    "### - smote\n",
    "- See: https://imbalanced-learn.readthedocs.io/en/stable/generated/imblearn.over_sampling.SMOTE.html"
   ]
  },
  {
   "cell_type": "code",
   "execution_count": 34,
   "metadata": {},
   "outputs": [],
   "source": [
    "# initialize smote\n",
    "smote_over = SMOTE(sampling_strategy=\"all\")\n",
    "\n",
    "# balance train dataset\n",
    "X_train_smote, y_train_smote = smote_over.fit_resample(X_train, y_train)"
   ]
  },
  {
   "cell_type": "code",
   "execution_count": 35,
   "metadata": {},
   "outputs": [
    {
     "name": "stdout",
     "output_type": "stream",
     "text": [
      "no_damage              20.0\n",
      "high_damage            20.0\n",
      "considerable_damage    20.0\n",
      "catastrophic_damage    20.0\n",
      "small_damage           20.0\n",
      "dtype: float64\n"
     ]
    }
   ],
   "source": [
    "print(pd.Series(y_train_smote).value_counts()/len(y_train_smote)*100)"
   ]
  },
  {
   "cell_type": "markdown",
   "metadata": {},
   "source": [
    "### 2.3. Modelling `damage_class`"
   ]
  },
  {
   "cell_type": "markdown",
   "metadata": {},
   "source": [
    "### - Support Vector Machine Base Model"
   ]
  },
  {
   "cell_type": "code",
   "execution_count": null,
   "metadata": {},
   "outputs": [],
   "source": [
    "# initiate StandardScaler()\n",
    "scaler = StandardScaler()\n",
    "\n",
    "# fit scaler using training data\n",
    "scaler.fit(X_train_bal)\n",
    "\n",
    "# transform data\n",
    "x_train_scaled = scaler.transform(X_train_bal)\n",
    "x_test_scaled = scaler.transform(X_test)"
   ]
  },
  {
   "cell_type": "code",
   "execution_count": 22,
   "metadata": {},
   "outputs": [],
   "source": [
    "# instantiatie model\n",
    "svc = svm.SVC(kernel=\"rbf\", random_state=3)\n",
    "\n",
    "# fit the model\n",
    "svc.fit(x_train_scaled, y_train_bal)\n",
    "\n",
    "# predict on test data\n",
    "y_pred_test_svc = svc.predict(x_test_scaled)\n",
    "\n",
    "# predict on train data\n",
    "y_pred_train_svc = svc.predict(x_train_scaled)"
   ]
  },
  {
   "cell_type": "code",
   "execution_count": null,
   "metadata": {},
   "outputs": [],
   "source": [
    "# save model object to disk\n",
    "filename = 'models/damage_class_svm.sav'\n",
    "pickle.dump(svc, open(filename, 'wb'))"
   ]
  },
  {
   "cell_type": "code",
   "execution_count": 24,
   "metadata": {},
   "outputs": [
    {
     "name": "stdout",
     "output_type": "stream",
     "text": [
      "                     precision    recall  f1-score   support\n",
      "\n",
      "catastrophic_damage       0.00      0.00      0.00       187\n",
      "considerable_damage       0.01      0.00      0.00      1035\n",
      "        high_damage       0.00      0.00      0.00       470\n",
      "          no_damage       1.00      0.94      0.97    460170\n",
      "       small_damage       0.03      0.46      0.05      1721\n",
      "\n",
      "           accuracy                           0.93    463583\n",
      "          macro avg       0.21      0.28      0.20    463583\n",
      "       weighted avg       0.99      0.93      0.96    463583\n",
      "\n"
     ]
    }
   ],
   "source": [
    "# classification report\n",
    "print(classification_report(y_test, y_pred_test_svc))"
   ]
  },
  {
   "cell_type": "code",
   "execution_count": 26,
   "metadata": {},
   "outputs": [
    {
     "name": "stdout",
     "output_type": "stream",
     "text": [
      "                     precision    recall  f1-score   support\n",
      "\n",
      "catastrophic_damage       0.78      0.05      0.09       924\n",
      "considerable_damage       0.52      0.02      0.04      5232\n",
      "        high_damage       0.79      0.02      0.05      2564\n",
      "          no_damage       0.79      0.93      0.86     30175\n",
      "       small_damage       0.49      0.65      0.56      9522\n",
      "\n",
      "           accuracy                           0.71     48417\n",
      "          macro avg       0.67      0.33      0.32     48417\n",
      "       weighted avg       0.70      0.71      0.65     48417\n",
      "\n"
     ]
    }
   ],
   "source": [
    "# classification report\n",
    "print(classification_report(y_train_bal, y_pred_train_svc))"
   ]
  },
  {
   "cell_type": "code",
   "execution_count": 29,
   "metadata": {},
   "outputs": [
    {
     "data": {
      "text/html": [
       "<div>\n",
       "<style scoped>\n",
       "    .dataframe tbody tr th:only-of-type {\n",
       "        vertical-align: middle;\n",
       "    }\n",
       "\n",
       "    .dataframe tbody tr th {\n",
       "        vertical-align: top;\n",
       "    }\n",
       "\n",
       "    .dataframe thead th {\n",
       "        text-align: right;\n",
       "    }\n",
       "</style>\n",
       "<table border=\"1\" class=\"dataframe\">\n",
       "  <thead>\n",
       "    <tr style=\"text-align: right;\">\n",
       "      <th></th>\n",
       "      <th>catastrophic_damage</th>\n",
       "      <th>considerable_damage</th>\n",
       "      <th>high_damage</th>\n",
       "      <th>no_damage</th>\n",
       "      <th>small_damage</th>\n",
       "    </tr>\n",
       "  </thead>\n",
       "  <tbody>\n",
       "    <tr>\n",
       "      <th>catastrophic_damage</th>\n",
       "      <td>0</td>\n",
       "      <td>1</td>\n",
       "      <td>0</td>\n",
       "      <td>148</td>\n",
       "      <td>38</td>\n",
       "    </tr>\n",
       "    <tr>\n",
       "      <th>considerable_damage</th>\n",
       "      <td>0</td>\n",
       "      <td>1</td>\n",
       "      <td>0</td>\n",
       "      <td>624</td>\n",
       "      <td>410</td>\n",
       "    </tr>\n",
       "    <tr>\n",
       "      <th>high_damage</th>\n",
       "      <td>0</td>\n",
       "      <td>0</td>\n",
       "      <td>0</td>\n",
       "      <td>347</td>\n",
       "      <td>123</td>\n",
       "    </tr>\n",
       "    <tr>\n",
       "      <th>no_damage</th>\n",
       "      <td>8</td>\n",
       "      <td>73</td>\n",
       "      <td>15</td>\n",
       "      <td>431833</td>\n",
       "      <td>28241</td>\n",
       "    </tr>\n",
       "    <tr>\n",
       "      <th>small_damage</th>\n",
       "      <td>0</td>\n",
       "      <td>2</td>\n",
       "      <td>1</td>\n",
       "      <td>928</td>\n",
       "      <td>790</td>\n",
       "    </tr>\n",
       "  </tbody>\n",
       "</table>\n",
       "</div>"
      ],
      "text/plain": [
       "                     catastrophic_damage  considerable_damage  high_damage  \\\n",
       "catastrophic_damage                    0                    1            0   \n",
       "considerable_damage                    0                    1            0   \n",
       "high_damage                            0                    0            0   \n",
       "no_damage                              8                   73           15   \n",
       "small_damage                           0                    2            1   \n",
       "\n",
       "                     no_damage  small_damage  \n",
       "catastrophic_damage        148            38  \n",
       "considerable_damage        624           410  \n",
       "high_damage                347           123  \n",
       "no_damage               431833         28241  \n",
       "small_damage               928           790  "
      ]
     },
     "execution_count": 29,
     "metadata": {},
     "output_type": "execute_result"
    }
   ],
   "source": [
    "# confusion matrix\n",
    "labels = [i for i in np.unique(y_test)]\n",
    "df = confusion_matrix(y_test, y_pred_test_svc, labels=labels)\n",
    "pd.DataFrame(df, index=labels, columns=labels)"
   ]
  },
  {
   "cell_type": "markdown",
   "metadata": {},
   "source": [
    "**Comments:**\n",
    "- The SVM base model is quite unstable and is not able to classify damage in the test data. The high accuracy results from the class imbalance of this dataset. "
   ]
  },
  {
   "cell_type": "markdown",
   "metadata": {},
   "source": [
    "### - KNN Base Model"
   ]
  },
  {
   "cell_type": "code",
   "execution_count": 32,
   "metadata": {},
   "outputs": [],
   "source": [
    "# initialize knn\n",
    "knn = KNeighborsClassifier()\n",
    "\n",
    "# fit knn\n",
    "knn.fit(x_train_scaled, y_train_bal)\n",
    "\n",
    "# make predictions on x_test\n",
    "y_pred_test_knn = knn.predict(x_test_scaled)\n",
    "\n",
    "# make predictions on x_train\n",
    "y_pred_train_knn = knn.predict(x_train_scaled)"
   ]
  },
  {
   "cell_type": "code",
   "execution_count": 37,
   "metadata": {},
   "outputs": [],
   "source": [
    "# save model object to disk\n",
    "filename = 'models/damage_class_knn.sav'\n",
    "pickle.dump(knn, open(filename, 'wb'))"
   ]
  },
  {
   "cell_type": "code",
   "execution_count": 33,
   "metadata": {},
   "outputs": [
    {
     "name": "stdout",
     "output_type": "stream",
     "text": [
      "                     precision    recall  f1-score   support\n",
      "\n",
      "catastrophic_damage       0.00      0.03      0.00       187\n",
      "considerable_damage       0.01      0.20      0.01      1035\n",
      "        high_damage       0.00      0.04      0.00       470\n",
      "          no_damage       1.00      0.83      0.90    460170\n",
      "       small_damage       0.01      0.29      0.02      1721\n",
      "\n",
      "           accuracy                           0.82    463583\n",
      "          macro avg       0.20      0.28      0.19    463583\n",
      "       weighted avg       0.99      0.82      0.90    463583\n",
      "\n"
     ]
    }
   ],
   "source": [
    "# classification report\n",
    "print(classification_report(y_test, y_pred_test_knn))"
   ]
  },
  {
   "cell_type": "code",
   "execution_count": 34,
   "metadata": {},
   "outputs": [
    {
     "name": "stdout",
     "output_type": "stream",
     "text": [
      "                     precision    recall  f1-score   support\n",
      "\n",
      "catastrophic_damage       0.45      0.44      0.45       924\n",
      "considerable_damage       0.47      0.56      0.51      5232\n",
      "        high_damage       0.47      0.39      0.43      2564\n",
      "          no_damage       0.91      0.90      0.90     30175\n",
      "       small_damage       0.66      0.63      0.65      9522\n",
      "\n",
      "           accuracy                           0.78     48417\n",
      "          macro avg       0.59      0.59      0.59     48417\n",
      "       weighted avg       0.78      0.78      0.78     48417\n",
      "\n"
     ]
    }
   ],
   "source": [
    "# classification report\n",
    "print(classification_report(y_train_bal, y_pred_train_knn))"
   ]
  },
  {
   "cell_type": "code",
   "execution_count": 36,
   "metadata": {},
   "outputs": [
    {
     "data": {
      "text/html": [
       "<div>\n",
       "<style scoped>\n",
       "    .dataframe tbody tr th:only-of-type {\n",
       "        vertical-align: middle;\n",
       "    }\n",
       "\n",
       "    .dataframe tbody tr th {\n",
       "        vertical-align: top;\n",
       "    }\n",
       "\n",
       "    .dataframe thead th {\n",
       "        text-align: right;\n",
       "    }\n",
       "</style>\n",
       "<table border=\"1\" class=\"dataframe\">\n",
       "  <thead>\n",
       "    <tr style=\"text-align: right;\">\n",
       "      <th></th>\n",
       "      <th>catastrophic_damage</th>\n",
       "      <th>considerable_damage</th>\n",
       "      <th>high_damage</th>\n",
       "      <th>no_damage</th>\n",
       "      <th>small_damage</th>\n",
       "    </tr>\n",
       "  </thead>\n",
       "  <tbody>\n",
       "    <tr>\n",
       "      <th>catastrophic_damage</th>\n",
       "      <td>5</td>\n",
       "      <td>31</td>\n",
       "      <td>13</td>\n",
       "      <td>98</td>\n",
       "      <td>40</td>\n",
       "    </tr>\n",
       "    <tr>\n",
       "      <th>considerable_damage</th>\n",
       "      <td>14</td>\n",
       "      <td>203</td>\n",
       "      <td>38</td>\n",
       "      <td>522</td>\n",
       "      <td>258</td>\n",
       "    </tr>\n",
       "    <tr>\n",
       "      <th>high_damage</th>\n",
       "      <td>4</td>\n",
       "      <td>70</td>\n",
       "      <td>21</td>\n",
       "      <td>267</td>\n",
       "      <td>108</td>\n",
       "    </tr>\n",
       "    <tr>\n",
       "      <th>no_damage</th>\n",
       "      <td>2505</td>\n",
       "      <td>29618</td>\n",
       "      <td>8174</td>\n",
       "      <td>380886</td>\n",
       "      <td>38987</td>\n",
       "    </tr>\n",
       "    <tr>\n",
       "      <th>small_damage</th>\n",
       "      <td>21</td>\n",
       "      <td>313</td>\n",
       "      <td>55</td>\n",
       "      <td>827</td>\n",
       "      <td>505</td>\n",
       "    </tr>\n",
       "  </tbody>\n",
       "</table>\n",
       "</div>"
      ],
      "text/plain": [
       "                     catastrophic_damage  considerable_damage  high_damage  \\\n",
       "catastrophic_damage                    5                   31           13   \n",
       "considerable_damage                   14                  203           38   \n",
       "high_damage                            4                   70           21   \n",
       "no_damage                           2505                29618         8174   \n",
       "small_damage                          21                  313           55   \n",
       "\n",
       "                     no_damage  small_damage  \n",
       "catastrophic_damage         98            40  \n",
       "considerable_damage        522           258  \n",
       "high_damage                267           108  \n",
       "no_damage               380886         38987  \n",
       "small_damage               827           505  "
      ]
     },
     "execution_count": 36,
     "metadata": {},
     "output_type": "execute_result"
    }
   ],
   "source": [
    "# confusion matrix\n",
    "labels = [i for i in np.unique(y_test)]\n",
    "df = confusion_matrix(y_test, y_pred_test_knn, labels=labels)\n",
    "pd.DataFrame(df, index=labels, columns=labels)"
   ]
  },
  {
   "cell_type": "markdown",
   "metadata": {},
   "source": [
    "**Comments:**\n",
    "- The KNN base model is farily stable with a test accuracy that is higher than the training accuracy. This is many due to the fact that the KNN model is actually able to make decent classifications on the train data also for the minority classes. The model doesn't gerneralize well unfortunately and is not able to classify the minority classes well on the test data."
   ]
  },
  {
   "cell_type": "markdown",
   "metadata": {},
   "source": [
    "### - Decision Tree Base Model"
   ]
  },
  {
   "cell_type": "code",
   "execution_count": 154,
   "metadata": {},
   "outputs": [
    {
     "data": {
      "text/plain": [
       "DecisionTreeClassifier(ccp_alpha=0.0, class_weight=None, criterion='gini',\n",
       "                       max_depth=None, max_features=None, max_leaf_nodes=None,\n",
       "                       min_impurity_decrease=0.0, min_impurity_split=None,\n",
       "                       min_samples_leaf=1, min_samples_split=2,\n",
       "                       min_weight_fraction_leaf=0.0, presort='deprecated',\n",
       "                       random_state=3, splitter='best')"
      ]
     },
     "execution_count": 154,
     "metadata": {},
     "output_type": "execute_result"
    }
   ],
   "source": [
    "# initialize decision tree\n",
    "dt = DecisionTreeClassifier(random_state=3)\n",
    "\n",
    "# fit decision tree\n",
    "dt.fit(X_train_bal, y_train_bal)"
   ]
  },
  {
   "cell_type": "code",
   "execution_count": 155,
   "metadata": {},
   "outputs": [],
   "source": [
    "# make predictions on x_test\n",
    "y_pred_test = dt.predict(X_test_bal)\n",
    "\n",
    "# make predictions on x_train\n",
    "y_pred_train = dt.predict(X_train_bal)\n",
    "\n",
    "# predict probabilites test\n",
    "y_pred_proba_test = dt.predict_proba(X_test_bal)\n",
    "\n",
    "# predict probabilites train\n",
    "y_pred_proba_train = dt.predict_proba(X_train_bal)"
   ]
  },
  {
   "cell_type": "code",
   "execution_count": 157,
   "metadata": {},
   "outputs": [
    {
     "name": "stdout",
     "output_type": "stream",
     "text": [
      "                     precision    recall  f1-score   support\n",
      "\n",
      "catastrophic_damage       0.01      0.01      0.01       187\n",
      "considerable_damage       0.22      0.18      0.20      1035\n",
      "        high_damage       0.10      0.09      0.09       470\n",
      "          no_damage       0.77      0.82      0.79      4635\n",
      "       small_damage       0.39      0.39      0.39      1721\n",
      "\n",
      "           accuracy                           0.58      8048\n",
      "          macro avg       0.30      0.30      0.30      8048\n",
      "       weighted avg       0.56      0.58      0.57      8048\n",
      "\n"
     ]
    }
   ],
   "source": [
    "# classification report\n",
    "print(classification_report(y_test_bal, y_pred_test))"
   ]
  },
  {
   "cell_type": "code",
   "execution_count": 158,
   "metadata": {},
   "outputs": [
    {
     "name": "stdout",
     "output_type": "stream",
     "text": [
      "                     precision    recall  f1-score   support\n",
      "\n",
      "catastrophic_damage       1.00      1.00      1.00       924\n",
      "considerable_damage       1.00      1.00      1.00      5232\n",
      "        high_damage       1.00      1.00      1.00      2564\n",
      "          no_damage       1.00      1.00      1.00     30175\n",
      "       small_damage       1.00      1.00      1.00      9522\n",
      "\n",
      "           accuracy                           1.00     48417\n",
      "          macro avg       1.00      1.00      1.00     48417\n",
      "       weighted avg       1.00      1.00      1.00     48417\n",
      "\n"
     ]
    }
   ],
   "source": [
    "# classification report\n",
    "print(classification_report(y_train_bal, y_pred_train))"
   ]
  },
  {
   "cell_type": "code",
   "execution_count": 163,
   "metadata": {},
   "outputs": [
    {
     "data": {
      "text/html": [
       "<div>\n",
       "<style scoped>\n",
       "    .dataframe tbody tr th:only-of-type {\n",
       "        vertical-align: middle;\n",
       "    }\n",
       "\n",
       "    .dataframe tbody tr th {\n",
       "        vertical-align: top;\n",
       "    }\n",
       "\n",
       "    .dataframe thead th {\n",
       "        text-align: right;\n",
       "    }\n",
       "</style>\n",
       "<table border=\"1\" class=\"dataframe\">\n",
       "  <thead>\n",
       "    <tr style=\"text-align: right;\">\n",
       "      <th></th>\n",
       "      <th>catastrophic_damage</th>\n",
       "      <th>considerable_damage</th>\n",
       "      <th>high_damage</th>\n",
       "      <th>no_damage</th>\n",
       "      <th>small_damage</th>\n",
       "    </tr>\n",
       "  </thead>\n",
       "  <tbody>\n",
       "    <tr>\n",
       "      <th>catastrophic_damage</th>\n",
       "      <td>1</td>\n",
       "      <td>27</td>\n",
       "      <td>24</td>\n",
       "      <td>87</td>\n",
       "      <td>48</td>\n",
       "    </tr>\n",
       "    <tr>\n",
       "      <th>considerable_damage</th>\n",
       "      <td>33</td>\n",
       "      <td>187</td>\n",
       "      <td>99</td>\n",
       "      <td>351</td>\n",
       "      <td>365</td>\n",
       "    </tr>\n",
       "    <tr>\n",
       "      <th>high_damage</th>\n",
       "      <td>14</td>\n",
       "      <td>80</td>\n",
       "      <td>42</td>\n",
       "      <td>176</td>\n",
       "      <td>158</td>\n",
       "    </tr>\n",
       "    <tr>\n",
       "      <th>no_damage</th>\n",
       "      <td>42</td>\n",
       "      <td>218</td>\n",
       "      <td>121</td>\n",
       "      <td>3806</td>\n",
       "      <td>448</td>\n",
       "    </tr>\n",
       "    <tr>\n",
       "      <th>small_damage</th>\n",
       "      <td>40</td>\n",
       "      <td>330</td>\n",
       "      <td>135</td>\n",
       "      <td>552</td>\n",
       "      <td>664</td>\n",
       "    </tr>\n",
       "  </tbody>\n",
       "</table>\n",
       "</div>"
      ],
      "text/plain": [
       "                     catastrophic_damage  considerable_damage  high_damage  \\\n",
       "catastrophic_damage                    1                   27           24   \n",
       "considerable_damage                   33                  187           99   \n",
       "high_damage                           14                   80           42   \n",
       "no_damage                             42                  218          121   \n",
       "small_damage                          40                  330          135   \n",
       "\n",
       "                     no_damage  small_damage  \n",
       "catastrophic_damage         87            48  \n",
       "considerable_damage        351           365  \n",
       "high_damage                176           158  \n",
       "no_damage                 3806           448  \n",
       "small_damage               552           664  "
      ]
     },
     "execution_count": 163,
     "metadata": {},
     "output_type": "execute_result"
    }
   ],
   "source": [
    "# confusion matrix\n",
    "labels = [i for i in np.unique(y_test_bal)]\n",
    "df = confusion_matrix(y_test_bal, y_pred_test, labels=labels)\n",
    "pd.DataFrame(df, index=labels, columns=labels)"
   ]
  },
  {
   "cell_type": "code",
   "execution_count": 167,
   "metadata": {},
   "outputs": [
    {
     "data": {
      "text/html": [
       "<div>\n",
       "<style scoped>\n",
       "    .dataframe tbody tr th:only-of-type {\n",
       "        vertical-align: middle;\n",
       "    }\n",
       "\n",
       "    .dataframe tbody tr th {\n",
       "        vertical-align: top;\n",
       "    }\n",
       "\n",
       "    .dataframe thead th {\n",
       "        text-align: right;\n",
       "    }\n",
       "</style>\n",
       "<table border=\"1\" class=\"dataframe\">\n",
       "  <thead>\n",
       "    <tr style=\"text-align: right;\">\n",
       "      <th></th>\n",
       "      <th>catastrophic_damage</th>\n",
       "      <th>considerable_damage</th>\n",
       "      <th>high_damage</th>\n",
       "      <th>no_damage</th>\n",
       "      <th>small_damage</th>\n",
       "    </tr>\n",
       "  </thead>\n",
       "  <tbody>\n",
       "    <tr>\n",
       "      <th>catastrophic_damage</th>\n",
       "      <td>924</td>\n",
       "      <td>0</td>\n",
       "      <td>0</td>\n",
       "      <td>0</td>\n",
       "      <td>0</td>\n",
       "    </tr>\n",
       "    <tr>\n",
       "      <th>considerable_damage</th>\n",
       "      <td>0</td>\n",
       "      <td>5232</td>\n",
       "      <td>0</td>\n",
       "      <td>0</td>\n",
       "      <td>0</td>\n",
       "    </tr>\n",
       "    <tr>\n",
       "      <th>high_damage</th>\n",
       "      <td>0</td>\n",
       "      <td>0</td>\n",
       "      <td>2564</td>\n",
       "      <td>0</td>\n",
       "      <td>0</td>\n",
       "    </tr>\n",
       "    <tr>\n",
       "      <th>no_damage</th>\n",
       "      <td>0</td>\n",
       "      <td>0</td>\n",
       "      <td>0</td>\n",
       "      <td>30175</td>\n",
       "      <td>0</td>\n",
       "    </tr>\n",
       "    <tr>\n",
       "      <th>small_damage</th>\n",
       "      <td>0</td>\n",
       "      <td>0</td>\n",
       "      <td>0</td>\n",
       "      <td>0</td>\n",
       "      <td>9522</td>\n",
       "    </tr>\n",
       "  </tbody>\n",
       "</table>\n",
       "</div>"
      ],
      "text/plain": [
       "                     catastrophic_damage  considerable_damage  high_damage  \\\n",
       "catastrophic_damage                  924                    0            0   \n",
       "considerable_damage                    0                 5232            0   \n",
       "high_damage                            0                    0         2564   \n",
       "no_damage                              0                    0            0   \n",
       "small_damage                           0                    0            0   \n",
       "\n",
       "                     no_damage  small_damage  \n",
       "catastrophic_damage          0             0  \n",
       "considerable_damage          0             0  \n",
       "high_damage                  0             0  \n",
       "no_damage                30175             0  \n",
       "small_damage                 0          9522  "
      ]
     },
     "execution_count": 167,
     "metadata": {},
     "output_type": "execute_result"
    }
   ],
   "source": [
    "# confusion matrix\n",
    "labels = [i for i in np.unique(y_train_bal)]\n",
    "df = confusion_matrix(y_train_bal, y_pred_train, labels=labels)\n",
    "pd.DataFrame(df, index=labels, columns=labels)"
   ]
  },
  {
   "cell_type": "markdown",
   "metadata": {},
   "source": [
    "**Comments:**\n",
    "- Random Forest base model overfits drastically. The model is able to make classifications on small_damage and considerable_damage, but struggles with catastrophic_damage and high_damage classes. There might be not enough cases for those classes to properly train the model on them."
   ]
  },
  {
   "cell_type": "markdown",
   "metadata": {},
   "source": [
    "### - Random Forest Base Model (with class_weight)"
   ]
  },
  {
   "cell_type": "code",
   "execution_count": 29,
   "metadata": {},
   "outputs": [],
   "source": [
    "# initialize decision tree\n",
    "rf = RandomForestClassifier(class_weight=\"balanced\", random_state=3)\n",
    "\n",
    "# fit decision tree\n",
    "rf.fit(X_train, y_train)\n",
    "\n",
    "# make predictions on x_test\n",
    "y_pred_test_rf = rf.predict(X_test)\n",
    "\n",
    "# make predictions on x_train\n",
    "y_pred_train_rf = rf.predict(X_train)"
   ]
  },
  {
   "cell_type": "code",
   "execution_count": 30,
   "metadata": {},
   "outputs": [],
   "source": [
    "# save model object to disk\n",
    "filename = 'models/damage_class_fr_class_weights.sav'\n",
    "pickle.dump(rf, open(filename, 'wb'))"
   ]
  },
  {
   "cell_type": "code",
   "execution_count": 31,
   "metadata": {},
   "outputs": [
    {
     "name": "stdout",
     "output_type": "stream",
     "text": [
      "                     precision    recall  f1-score   support\n",
      "\n",
      "catastrophic_damage       0.00      0.00      0.00       187\n",
      "considerable_damage       0.00      0.00      0.00      1035\n",
      "        high_damage       0.00      0.00      0.00       470\n",
      "          no_damage       0.62      0.99      0.77      5546\n",
      "       small_damage       0.47      0.04      0.08      1721\n",
      "\n",
      "           accuracy                           0.62      8959\n",
      "          macro avg       0.22      0.21      0.17      8959\n",
      "       weighted avg       0.48      0.62      0.49      8959\n",
      "\n"
     ]
    },
    {
     "name": "stderr",
     "output_type": "stream",
     "text": [
      "/Users/juliankleindiek/anaconda3/lib/python3.7/site-packages/sklearn/metrics/_classification.py:1272: UndefinedMetricWarning: Precision and F-score are ill-defined and being set to 0.0 in labels with no predicted samples. Use `zero_division` parameter to control this behavior.\n",
      "  _warn_prf(average, modifier, msg_start, len(result))\n"
     ]
    }
   ],
   "source": [
    "# classification report\n",
    "print(classification_report(y_test, y_pred_test_rf))"
   ]
  },
  {
   "cell_type": "code",
   "execution_count": 32,
   "metadata": {},
   "outputs": [
    {
     "name": "stdout",
     "output_type": "stream",
     "text": [
      "                     precision    recall  f1-score   support\n",
      "\n",
      "catastrophic_damage       1.00      1.00      1.00       924\n",
      "considerable_damage       1.00      1.00      1.00      5232\n",
      "        high_damage       1.00      1.00      1.00      2564\n",
      "          no_damage       1.00      1.00      1.00     29425\n",
      "       small_damage       1.00      1.00      1.00      9522\n",
      "\n",
      "           accuracy                           1.00     47667\n",
      "          macro avg       1.00      1.00      1.00     47667\n",
      "       weighted avg       1.00      1.00      1.00     47667\n",
      "\n"
     ]
    }
   ],
   "source": [
    "# classification report\n",
    "print(classification_report(y_train, y_pred_train_rf))"
   ]
  },
  {
   "cell_type": "code",
   "execution_count": 33,
   "metadata": {},
   "outputs": [
    {
     "data": {
      "text/html": [
       "<div>\n",
       "<style scoped>\n",
       "    .dataframe tbody tr th:only-of-type {\n",
       "        vertical-align: middle;\n",
       "    }\n",
       "\n",
       "    .dataframe tbody tr th {\n",
       "        vertical-align: top;\n",
       "    }\n",
       "\n",
       "    .dataframe thead th {\n",
       "        text-align: right;\n",
       "    }\n",
       "</style>\n",
       "<table border=\"1\" class=\"dataframe\">\n",
       "  <thead>\n",
       "    <tr style=\"text-align: right;\">\n",
       "      <th></th>\n",
       "      <th>catastrophic_damage</th>\n",
       "      <th>considerable_damage</th>\n",
       "      <th>high_damage</th>\n",
       "      <th>no_damage</th>\n",
       "      <th>small_damage</th>\n",
       "    </tr>\n",
       "  </thead>\n",
       "  <tbody>\n",
       "    <tr>\n",
       "      <th>catastrophic_damage</th>\n",
       "      <td>0</td>\n",
       "      <td>0</td>\n",
       "      <td>0</td>\n",
       "      <td>187</td>\n",
       "      <td>0</td>\n",
       "    </tr>\n",
       "    <tr>\n",
       "      <th>considerable_damage</th>\n",
       "      <td>0</td>\n",
       "      <td>0</td>\n",
       "      <td>0</td>\n",
       "      <td>1006</td>\n",
       "      <td>29</td>\n",
       "    </tr>\n",
       "    <tr>\n",
       "      <th>high_damage</th>\n",
       "      <td>0</td>\n",
       "      <td>0</td>\n",
       "      <td>0</td>\n",
       "      <td>467</td>\n",
       "      <td>3</td>\n",
       "    </tr>\n",
       "    <tr>\n",
       "      <th>no_damage</th>\n",
       "      <td>0</td>\n",
       "      <td>0</td>\n",
       "      <td>0</td>\n",
       "      <td>5497</td>\n",
       "      <td>49</td>\n",
       "    </tr>\n",
       "    <tr>\n",
       "      <th>small_damage</th>\n",
       "      <td>0</td>\n",
       "      <td>0</td>\n",
       "      <td>0</td>\n",
       "      <td>1650</td>\n",
       "      <td>71</td>\n",
       "    </tr>\n",
       "  </tbody>\n",
       "</table>\n",
       "</div>"
      ],
      "text/plain": [
       "                     catastrophic_damage  considerable_damage  high_damage  \\\n",
       "catastrophic_damage                    0                    0            0   \n",
       "considerable_damage                    0                    0            0   \n",
       "high_damage                            0                    0            0   \n",
       "no_damage                              0                    0            0   \n",
       "small_damage                           0                    0            0   \n",
       "\n",
       "                     no_damage  small_damage  \n",
       "catastrophic_damage        187             0  \n",
       "considerable_damage       1006            29  \n",
       "high_damage                467             3  \n",
       "no_damage                 5497            49  \n",
       "small_damage              1650            71  "
      ]
     },
     "execution_count": 33,
     "metadata": {},
     "output_type": "execute_result"
    }
   ],
   "source": [
    "# confusion matrix\n",
    "labels = [i for i in np.unique(y_train)]\n",
    "df = confusion_matrix(y_test, y_pred_test_rf, labels=labels)\n",
    "pd.DataFrame(df, index=labels, columns=labels)"
   ]
  },
  {
   "cell_type": "markdown",
   "metadata": {},
   "source": [
    "**Comments:**\n",
    "- This Random Forest was fit with the class_weight set to \"balanced\". The performance of the model doesn't improve much."
   ]
  },
  {
   "cell_type": "markdown",
   "metadata": {},
   "source": [
    "### - Gradient Boosting Base Model"
   ]
  },
  {
   "cell_type": "code",
   "execution_count": 189,
   "metadata": {},
   "outputs": [
    {
     "data": {
      "text/plain": [
       "GradientBoostingClassifier(ccp_alpha=0.0, criterion='friedman_mse', init=None,\n",
       "                           learning_rate=0.1, loss='deviance', max_depth=3,\n",
       "                           max_features=None, max_leaf_nodes=None,\n",
       "                           min_impurity_decrease=0.0, min_impurity_split=None,\n",
       "                           min_samples_leaf=1, min_samples_split=2,\n",
       "                           min_weight_fraction_leaf=0.0, n_estimators=100,\n",
       "                           n_iter_no_change=None, presort='deprecated',\n",
       "                           random_state=None, subsample=1.0, tol=0.0001,\n",
       "                           validation_fraction=0.1, verbose=0,\n",
       "                           warm_start=False)"
      ]
     },
     "execution_count": 189,
     "metadata": {},
     "output_type": "execute_result"
    }
   ],
   "source": [
    "# initialize model\n",
    "gradient = GradientBoostingClassifier()\n",
    "\n",
    "# run grid search\n",
    "gradient.fit(X_train_bal, y_train_bal)"
   ]
  },
  {
   "cell_type": "code",
   "execution_count": 190,
   "metadata": {},
   "outputs": [],
   "source": [
    "# save model object to disk\n",
    "filename = 'models/damage_class_gradient.sav'\n",
    "pickle.dump(gradient, open(filename, 'wb'))"
   ]
  },
  {
   "cell_type": "code",
   "execution_count": 191,
   "metadata": {},
   "outputs": [],
   "source": [
    "# make predictions on x_test\n",
    "y_pred_test_ggs = gradient.predict(X_test_bal)\n",
    "\n",
    "# make predictions on x_train\n",
    "y_pred_train_ggs = gradient.predict(X_train_bal)\n",
    "\n",
    "# predict probabilites test\n",
    "y_pred_proba_test_ggs = gradient.predict_proba(X_test_bal)\n",
    "\n",
    "# predict probabilites train\n",
    "y_pred_proba_train_ggs = gradient.predict_proba(X_train_bal)"
   ]
  },
  {
   "cell_type": "code",
   "execution_count": 192,
   "metadata": {},
   "outputs": [
    {
     "name": "stdout",
     "output_type": "stream",
     "text": [
      "                     precision    recall  f1-score   support\n",
      "\n",
      "catastrophic_damage       0.17      0.01      0.01       187\n",
      "considerable_damage       0.26      0.02      0.04      1035\n",
      "        high_damage       0.00      0.00      0.00       470\n",
      "          no_damage       0.76      0.91      0.83      4635\n",
      "       small_damage       0.47      0.65      0.55      1721\n",
      "\n",
      "           accuracy                           0.67      8048\n",
      "          macro avg       0.33      0.32      0.29      8048\n",
      "       weighted avg       0.58      0.67      0.60      8048\n",
      "\n"
     ]
    }
   ],
   "source": [
    "# classification report\n",
    "print(classification_report(y_test_bal, y_pred_test_ggs))"
   ]
  },
  {
   "cell_type": "code",
   "execution_count": 193,
   "metadata": {},
   "outputs": [
    {
     "name": "stdout",
     "output_type": "stream",
     "text": [
      "                     precision    recall  f1-score   support\n",
      "\n",
      "catastrophic_damage       0.88      0.12      0.22       924\n",
      "considerable_damage       0.41      0.05      0.09      5232\n",
      "        high_damage       0.68      0.05      0.10      2564\n",
      "          no_damage       0.80      0.92      0.86     30175\n",
      "       small_damage       0.49      0.64      0.55      9522\n",
      "\n",
      "           accuracy                           0.71     48417\n",
      "          macro avg       0.65      0.36      0.36     48417\n",
      "       weighted avg       0.69      0.71      0.66     48417\n",
      "\n"
     ]
    }
   ],
   "source": [
    "# classification report\n",
    "print(classification_report(y_train_bal, y_pred_train_ggs))"
   ]
  },
  {
   "cell_type": "code",
   "execution_count": 194,
   "metadata": {},
   "outputs": [
    {
     "data": {
      "text/html": [
       "<div>\n",
       "<style scoped>\n",
       "    .dataframe tbody tr th:only-of-type {\n",
       "        vertical-align: middle;\n",
       "    }\n",
       "\n",
       "    .dataframe tbody tr th {\n",
       "        vertical-align: top;\n",
       "    }\n",
       "\n",
       "    .dataframe thead th {\n",
       "        text-align: right;\n",
       "    }\n",
       "</style>\n",
       "<table border=\"1\" class=\"dataframe\">\n",
       "  <thead>\n",
       "    <tr style=\"text-align: right;\">\n",
       "      <th></th>\n",
       "      <th>catastrophic_damage</th>\n",
       "      <th>considerable_damage</th>\n",
       "      <th>high_damage</th>\n",
       "      <th>no_damage</th>\n",
       "      <th>small_damage</th>\n",
       "    </tr>\n",
       "  </thead>\n",
       "  <tbody>\n",
       "    <tr>\n",
       "      <th>catastrophic_damage</th>\n",
       "      <td>1</td>\n",
       "      <td>5</td>\n",
       "      <td>2</td>\n",
       "      <td>115</td>\n",
       "      <td>64</td>\n",
       "    </tr>\n",
       "    <tr>\n",
       "      <th>considerable_damage</th>\n",
       "      <td>1</td>\n",
       "      <td>24</td>\n",
       "      <td>8</td>\n",
       "      <td>396</td>\n",
       "      <td>606</td>\n",
       "    </tr>\n",
       "    <tr>\n",
       "      <th>high_damage</th>\n",
       "      <td>2</td>\n",
       "      <td>22</td>\n",
       "      <td>0</td>\n",
       "      <td>240</td>\n",
       "      <td>206</td>\n",
       "    </tr>\n",
       "    <tr>\n",
       "      <th>no_damage</th>\n",
       "      <td>2</td>\n",
       "      <td>17</td>\n",
       "      <td>7</td>\n",
       "      <td>4219</td>\n",
       "      <td>390</td>\n",
       "    </tr>\n",
       "    <tr>\n",
       "      <th>small_damage</th>\n",
       "      <td>0</td>\n",
       "      <td>25</td>\n",
       "      <td>13</td>\n",
       "      <td>560</td>\n",
       "      <td>1123</td>\n",
       "    </tr>\n",
       "  </tbody>\n",
       "</table>\n",
       "</div>"
      ],
      "text/plain": [
       "                     catastrophic_damage  considerable_damage  high_damage  \\\n",
       "catastrophic_damage                    1                    5            2   \n",
       "considerable_damage                    1                   24            8   \n",
       "high_damage                            2                   22            0   \n",
       "no_damage                              2                   17            7   \n",
       "small_damage                           0                   25           13   \n",
       "\n",
       "                     no_damage  small_damage  \n",
       "catastrophic_damage        115            64  \n",
       "considerable_damage        396           606  \n",
       "high_damage                240           206  \n",
       "no_damage                 4219           390  \n",
       "small_damage               560          1123  "
      ]
     },
     "execution_count": 194,
     "metadata": {},
     "output_type": "execute_result"
    }
   ],
   "source": [
    "# confusion matrix\n",
    "labels = [i for i in np.unique(y_test_bal)]\n",
    "df = confusion_matrix(y_test_bal, y_pred_test_ggs, labels=labels)\n",
    "pd.DataFrame(df, index=labels, columns=labels)"
   ]
  },
  {
   "cell_type": "code",
   "execution_count": 195,
   "metadata": {},
   "outputs": [
    {
     "data": {
      "text/html": [
       "<div>\n",
       "<style scoped>\n",
       "    .dataframe tbody tr th:only-of-type {\n",
       "        vertical-align: middle;\n",
       "    }\n",
       "\n",
       "    .dataframe tbody tr th {\n",
       "        vertical-align: top;\n",
       "    }\n",
       "\n",
       "    .dataframe thead th {\n",
       "        text-align: right;\n",
       "    }\n",
       "</style>\n",
       "<table border=\"1\" class=\"dataframe\">\n",
       "  <thead>\n",
       "    <tr style=\"text-align: right;\">\n",
       "      <th></th>\n",
       "      <th>catastrophic_damage</th>\n",
       "      <th>considerable_damage</th>\n",
       "      <th>high_damage</th>\n",
       "      <th>no_damage</th>\n",
       "      <th>small_damage</th>\n",
       "    </tr>\n",
       "  </thead>\n",
       "  <tbody>\n",
       "    <tr>\n",
       "      <th>catastrophic_damage</th>\n",
       "      <td>114</td>\n",
       "      <td>35</td>\n",
       "      <td>10</td>\n",
       "      <td>482</td>\n",
       "      <td>283</td>\n",
       "    </tr>\n",
       "    <tr>\n",
       "      <th>considerable_damage</th>\n",
       "      <td>1</td>\n",
       "      <td>268</td>\n",
       "      <td>27</td>\n",
       "      <td>2136</td>\n",
       "      <td>2800</td>\n",
       "    </tr>\n",
       "    <tr>\n",
       "      <th>high_damage</th>\n",
       "      <td>5</td>\n",
       "      <td>135</td>\n",
       "      <td>138</td>\n",
       "      <td>1217</td>\n",
       "      <td>1069</td>\n",
       "    </tr>\n",
       "    <tr>\n",
       "      <th>no_damage</th>\n",
       "      <td>6</td>\n",
       "      <td>102</td>\n",
       "      <td>15</td>\n",
       "      <td>27906</td>\n",
       "      <td>2146</td>\n",
       "    </tr>\n",
       "    <tr>\n",
       "      <th>small_damage</th>\n",
       "      <td>4</td>\n",
       "      <td>107</td>\n",
       "      <td>14</td>\n",
       "      <td>3330</td>\n",
       "      <td>6067</td>\n",
       "    </tr>\n",
       "  </tbody>\n",
       "</table>\n",
       "</div>"
      ],
      "text/plain": [
       "                     catastrophic_damage  considerable_damage  high_damage  \\\n",
       "catastrophic_damage                  114                   35           10   \n",
       "considerable_damage                    1                  268           27   \n",
       "high_damage                            5                  135          138   \n",
       "no_damage                              6                  102           15   \n",
       "small_damage                           4                  107           14   \n",
       "\n",
       "                     no_damage  small_damage  \n",
       "catastrophic_damage        482           283  \n",
       "considerable_damage       2136          2800  \n",
       "high_damage               1217          1069  \n",
       "no_damage                27906          2146  \n",
       "small_damage              3330          6067  "
      ]
     },
     "execution_count": 195,
     "metadata": {},
     "output_type": "execute_result"
    }
   ],
   "source": [
    "# confusion matrix\n",
    "labels = [i for i in np.unique(y_train_bal)]\n",
    "df = confusion_matrix(y_train_bal, y_pred_train_ggs, labels=labels)\n",
    "pd.DataFrame(df, index=labels, columns=labels)"
   ]
  },
  {
   "cell_type": "markdown",
   "metadata": {},
   "source": [
    "**Comments:**\n",
    "- The Gradient Boosting base model is much more stable compared to the Random Forest base model. However, this model also struggles with detecting catastrophic_damage, considerable_damage, and hgih_damage cases."
   ]
  },
  {
   "cell_type": "markdown",
   "metadata": {},
   "source": [
    "### - Gradient Boosting Base Model (smote sampling)"
   ]
  },
  {
   "cell_type": "code",
   "execution_count": 43,
   "metadata": {},
   "outputs": [
    {
     "data": {
      "text/plain": [
       "GradientBoostingClassifier(ccp_alpha=0.0, criterion='friedman_mse', init=None,\n",
       "                           learning_rate=0.1, loss='deviance', max_depth=3,\n",
       "                           max_features=None, max_leaf_nodes=None,\n",
       "                           min_impurity_decrease=0.0, min_impurity_split=None,\n",
       "                           min_samples_leaf=1, min_samples_split=2,\n",
       "                           min_weight_fraction_leaf=0.0, n_estimators=100,\n",
       "                           n_iter_no_change=None, presort='deprecated',\n",
       "                           random_state=None, subsample=1.0, tol=0.0001,\n",
       "                           validation_fraction=0.1, verbose=0,\n",
       "                           warm_start=False)"
      ]
     },
     "execution_count": 43,
     "metadata": {},
     "output_type": "execute_result"
    }
   ],
   "source": [
    "# initialize model\n",
    "gradient = GradientBoostingClassifier()\n",
    "\n",
    "# run grid search\n",
    "gradient.fit(X_train_smote, y_train_smote)"
   ]
  },
  {
   "cell_type": "code",
   "execution_count": 44,
   "metadata": {},
   "outputs": [],
   "source": [
    "# save model object to disk\n",
    "filename = 'models/damage_class_gradient_smote.sav'\n",
    "pickle.dump(gradient, open(filename, 'wb'))"
   ]
  },
  {
   "cell_type": "code",
   "execution_count": 45,
   "metadata": {},
   "outputs": [],
   "source": [
    "# make predictions on x_test\n",
    "y_pred_test_ggs = gradient.predict(X_test)\n",
    "\n",
    "# make predictions on x_train\n",
    "y_pred_train_ggs = gradient.predict(X_train_smote)"
   ]
  },
  {
   "cell_type": "code",
   "execution_count": 46,
   "metadata": {},
   "outputs": [
    {
     "name": "stdout",
     "output_type": "stream",
     "text": [
      "                     precision    recall  f1-score   support\n",
      "\n",
      "catastrophic_damage       0.07      0.06      0.06       187\n",
      "considerable_damage       0.23      0.09      0.13      1035\n",
      "        high_damage       0.09      0.07      0.08       470\n",
      "          no_damage       0.73      0.76      0.74      5546\n",
      "       small_damage       0.37      0.48      0.41      1721\n",
      "\n",
      "           accuracy                           0.58      8959\n",
      "          macro avg       0.30      0.29      0.28      8959\n",
      "       weighted avg       0.55      0.58      0.56      8959\n",
      "\n"
     ]
    }
   ],
   "source": [
    "# classification report\n",
    "print(classification_report(y_test, y_pred_test_ggs))"
   ]
  },
  {
   "cell_type": "code",
   "execution_count": 47,
   "metadata": {},
   "outputs": [
    {
     "name": "stdout",
     "output_type": "stream",
     "text": [
      "                     precision    recall  f1-score   support\n",
      "\n",
      "catastrophic_damage       0.59      0.61      0.60     29425\n",
      "considerable_damage       0.42      0.30      0.35     29425\n",
      "        high_damage       0.46      0.39      0.42     29425\n",
      "          no_damage       0.59      0.73      0.66     29425\n",
      "       small_damage       0.42      0.49      0.45     29425\n",
      "\n",
      "           accuracy                           0.50    147125\n",
      "          macro avg       0.50      0.50      0.50    147125\n",
      "       weighted avg       0.50      0.50      0.50    147125\n",
      "\n"
     ]
    }
   ],
   "source": [
    "# classification report\n",
    "print(classification_report(y_train_smote, y_pred_train_ggs))"
   ]
  },
  {
   "cell_type": "code",
   "execution_count": 48,
   "metadata": {},
   "outputs": [
    {
     "data": {
      "text/html": [
       "<div>\n",
       "<style scoped>\n",
       "    .dataframe tbody tr th:only-of-type {\n",
       "        vertical-align: middle;\n",
       "    }\n",
       "\n",
       "    .dataframe tbody tr th {\n",
       "        vertical-align: top;\n",
       "    }\n",
       "\n",
       "    .dataframe thead th {\n",
       "        text-align: right;\n",
       "    }\n",
       "</style>\n",
       "<table border=\"1\" class=\"dataframe\">\n",
       "  <thead>\n",
       "    <tr style=\"text-align: right;\">\n",
       "      <th></th>\n",
       "      <th>catastrophic_damage</th>\n",
       "      <th>considerable_damage</th>\n",
       "      <th>high_damage</th>\n",
       "      <th>no_damage</th>\n",
       "      <th>small_damage</th>\n",
       "    </tr>\n",
       "  </thead>\n",
       "  <tbody>\n",
       "    <tr>\n",
       "      <th>catastrophic_damage</th>\n",
       "      <td>11</td>\n",
       "      <td>15</td>\n",
       "      <td>16</td>\n",
       "      <td>118</td>\n",
       "      <td>27</td>\n",
       "    </tr>\n",
       "    <tr>\n",
       "      <th>considerable_damage</th>\n",
       "      <td>22</td>\n",
       "      <td>90</td>\n",
       "      <td>60</td>\n",
       "      <td>453</td>\n",
       "      <td>410</td>\n",
       "    </tr>\n",
       "    <tr>\n",
       "      <th>high_damage</th>\n",
       "      <td>15</td>\n",
       "      <td>36</td>\n",
       "      <td>33</td>\n",
       "      <td>283</td>\n",
       "      <td>103</td>\n",
       "    </tr>\n",
       "    <tr>\n",
       "      <th>no_damage</th>\n",
       "      <td>83</td>\n",
       "      <td>169</td>\n",
       "      <td>193</td>\n",
       "      <td>4218</td>\n",
       "      <td>883</td>\n",
       "    </tr>\n",
       "    <tr>\n",
       "      <th>small_damage</th>\n",
       "      <td>38</td>\n",
       "      <td>90</td>\n",
       "      <td>59</td>\n",
       "      <td>714</td>\n",
       "      <td>820</td>\n",
       "    </tr>\n",
       "  </tbody>\n",
       "</table>\n",
       "</div>"
      ],
      "text/plain": [
       "                     catastrophic_damage  considerable_damage  high_damage  \\\n",
       "catastrophic_damage                   11                   15           16   \n",
       "considerable_damage                   22                   90           60   \n",
       "high_damage                           15                   36           33   \n",
       "no_damage                             83                  169          193   \n",
       "small_damage                          38                   90           59   \n",
       "\n",
       "                     no_damage  small_damage  \n",
       "catastrophic_damage        118            27  \n",
       "considerable_damage        453           410  \n",
       "high_damage                283           103  \n",
       "no_damage                 4218           883  \n",
       "small_damage               714           820  "
      ]
     },
     "execution_count": 48,
     "metadata": {},
     "output_type": "execute_result"
    }
   ],
   "source": [
    "# confusion matrix\n",
    "labels = [i for i in np.unique(y_test)]\n",
    "df = confusion_matrix(y_test, y_pred_test_ggs, labels=labels)\n",
    "pd.DataFrame(df, index=labels, columns=labels)"
   ]
  },
  {
   "cell_type": "markdown",
   "metadata": {},
   "source": [
    "**Comments:**\n",
    "- Applying smote to balance the classes improves the accuracy of a Gradient Boosting model for classifying the minority classes. The overall performance declined."
   ]
  },
  {
   "cell_type": "markdown",
   "metadata": {},
   "source": [
    "### - Ada Boosting Base Model (smote sampling)"
   ]
  },
  {
   "cell_type": "code",
   "execution_count": 60,
   "metadata": {},
   "outputs": [
    {
     "data": {
      "text/plain": [
       "AdaBoostClassifier(algorithm='SAMME.R', base_estimator=None, learning_rate=1.0,\n",
       "                   n_estimators=50, random_state=None)"
      ]
     },
     "execution_count": 60,
     "metadata": {},
     "output_type": "execute_result"
    }
   ],
   "source": [
    "# initialize model\n",
    "ada = AdaBoostClassifier()\n",
    "\n",
    "# run grid search\n",
    "ada.fit(X_train_smote, y_train_smote)"
   ]
  },
  {
   "cell_type": "code",
   "execution_count": 61,
   "metadata": {},
   "outputs": [],
   "source": [
    "# save model object to disk\n",
    "filename = 'models/damage_class_ada_smote.sav'\n",
    "pickle.dump(ada, open(filename, 'wb'))"
   ]
  },
  {
   "cell_type": "code",
   "execution_count": 62,
   "metadata": {},
   "outputs": [],
   "source": [
    "# make predictions on x_test\n",
    "y_pred_test_ada = ada.predict(X_test)\n",
    "\n",
    "# make predictions on x_train\n",
    "y_pred_train_ada = ada.predict(X_train_smote)"
   ]
  },
  {
   "cell_type": "code",
   "execution_count": 63,
   "metadata": {},
   "outputs": [
    {
     "name": "stdout",
     "output_type": "stream",
     "text": [
      "                     precision    recall  f1-score   support\n",
      "\n",
      "catastrophic_damage       0.03      0.06      0.04       187\n",
      "considerable_damage       0.15      0.03      0.06      1035\n",
      "        high_damage       0.08      0.20      0.11       470\n",
      "          no_damage       0.73      0.56      0.63      5546\n",
      "       small_damage       0.33      0.54      0.41      1721\n",
      "\n",
      "           accuracy                           0.47      8959\n",
      "          macro avg       0.26      0.28      0.25      8959\n",
      "       weighted avg       0.54      0.47      0.48      8959\n",
      "\n"
     ]
    }
   ],
   "source": [
    "# classification report\n",
    "print(classification_report(y_test, y_pred_test_ada))"
   ]
  },
  {
   "cell_type": "code",
   "execution_count": 64,
   "metadata": {},
   "outputs": [
    {
     "name": "stdout",
     "output_type": "stream",
     "text": [
      "                     precision    recall  f1-score   support\n",
      "\n",
      "catastrophic_damage       0.38      0.45      0.41     29425\n",
      "considerable_damage       0.29      0.18      0.22     29425\n",
      "        high_damage       0.28      0.20      0.23     29425\n",
      "          no_damage       0.47      0.54      0.50     29425\n",
      "       small_damage       0.34      0.45      0.38     29425\n",
      "\n",
      "           accuracy                           0.36    147125\n",
      "          macro avg       0.35      0.36      0.35    147125\n",
      "       weighted avg       0.35      0.36      0.35    147125\n",
      "\n"
     ]
    }
   ],
   "source": [
    "# classification report\n",
    "print(classification_report(y_train_smote, y_pred_train_ada))"
   ]
  },
  {
   "cell_type": "code",
   "execution_count": 65,
   "metadata": {},
   "outputs": [
    {
     "data": {
      "text/html": [
       "<div>\n",
       "<style scoped>\n",
       "    .dataframe tbody tr th:only-of-type {\n",
       "        vertical-align: middle;\n",
       "    }\n",
       "\n",
       "    .dataframe tbody tr th {\n",
       "        vertical-align: top;\n",
       "    }\n",
       "\n",
       "    .dataframe thead th {\n",
       "        text-align: right;\n",
       "    }\n",
       "</style>\n",
       "<table border=\"1\" class=\"dataframe\">\n",
       "  <thead>\n",
       "    <tr style=\"text-align: right;\">\n",
       "      <th></th>\n",
       "      <th>catastrophic_damage</th>\n",
       "      <th>considerable_damage</th>\n",
       "      <th>high_damage</th>\n",
       "      <th>no_damage</th>\n",
       "      <th>small_damage</th>\n",
       "    </tr>\n",
       "  </thead>\n",
       "  <tbody>\n",
       "    <tr>\n",
       "      <th>catastrophic_damage</th>\n",
       "      <td>11</td>\n",
       "      <td>6</td>\n",
       "      <td>53</td>\n",
       "      <td>78</td>\n",
       "      <td>39</td>\n",
       "    </tr>\n",
       "    <tr>\n",
       "      <th>considerable_damage</th>\n",
       "      <td>45</td>\n",
       "      <td>36</td>\n",
       "      <td>136</td>\n",
       "      <td>365</td>\n",
       "      <td>453</td>\n",
       "    </tr>\n",
       "    <tr>\n",
       "      <th>high_damage</th>\n",
       "      <td>28</td>\n",
       "      <td>15</td>\n",
       "      <td>93</td>\n",
       "      <td>207</td>\n",
       "      <td>127</td>\n",
       "    </tr>\n",
       "    <tr>\n",
       "      <th>no_damage</th>\n",
       "      <td>278</td>\n",
       "      <td>129</td>\n",
       "      <td>708</td>\n",
       "      <td>3112</td>\n",
       "      <td>1319</td>\n",
       "    </tr>\n",
       "    <tr>\n",
       "      <th>small_damage</th>\n",
       "      <td>59</td>\n",
       "      <td>48</td>\n",
       "      <td>161</td>\n",
       "      <td>518</td>\n",
       "      <td>935</td>\n",
       "    </tr>\n",
       "  </tbody>\n",
       "</table>\n",
       "</div>"
      ],
      "text/plain": [
       "                     catastrophic_damage  considerable_damage  high_damage  \\\n",
       "catastrophic_damage                   11                    6           53   \n",
       "considerable_damage                   45                   36          136   \n",
       "high_damage                           28                   15           93   \n",
       "no_damage                            278                  129          708   \n",
       "small_damage                          59                   48          161   \n",
       "\n",
       "                     no_damage  small_damage  \n",
       "catastrophic_damage         78            39  \n",
       "considerable_damage        365           453  \n",
       "high_damage                207           127  \n",
       "no_damage                 3112          1319  \n",
       "small_damage               518           935  "
      ]
     },
     "execution_count": 65,
     "metadata": {},
     "output_type": "execute_result"
    }
   ],
   "source": [
    "# confusion matrix\n",
    "labels = [i for i in np.unique(y_test)]\n",
    "df = confusion_matrix(y_test, y_pred_test_ada, labels=labels)\n",
    "pd.DataFrame(df, index=labels, columns=labels)"
   ]
  },
  {
   "cell_type": "markdown",
   "metadata": {},
   "source": [
    "**Comments:**\n",
    "- Since Ada Boosting changes the weights for misclassified observations when fitting models sequentially, we also wanted to test that model, but Ada Boosting performs worse than Gradient Boosting on the data balanced with smote."
   ]
  },
  {
   "cell_type": "markdown",
   "metadata": {},
   "source": [
    "## 3. Binary Classification"
   ]
  },
  {
   "cell_type": "markdown",
   "metadata": {},
   "source": [
    "### 3.1. Creating Classes"
   ]
  },
  {
   "cell_type": "markdown",
   "metadata": {},
   "source": [
    "The following cut-off points are defined having our insurance business use case in mind as well as trying to find a reasonable distribution of classes."
   ]
  },
  {
   "cell_type": "code",
   "execution_count": 10,
   "metadata": {},
   "outputs": [
    {
     "data": {
      "text/plain": [
       "0    3764505\n",
       "1      12589\n",
       "Name: damage_class, dtype: int64"
      ]
     },
     "execution_count": 10,
     "metadata": {},
     "output_type": "execute_result"
    }
   ],
   "source": [
    "# define ranges for damage classes\n",
    "bin_labels = [0, 1]\n",
    "cut_bins = [-1, 10000, float(dat[[\"total_damage\"]].max())]\n",
    "\n",
    "# assign damage classes\n",
    "dat[\"damage_class\"] = pd.cut(dat[\"total_damage\"], bins=cut_bins, labels=bin_labels)\n",
    "\n",
    "# investigate resulting bins\n",
    "dat[\"damage_class\"].value_counts()"
   ]
  },
  {
   "cell_type": "code",
   "execution_count": 11,
   "metadata": {},
   "outputs": [],
   "source": [
    "# drop event columns\n",
    "dat = dat.drop(columns=[\"EVENT_TYPE\"]).copy()\n",
    "\n",
    "# drop nas\n",
    "dat.dropna(inplace=True)"
   ]
  },
  {
   "cell_type": "code",
   "execution_count": 12,
   "metadata": {},
   "outputs": [],
   "source": [
    "# split into train and test; not random but by time\n",
    "dat_train = dat[dat[\"year\"] < 2019].copy()\n",
    "dat_test = dat[dat[\"year\"] >= 2019].copy()"
   ]
  },
  {
   "cell_type": "code",
   "execution_count": 13,
   "metadata": {},
   "outputs": [
    {
     "name": "stdout",
     "output_type": "stream",
     "text": [
      "0.80% of the data are used for training, representing 4 year(s).\n",
      "0.20% of the data are used for testing, representing 1 year(s).\n"
     ]
    }
   ],
   "source": [
    "# train and test split\n",
    "print(\"{:.2f}% of the data are used for training, representing {} year(s).\".format(len(dat_train)/len(dat), len(dat_train[\"year\"].unique())))\n",
    "print(\"{:.2f}% of the data are used for testing, representing {} year(s).\".format(len(dat_test)/len(dat), len(dat_test[\"year\"].unique())))"
   ]
  },
  {
   "cell_type": "code",
   "execution_count": 14,
   "metadata": {},
   "outputs": [],
   "source": [
    "# drop first 10 days from testing for each location as they include information from training\n",
    "dat_test = dat_test[(dat_test[\"month\"] != 1) & (dat_test[\"day\"] > 10)]"
   ]
  },
  {
   "cell_type": "code",
   "execution_count": 15,
   "metadata": {},
   "outputs": [],
   "source": [
    "# select features for train\n",
    "X_train = dat_train.drop(columns=[\"INJURIES_DIRECT\", \"INJURIES_INDIRECT\", \"DEATHS_DIRECT\", \"DEATHS_INDIRECT\",\n",
    "                                  \"DAMAGE_PROPERTY\", \"DAMAGE_CROPS\", \"total_damage\", \"damage_class\"]).copy().values\n",
    "\n",
    "# select features for test\n",
    "X_test = dat_test.drop(columns=[\"INJURIES_DIRECT\", \"INJURIES_INDIRECT\", \"DEATHS_DIRECT\", \"DEATHS_INDIRECT\",\n",
    "                                \"DAMAGE_PROPERTY\", \"DAMAGE_CROPS\", \"total_damage\", \"damage_class\"]).copy().values"
   ]
  },
  {
   "cell_type": "code",
   "execution_count": 16,
   "metadata": {},
   "outputs": [],
   "source": [
    "# select target variable\n",
    "y_train = dat_train[[\"damage_class\"]].copy().values.ravel()\n",
    "y_test = dat_test[[\"damage_class\"]].copy().values.ravel()"
   ]
  },
  {
   "cell_type": "markdown",
   "metadata": {},
   "source": [
    "### 3.2. Sampling and Balance"
   ]
  },
  {
   "cell_type": "code",
   "execution_count": 17,
   "metadata": {},
   "outputs": [
    {
     "name": "stdout",
     "output_type": "stream",
     "text": [
      "Counter({0: 3007677, 1: 300767})\n",
      "Counter({0: 300767, 1: 300767})\n"
     ]
    }
   ],
   "source": [
    "SEED=3\n",
    "\n",
    "# define oversampling strategy\n",
    "over = RandomOverSampler(sampling_strategy=0.1, random_state=SEED)\n",
    "\n",
    "# fit and apply the transform\n",
    "X_train_bal, y_train_bal = over.fit_resample(X_train, y_train)\n",
    "print(Counter(y_train_bal))\n",
    "\n",
    "# define undersampling strategy\n",
    "under = RandomUnderSampler(random_state=SEED)\n",
    "\n",
    "# fit and apply the transform\n",
    "X_train_bal, y_train_bal = under.fit_resample(X_train_bal, y_train_bal)\n",
    "print(Counter(y_train_bal))\n",
    "\n",
    "#X_train_bal, y_train_bal = under.fit_resample(X_train, y_train)\n",
    "#print(Counter(y_train_bal))"
   ]
  },
  {
   "cell_type": "markdown",
   "metadata": {},
   "source": [
    "### 3.3. Modelling `damage_class`"
   ]
  },
  {
   "cell_type": "markdown",
   "metadata": {},
   "source": [
    "### - Artificial Neural Network - Unbalanced"
   ]
  },
  {
   "cell_type": "code",
   "execution_count": 23,
   "metadata": {},
   "outputs": [],
   "source": [
    "# define shapes\n",
    "input_shape = X_train.shape[1]\n",
    "output_shape = 1"
   ]
  },
  {
   "cell_type": "code",
   "execution_count": 24,
   "metadata": {},
   "outputs": [],
   "source": [
    "# define the keras model\n",
    "model = Sequential()\n",
    "model.add(Dense(12, input_dim=input_shape, activation='relu'))\n",
    "model.add(Dense(8, activation='relu'))\n",
    "model.add(Dense(output_shape, activation='sigmoid'))"
   ]
  },
  {
   "cell_type": "code",
   "execution_count": 25,
   "metadata": {},
   "outputs": [],
   "source": [
    "# compile the keras model\n",
    "model.compile(loss='binary_crossentropy', optimizer='adam', metrics=['accuracy'])"
   ]
  },
  {
   "cell_type": "code",
   "execution_count": 26,
   "metadata": {},
   "outputs": [
    {
     "name": "stdout",
     "output_type": "stream",
     "text": [
      "Model: \"sequential_2\"\n",
      "_________________________________________________________________\n",
      "Layer (type)                 Output Shape              Param #   \n",
      "=================================================================\n",
      "dense_4 (Dense)              (None, 12)                444       \n",
      "_________________________________________________________________\n",
      "dense_5 (Dense)              (None, 8)                 104       \n",
      "_________________________________________________________________\n",
      "dense_6 (Dense)              (None, 1)                 9         \n",
      "=================================================================\n",
      "Total params: 557\n",
      "Trainable params: 557\n",
      "Non-trainable params: 0\n",
      "_________________________________________________________________\n"
     ]
    }
   ],
   "source": [
    "# model summary\n",
    "model.summary()"
   ]
  },
  {
   "cell_type": "code",
   "execution_count": 49,
   "metadata": {},
   "outputs": [
    {
     "name": "stdout",
     "output_type": "stream",
     "text": [
      "Train on 2263152 samples, validate on 754384 samples\n",
      "Epoch 1/3\n",
      "2263152/2263152 [==============================] - 49s 22us/step - loss: 0.0254 - accuracy: 0.9962 - val_loss: 0.0144 - val_accuracy: 0.9982\n",
      "Epoch 2/3\n",
      "2263152/2263152 [==============================] - 53s 23us/step - loss: 0.0246 - accuracy: 0.9962 - val_loss: 0.0135 - val_accuracy: 0.9982\n",
      "Epoch 3/3\n",
      "2263152/2263152 [==============================] - 59s 26us/step - loss: 0.0241 - accuracy: 0.9962 - val_loss: 0.0126 - val_accuracy: 0.9982\n"
     ]
    }
   ],
   "source": [
    "# fit model\n",
    "history = model.fit(X_train, y_train, validation_split=0.25, epochs=3, batch_size=128)"
   ]
  },
  {
   "cell_type": "code",
   "execution_count": 19,
   "metadata": {},
   "outputs": [
    {
     "name": "stdout",
     "output_type": "stream",
     "text": [
      "\n",
      "# Evaluate on test data\n",
      "463583/463583 [==============================] - 4s 8us/step\n",
      "test loss: 0.026431621275406405, test acc: 0.9958820939064026.\n"
     ]
    }
   ],
   "source": [
    "# evaluate model\n",
    "print('\\n# Evaluate on test data')\n",
    "results = model.evaluate(X_test, y_test, batch_size=128)\n",
    "print(\"test loss: {}, test acc: {}.\".format(results[0], results[1]))"
   ]
  },
  {
   "cell_type": "code",
   "execution_count": 20,
   "metadata": {},
   "outputs": [
    {
     "data": {
      "image/png": "[encoded data removed]",
      "text/plain": [
       "<Figure size 576x432 with 1 Axes>"
      ]
     },
     "metadata": {
      "needs_background": "light"
     },
     "output_type": "display_data"
    }
   ],
   "source": [
    "# plot loss curves\n",
    "plt.figure(figsize=[8,6])\n",
    "plt.plot(history.history[\"loss\"], \"r\")\n",
    "plt.plot(history.history[\"val_loss\"], \"b\")\n",
    "plt.legend([\"Training Loss\", \"Validation Loss\"])\n",
    "plt.xlabel(\"Epochs\")\n",
    "plt.ylabel(\"Loss\")\n",
    "plt.title(\"Loss Curves\")\n",
    "plt.show()"
   ]
  },
  {
   "cell_type": "code",
   "execution_count": 21,
   "metadata": {},
   "outputs": [],
   "source": [
    "# make predictions\n",
    "y_pred_test_ann = model.predict_classes(X_test)\n",
    "y_pred_train_ann = model.predict_classes(X_train)"
   ]
  },
  {
   "cell_type": "code",
   "execution_count": 22,
   "metadata": {},
   "outputs": [
    {
     "name": "stderr",
     "output_type": "stream",
     "text": [
      "/Users/juliankleindiek/anaconda3/lib/python3.7/site-packages/sklearn/metrics/_classification.py:1272: UndefinedMetricWarning: Precision and F-score are ill-defined and being set to 0.0 in labels with no predicted samples. Use `zero_division` parameter to control this behavior.\n",
      "  _warn_prf(average, modifier, msg_start, len(result))\n"
     ]
    },
    {
     "name": "stdout",
     "output_type": "stream",
     "text": [
      "              precision    recall  f1-score   support\n",
      "\n",
      "           0       1.00      1.00      1.00    461674\n",
      "           1       0.00      0.00      0.00      1909\n",
      "\n",
      "    accuracy                           1.00    463583\n",
      "   macro avg       0.50      0.50      0.50    463583\n",
      "weighted avg       0.99      1.00      0.99    463583\n",
      "\n"
     ]
    }
   ],
   "source": [
    "# classification report\n",
    "print(classification_report(y_test, y_pred_test_ann))"
   ]
  },
  {
   "cell_type": "code",
   "execution_count": 23,
   "metadata": {},
   "outputs": [
    {
     "name": "stdout",
     "output_type": "stream",
     "text": [
      "              precision    recall  f1-score   support\n",
      "\n",
      "           0       1.00      1.00      1.00   3007677\n",
      "           1       0.00      0.00      0.00      9859\n",
      "\n",
      "    accuracy                           1.00   3017536\n",
      "   macro avg       0.50      0.50      0.50   3017536\n",
      "weighted avg       0.99      1.00      1.00   3017536\n",
      "\n"
     ]
    }
   ],
   "source": [
    "# classification report\n",
    "print(classification_report(y_train, y_pred_train_ann))"
   ]
  },
  {
   "cell_type": "markdown",
   "metadata": {},
   "source": [
    "**Comments**:\n",
    "- The model completely ignores the positive cases and is not able to properly classify."
   ]
  },
  {
   "cell_type": "markdown",
   "metadata": {},
   "source": [
    "### - Artificial Neural Network - Balanced Data"
   ]
  },
  {
   "cell_type": "code",
   "execution_count": 53,
   "metadata": {},
   "outputs": [
    {
     "data": {
      "text/plain": [
       "1    300767\n",
       "0    300767\n",
       "dtype: int64"
      ]
     },
     "execution_count": 53,
     "metadata": {},
     "output_type": "execute_result"
    }
   ],
   "source": [
    "pd.Series(y_train_bal).value_counts()"
   ]
  },
  {
   "cell_type": "code",
   "execution_count": 54,
   "metadata": {},
   "outputs": [
    {
     "name": "stdout",
     "output_type": "stream",
     "text": [
      "36\n"
     ]
    }
   ],
   "source": [
    "# define shapes\n",
    "input_shape = X_train.shape[1]\n",
    "print(input_shape)\n",
    "\n",
    "output_shape = 1"
   ]
  },
  {
   "cell_type": "code",
   "execution_count": 79,
   "metadata": {},
   "outputs": [
    {
     "name": "stderr",
     "output_type": "stream",
     "text": [
      "/Users/juliankleindiek/anaconda3/lib/python3.7/site-packages/ipykernel_launcher.py:5: UserWarning: Update your `Dense` call to the Keras 2 API: `Dense(activation=\"sigmoid\", units=1)`\n",
      "  \"\"\"\n"
     ]
    }
   ],
   "source": [
    "# define the keras model\n",
    "model = Sequential()\n",
    "model.add(Dense(12, input_dim=input_shape, activation='relu'))\n",
    "model.add(Dense(8, activation='relu'))\n",
    "model.add(Dense(output_dim=output_shape, activation='sigmoid'))"
   ]
  },
  {
   "cell_type": "code",
   "execution_count": 80,
   "metadata": {},
   "outputs": [],
   "source": [
    "# compile the keras model\n",
    "model.compile(loss='binary_crossentropy', optimizer=\"adam\", metrics=['accuracy'])"
   ]
  },
  {
   "cell_type": "code",
   "execution_count": 81,
   "metadata": {},
   "outputs": [
    {
     "name": "stdout",
     "output_type": "stream",
     "text": [
      "Model: \"sequential_9\"\n",
      "_________________________________________________________________\n",
      "Layer (type)                 Output Shape              Param #   \n",
      "=================================================================\n",
      "dense_25 (Dense)             (None, 12)                444       \n",
      "_________________________________________________________________\n",
      "dense_26 (Dense)             (None, 8)                 104       \n",
      "_________________________________________________________________\n",
      "dense_27 (Dense)             (None, 1)                 9         \n",
      "=================================================================\n",
      "Total params: 557\n",
      "Trainable params: 557\n",
      "Non-trainable params: 0\n",
      "_________________________________________________________________\n"
     ]
    }
   ],
   "source": [
    "# model summary\n",
    "model.summary()"
   ]
  },
  {
   "cell_type": "code",
   "execution_count": 82,
   "metadata": {},
   "outputs": [
    {
     "name": "stdout",
     "output_type": "stream",
     "text": [
      "Train on 451150 samples, validate on 150384 samples\n",
      "Epoch 1/3\n",
      "451150/451150 [==============================] - 8s 17us/step - loss: 0.6592 - accuracy: 0.6850 - val_loss: 0.9315 - val_accuracy: 0.3891\n",
      "Epoch 2/3\n",
      "451150/451150 [==============================] - 9s 19us/step - loss: 0.5540 - accuracy: 0.7068 - val_loss: 0.8290 - val_accuracy: 0.4994\n",
      "Epoch 3/3\n",
      "451150/451150 [==============================] - 8s 19us/step - loss: 0.5514 - accuracy: 0.7079 - val_loss: 0.4824 - val_accuracy: 0.8151\n"
     ]
    }
   ],
   "source": [
    "# fit model\n",
    "history = model.fit(X_train_bal, y_train_bal, validation_split=0.25, epochs=3, batch_size=128)"
   ]
  },
  {
   "cell_type": "code",
   "execution_count": 83,
   "metadata": {},
   "outputs": [
    {
     "name": "stdout",
     "output_type": "stream",
     "text": [
      "\n",
      "# Evaluate on test data\n",
      "463583/463583 [==============================] - 3s 7us/step\n",
      "test loss: 0.6370388640345813, test acc: 0.6096038818359375.\n"
     ]
    }
   ],
   "source": [
    "# evaluate model\n",
    "print('\\n# Evaluate on test data')\n",
    "results = model.evaluate(X_test, y_test, batch_size=128)\n",
    "print(\"test loss: {}, test acc: {}.\".format(results[0], results[1]))"
   ]
  },
  {
   "cell_type": "code",
   "execution_count": 84,
   "metadata": {},
   "outputs": [
    {
     "data": {
      "image/png": "[encoded data removed]",
      "text/plain": [
       "<Figure size 576x432 with 1 Axes>"
      ]
     },
     "metadata": {
      "needs_background": "light"
     },
     "output_type": "display_data"
    }
   ],
   "source": [
    "# plot loss curves\n",
    "plt.figure(figsize=[8,6])\n",
    "plt.plot(history.history[\"loss\"], \"r\")\n",
    "plt.plot(history.history[\"val_loss\"], \"b\")\n",
    "plt.legend([\"Training Loss\", \"Validation Loss\"])\n",
    "plt.xlabel(\"Epochs\")\n",
    "plt.ylabel(\"Loss\")\n",
    "plt.title(\"Loss Curves\")\n",
    "plt.show()"
   ]
  },
  {
   "cell_type": "code",
   "execution_count": 85,
   "metadata": {},
   "outputs": [],
   "source": [
    "# make predictions\n",
    "y_pred_test_ann_bal = model.predict_classes(X_test)\n",
    "y_pred_train_ann_bal = model.predict_classes(X_train_bal)"
   ]
  },
  {
   "cell_type": "code",
   "execution_count": 86,
   "metadata": {},
   "outputs": [
    {
     "name": "stdout",
     "output_type": "stream",
     "text": [
      "              precision    recall  f1-score   support\n",
      "\n",
      "           0       1.00      0.61      0.76    461674\n",
      "           1       0.01      0.84      0.02      1909\n",
      "\n",
      "    accuracy                           0.61    463583\n",
      "   macro avg       0.50      0.72      0.39    463583\n",
      "weighted avg       0.99      0.61      0.75    463583\n",
      "\n"
     ]
    }
   ],
   "source": [
    "# classification report\n",
    "print(classification_report(y_test, y_pred_test_ann_bal))"
   ]
  },
  {
   "cell_type": "code",
   "execution_count": 87,
   "metadata": {},
   "outputs": [
    {
     "name": "stdout",
     "output_type": "stream",
     "text": [
      "              precision    recall  f1-score   support\n",
      "\n",
      "           0       0.77      0.61      0.68    300767\n",
      "           1       0.67      0.81      0.74    300767\n",
      "\n",
      "    accuracy                           0.71    601534\n",
      "   macro avg       0.72      0.71      0.71    601534\n",
      "weighted avg       0.72      0.71      0.71    601534\n",
      "\n"
     ]
    }
   ],
   "source": [
    "# classification report\n",
    "print(classification_report(y_train_bal, y_pred_train_ann_bal))"
   ]
  },
  {
   "cell_type": "code",
   "execution_count": 88,
   "metadata": {},
   "outputs": [
    {
     "data": {
      "text/html": [
       "<div>\n",
       "<style scoped>\n",
       "    .dataframe tbody tr th:only-of-type {\n",
       "        vertical-align: middle;\n",
       "    }\n",
       "\n",
       "    .dataframe tbody tr th {\n",
       "        vertical-align: top;\n",
       "    }\n",
       "\n",
       "    .dataframe thead th {\n",
       "        text-align: right;\n",
       "    }\n",
       "</style>\n",
       "<table border=\"1\" class=\"dataframe\">\n",
       "  <thead>\n",
       "    <tr style=\"text-align: right;\">\n",
       "      <th></th>\n",
       "      <th>0</th>\n",
       "      <th>1</th>\n",
       "    </tr>\n",
       "  </thead>\n",
       "  <tbody>\n",
       "    <tr>\n",
       "      <th>0</th>\n",
       "      <td>280998</td>\n",
       "      <td>180676</td>\n",
       "    </tr>\n",
       "    <tr>\n",
       "      <th>1</th>\n",
       "      <td>305</td>\n",
       "      <td>1604</td>\n",
       "    </tr>\n",
       "  </tbody>\n",
       "</table>\n",
       "</div>"
      ],
      "text/plain": [
       "        0       1\n",
       "0  280998  180676\n",
       "1     305    1604"
      ]
     },
     "execution_count": 88,
     "metadata": {},
     "output_type": "execute_result"
    }
   ],
   "source": [
    "# confusion matrix\n",
    "labels = [i for i in np.unique(y_test)]\n",
    "df = confusion_matrix(y_test, y_pred_test_ann_bal, labels=labels)\n",
    "pd.DataFrame(df, index=labels, columns=labels)"
   ]
  },
  {
   "cell_type": "markdown",
   "metadata": {},
   "source": [
    "**Comments:**\n",
    "- The ANN performs much better on the balanced data and is actually predicting positive and negative cases. It only struggles with precision on the test data."
   ]
  },
  {
   "cell_type": "markdown",
   "metadata": {},
   "source": [
    "### - Ada Boosting - Balanced Data"
   ]
  },
  {
   "cell_type": "code",
   "execution_count": 35,
   "metadata": {},
   "outputs": [
    {
     "data": {
      "text/plain": [
       "AdaBoostClassifier(algorithm='SAMME.R', base_estimator=None, learning_rate=1.0,\n",
       "                   n_estimators=50, random_state=None)"
      ]
     },
     "execution_count": 35,
     "metadata": {},
     "output_type": "execute_result"
    }
   ],
   "source": [
    "# initialize model\n",
    "ada = AdaBoostClassifier()\n",
    "\n",
    "# run grid search\n",
    "ada.fit(X_train_bal, y_train_bal)"
   ]
  },
  {
   "cell_type": "code",
   "execution_count": 37,
   "metadata": {},
   "outputs": [],
   "source": [
    "# make predictions on x_test\n",
    "y_pred_test_ada_bal = ada.predict(X_test)\n",
    "\n",
    "# make predictions on x_train\n",
    "y_pred_train_ada_bal = ada.predict(X_train_bal)"
   ]
  },
  {
   "cell_type": "code",
   "execution_count": 38,
   "metadata": {},
   "outputs": [
    {
     "name": "stdout",
     "output_type": "stream",
     "text": [
      "              precision    recall  f1-score   support\n",
      "\n",
      "           0       1.00      0.77      0.87    461674\n",
      "           1       0.01      0.85      0.03      1909\n",
      "\n",
      "    accuracy                           0.77    463583\n",
      "   macro avg       0.51      0.81      0.45    463583\n",
      "weighted avg       1.00      0.77      0.87    463583\n",
      "\n"
     ]
    }
   ],
   "source": [
    "# classification report\n",
    "print(classification_report(y_test, y_pred_test_ada_bal))"
   ]
  },
  {
   "cell_type": "code",
   "execution_count": 39,
   "metadata": {},
   "outputs": [
    {
     "name": "stdout",
     "output_type": "stream",
     "text": [
      "              precision    recall  f1-score   support\n",
      "\n",
      "           0       0.81      0.77      0.79    300767\n",
      "           1       0.78      0.82      0.80    300767\n",
      "\n",
      "    accuracy                           0.79    601534\n",
      "   macro avg       0.80      0.79      0.79    601534\n",
      "weighted avg       0.80      0.79      0.79    601534\n",
      "\n"
     ]
    }
   ],
   "source": [
    "# classification report\n",
    "print(classification_report(y_train_bal, y_pred_train_ada_bal))"
   ]
  },
  {
   "cell_type": "code",
   "execution_count": 40,
   "metadata": {},
   "outputs": [
    {
     "data": {
      "text/html": [
       "<div>\n",
       "<style scoped>\n",
       "    .dataframe tbody tr th:only-of-type {\n",
       "        vertical-align: middle;\n",
       "    }\n",
       "\n",
       "    .dataframe tbody tr th {\n",
       "        vertical-align: top;\n",
       "    }\n",
       "\n",
       "    .dataframe thead th {\n",
       "        text-align: right;\n",
       "    }\n",
       "</style>\n",
       "<table border=\"1\" class=\"dataframe\">\n",
       "  <thead>\n",
       "    <tr style=\"text-align: right;\">\n",
       "      <th></th>\n",
       "      <th>0</th>\n",
       "      <th>1</th>\n",
       "    </tr>\n",
       "  </thead>\n",
       "  <tbody>\n",
       "    <tr>\n",
       "      <th>0</th>\n",
       "      <td>355635</td>\n",
       "      <td>106039</td>\n",
       "    </tr>\n",
       "    <tr>\n",
       "      <th>1</th>\n",
       "      <td>295</td>\n",
       "      <td>1614</td>\n",
       "    </tr>\n",
       "  </tbody>\n",
       "</table>\n",
       "</div>"
      ],
      "text/plain": [
       "        0       1\n",
       "0  355635  106039\n",
       "1     295    1614"
      ]
     },
     "execution_count": 40,
     "metadata": {},
     "output_type": "execute_result"
    }
   ],
   "source": [
    "# confusion matrix\n",
    "labels = [i for i in np.unique(y_test)]\n",
    "df = confusion_matrix(y_test, y_pred_test_ada_bal, labels=labels)\n",
    "pd.DataFrame(df, index=labels, columns=labels)"
   ]
  },
  {
   "cell_type": "markdown",
   "metadata": {},
   "source": [
    "**Comments:**\n",
    "- The Ada Boost Classifiert outperforms the Neural Network in this case.\n",
    "- The accuracy on the training ad test data is decent. It only struggles with precision on the prediction of damage as it predicts to many cases with damage where there actually are none.\n",
    "- We believe one reason to be the lack of relevant features. One example is any indication on how high damage could be based on the location of the event. The model has no insight into that and hence struggles to predict damage.\n",
    "- Recall in this case is more important, because we want to detect the events that actually happened."
   ]
  },
  {
   "cell_type": "markdown",
   "metadata": {},
   "source": [
    "### - Ada Boosting Grid Search - Balanced Data"
   ]
  },
  {
   "cell_type": "code",
   "execution_count": 36,
   "metadata": {},
   "outputs": [
    {
     "name": "stdout",
     "output_type": "stream",
     "text": [
      "Fitting 3 folds for each of 10 candidates, totalling 30 fits\n"
     ]
    },
    {
     "name": "stderr",
     "output_type": "stream",
     "text": [
      "[Parallel(n_jobs=-1)]: Using backend LokyBackend with 4 concurrent workers.\n",
      "[Parallel(n_jobs=-1)]: Done  30 out of  30 | elapsed: 39.9min finished\n"
     ]
    },
    {
     "data": {
      "text/plain": [
       "RandomizedSearchCV(cv=3, error_score=nan,\n",
       "                   estimator=AdaBoostClassifier(algorithm='SAMME.R',\n",
       "                                                base_estimator=None,\n",
       "                                                learning_rate=1.0,\n",
       "                                                n_estimators=50,\n",
       "                                                random_state=3),\n",
       "                   iid='deprecated', n_iter=10, n_jobs=-1,\n",
       "                   param_distributions={'learning_rate': [0.5, 0.8, 1.0],\n",
       "                                        'n_estimators': [25, 50, 100, 150]},\n",
       "                   pre_dispatch='2*n_jobs', random_state=None, refit=True,\n",
       "                   return_train_score=False, scoring='roc_auc', verbose=3)"
      ]
     },
     "execution_count": 36,
     "metadata": {},
     "output_type": "execute_result"
    }
   ],
   "source": [
    "#create a dictionary of parameters \n",
    "params = {\"n_estimators\": [25, 50, 100, 150],\n",
    "          \"learning_rate\":[0.5, 0.8, 1.0]}\n",
    "\n",
    "# initialize model\n",
    "ada_gs = AdaBoostClassifier(random_state=3)\n",
    "\n",
    "# initialize grid search\n",
    "ada_grid_search = RandomizedSearchCV(estimator=ada_gs, param_distributions=params, cv=3, scoring=\"roc_auc\", n_jobs=-1, refit=True, verbose=3)\n",
    "\n",
    "# run grid search\n",
    "ada_grid_search.fit(X_train_bal, y_train_bal)"
   ]
  },
  {
   "cell_type": "code",
   "execution_count": 37,
   "metadata": {},
   "outputs": [
    {
     "name": "stdout",
     "output_type": "stream",
     "text": [
      "The best parameters are: {'n_estimators': 150, 'learning_rate': 1.0}\n"
     ]
    }
   ],
   "source": [
    "# identify best parameter\n",
    "print(\"The best parameters are:\", ada_grid_search.best_params_)\n",
    "\n",
    "# save model to disk\n",
    "filename = 'models/damage_binary_ada_boosting_grid_search.sav'\n",
    "pickle.dump(ada_grid_search, open(filename, 'wb'))\n",
    "\n",
    "# load model from disk\n",
    "filename = 'models/damage_binary_ada_boosting_grid_search.sav'\n",
    "tst = pickle.load(open(filename, 'rb'))"
   ]
  },
  {
   "cell_type": "code",
   "execution_count": 38,
   "metadata": {},
   "outputs": [],
   "source": [
    "# make predictions on x_test\n",
    "y_pred_test_ada_bal = ada_grid_search.best_estimator_.predict(X_test)\n",
    "\n",
    "# make predictions on x_train\n",
    "y_pred_train_ada_bal = ada_grid_search.best_estimator_.predict(X_train_bal)"
   ]
  },
  {
   "cell_type": "code",
   "execution_count": 39,
   "metadata": {},
   "outputs": [
    {
     "name": "stdout",
     "output_type": "stream",
     "text": [
      "              precision    recall  f1-score   support\n",
      "\n",
      "           0       1.00      0.78      0.88    461674\n",
      "           1       0.02      0.83      0.03      1909\n",
      "\n",
      "    accuracy                           0.78    463583\n",
      "   macro avg       0.51      0.81      0.45    463583\n",
      "weighted avg       1.00      0.78      0.88    463583\n",
      "\n"
     ]
    }
   ],
   "source": [
    "# classification report\n",
    "print(classification_report(y_test, y_pred_test_ada_bal))"
   ]
  },
  {
   "cell_type": "code",
   "execution_count": 40,
   "metadata": {},
   "outputs": [
    {
     "name": "stdout",
     "output_type": "stream",
     "text": [
      "              precision    recall  f1-score   support\n",
      "\n",
      "           0       0.82      0.78      0.80    300767\n",
      "           1       0.79      0.83      0.81    300767\n",
      "\n",
      "    accuracy                           0.80    601534\n",
      "   macro avg       0.80      0.80      0.80    601534\n",
      "weighted avg       0.80      0.80      0.80    601534\n",
      "\n"
     ]
    }
   ],
   "source": [
    "# classification report\n",
    "print(classification_report(y_train_bal, y_pred_train_ada_bal))"
   ]
  },
  {
   "cell_type": "code",
   "execution_count": 41,
   "metadata": {},
   "outputs": [
    {
     "data": {
      "text/html": [
       "<div>\n",
       "<style scoped>\n",
       "    .dataframe tbody tr th:only-of-type {\n",
       "        vertical-align: middle;\n",
       "    }\n",
       "\n",
       "    .dataframe tbody tr th {\n",
       "        vertical-align: top;\n",
       "    }\n",
       "\n",
       "    .dataframe thead th {\n",
       "        text-align: right;\n",
       "    }\n",
       "</style>\n",
       "<table border=\"1\" class=\"dataframe\">\n",
       "  <thead>\n",
       "    <tr style=\"text-align: right;\">\n",
       "      <th></th>\n",
       "      <th>0</th>\n",
       "      <th>1</th>\n",
       "    </tr>\n",
       "  </thead>\n",
       "  <tbody>\n",
       "    <tr>\n",
       "      <th>0</th>\n",
       "      <td>361900</td>\n",
       "      <td>99774</td>\n",
       "    </tr>\n",
       "    <tr>\n",
       "      <th>1</th>\n",
       "      <td>315</td>\n",
       "      <td>1594</td>\n",
       "    </tr>\n",
       "  </tbody>\n",
       "</table>\n",
       "</div>"
      ],
      "text/plain": [
       "        0      1\n",
       "0  361900  99774\n",
       "1     315   1594"
      ]
     },
     "execution_count": 41,
     "metadata": {},
     "output_type": "execute_result"
    }
   ],
   "source": [
    "# confusion matrix\n",
    "labels = [i for i in np.unique(y_test)]\n",
    "df = confusion_matrix(y_test, y_pred_test_ada_bal, labels=labels)\n",
    "pd.DataFrame(df, index=labels, columns=labels)"
   ]
  },
  {
   "cell_type": "markdown",
   "metadata": {},
   "source": [
    "**Comments:**\n",
    "- Grid search leads to slight improvements in accuracy at the cost of slightly lower recall for severe events. But we also increased precision slightly. This represents a satisfactory model."
   ]
  },
  {
   "cell_type": "markdown",
   "metadata": {},
   "source": [
    "### - Gradient Boosting Grid Search - Balanced Data"
   ]
  },
  {
   "cell_type": "code",
   "execution_count": 27,
   "metadata": {},
   "outputs": [
    {
     "name": "stdout",
     "output_type": "stream",
     "text": [
      "Fitting 5 folds for each of 10 candidates, totalling 50 fits\n"
     ]
    },
    {
     "name": "stderr",
     "output_type": "stream",
     "text": [
      "[Parallel(n_jobs=-1)]: Using backend LokyBackend with 4 concurrent workers.\n",
      "[Parallel(n_jobs=-1)]: Done  24 tasks      | elapsed: 68.2min\n",
      "[Parallel(n_jobs=-1)]: Done  50 out of  50 | elapsed: 136.8min finished\n"
     ]
    },
    {
     "data": {
      "text/plain": [
       "RandomizedSearchCV(cv=5, error_score=nan,\n",
       "                   estimator=GradientBoostingClassifier(ccp_alpha=0.0,\n",
       "                                                        criterion='friedman_mse',\n",
       "                                                        init=None,\n",
       "                                                        learning_rate=0.1,\n",
       "                                                        loss='deviance',\n",
       "                                                        max_depth=3,\n",
       "                                                        max_features=None,\n",
       "                                                        max_leaf_nodes=None,\n",
       "                                                        min_impurity_decrease=0.0,\n",
       "                                                        min_impurity_split=None,\n",
       "                                                        min_samples_leaf=1,\n",
       "                                                        min_samples_split=2,\n",
       "                                                        min_weight_fraction_leaf=0.0,\n",
       "                                                        n_estimators=100,\n",
       "                                                        n_ite...\n",
       "                                                        subsample=1.0,\n",
       "                                                        tol=0.0001,\n",
       "                                                        validation_fraction=0.1,\n",
       "                                                        verbose=0,\n",
       "                                                        warm_start=False),\n",
       "                   iid='deprecated', n_iter=10, n_jobs=-1,\n",
       "                   param_distributions={'max_depth': [6, 8, 10],\n",
       "                                        'max_features': [5, 10, 15, 20],\n",
       "                                        'min_samples_split': [80, 100, 120],\n",
       "                                        'n_estimators': [50, 100, 120]},\n",
       "                   pre_dispatch='2*n_jobs', random_state=None, refit=True,\n",
       "                   return_train_score=False, scoring='roc_auc', verbose=3)"
      ]
     },
     "execution_count": 27,
     "metadata": {},
     "output_type": "execute_result"
    }
   ],
   "source": [
    "#create a dictionary of parameters \n",
    "params = {\"n_estimators\": [50, 100, 120],\n",
    "          \"max_features\":[5, 10, 15, 20],\n",
    "          \"max_depth\":[6, 8, 10], \n",
    "          \"min_samples_split\":[80, 100, 120]}\n",
    "\n",
    "# initialize decision tree\n",
    "gb_gs = GradientBoostingClassifier(random_state=3)\n",
    "\n",
    "# initialize grid search\n",
    "gb_grid_search = RandomizedSearchCV(estimator=gb_gs, param_distributions=params, cv=5, scoring=\"roc_auc\", n_jobs=-1, refit=True, verbose=3)\n",
    "\n",
    "# run grid search\n",
    "gb_grid_search.fit(X_train_bal, y_train_bal)"
   ]
  },
  {
   "cell_type": "code",
   "execution_count": 30,
   "metadata": {},
   "outputs": [
    {
     "name": "stdout",
     "output_type": "stream",
     "text": [
      "The best parameters are: {'n_estimators': 120, 'min_samples_split': 100, 'max_features': 15, 'max_depth': 10}\n"
     ]
    }
   ],
   "source": [
    "# identify best parameter\n",
    "print(\"The best parameters are:\", gb_grid_search.best_params_)\n",
    "\n",
    "# save model to disk\n",
    "filename = 'models/damage_binary_gradient_boosting_grid_search.sav'\n",
    "pickle.dump(gb_grid_search, open(filename, 'wb'))\n",
    "\n",
    "# load model from disk\n",
    "filename = 'models/damage_binary_gradient_boosting_grid_search.sav'\n",
    "tst = pickle.load(open(filename, 'rb'))"
   ]
  },
  {
   "cell_type": "code",
   "execution_count": 29,
   "metadata": {},
   "outputs": [],
   "source": [
    "# make predictions on x_test\n",
    "y_pred_test_gb_bal = gb_grid_search.best_estimator_.predict(X_test)\n",
    "\n",
    "# make predictions on x_train\n",
    "y_pred_train_gb_bal = gb_grid_search.best_estimator_.predict(X_train_bal)"
   ]
  },
  {
   "cell_type": "code",
   "execution_count": 31,
   "metadata": {},
   "outputs": [
    {
     "name": "stdout",
     "output_type": "stream",
     "text": [
      "              precision    recall  f1-score   support\n",
      "\n",
      "           0       1.00      0.93      0.96    461674\n",
      "           1       0.03      0.55      0.06      1909\n",
      "\n",
      "    accuracy                           0.93    463583\n",
      "   macro avg       0.51      0.74      0.51    463583\n",
      "weighted avg       0.99      0.93      0.96    463583\n",
      "\n"
     ]
    }
   ],
   "source": [
    "# classification report\n",
    "print(classification_report(y_test, y_pred_test_gb_bal))"
   ]
  },
  {
   "cell_type": "code",
   "execution_count": 32,
   "metadata": {},
   "outputs": [
    {
     "name": "stdout",
     "output_type": "stream",
     "text": [
      "              precision    recall  f1-score   support\n",
      "\n",
      "           0       1.00      0.94      0.97    300767\n",
      "           1       0.94      1.00      0.97    300767\n",
      "\n",
      "    accuracy                           0.97    601534\n",
      "   macro avg       0.97      0.97      0.97    601534\n",
      "weighted avg       0.97      0.97      0.97    601534\n",
      "\n"
     ]
    }
   ],
   "source": [
    "# classification report\n",
    "print(classification_report(y_train_bal, y_pred_train_gb_bal))"
   ]
  },
  {
   "cell_type": "code",
   "execution_count": 34,
   "metadata": {},
   "outputs": [
    {
     "data": {
      "text/html": [
       "<div>\n",
       "<style scoped>\n",
       "    .dataframe tbody tr th:only-of-type {\n",
       "        vertical-align: middle;\n",
       "    }\n",
       "\n",
       "    .dataframe tbody tr th {\n",
       "        vertical-align: top;\n",
       "    }\n",
       "\n",
       "    .dataframe thead th {\n",
       "        text-align: right;\n",
       "    }\n",
       "</style>\n",
       "<table border=\"1\" class=\"dataframe\">\n",
       "  <thead>\n",
       "    <tr style=\"text-align: right;\">\n",
       "      <th></th>\n",
       "      <th>0</th>\n",
       "      <th>1</th>\n",
       "    </tr>\n",
       "  </thead>\n",
       "  <tbody>\n",
       "    <tr>\n",
       "      <th>0</th>\n",
       "      <td>428342</td>\n",
       "      <td>33332</td>\n",
       "    </tr>\n",
       "    <tr>\n",
       "      <th>1</th>\n",
       "      <td>856</td>\n",
       "      <td>1053</td>\n",
       "    </tr>\n",
       "  </tbody>\n",
       "</table>\n",
       "</div>"
      ],
      "text/plain": [
       "        0      1\n",
       "0  428342  33332\n",
       "1     856   1053"
      ]
     },
     "execution_count": 34,
     "metadata": {},
     "output_type": "execute_result"
    }
   ],
   "source": [
    "# confusion matrix\n",
    "labels = [i for i in np.unique(y_test)]\n",
    "df = confusion_matrix(y_test, y_pred_test_gb_bal, labels=labels)\n",
    "pd.DataFrame(df, index=labels, columns=labels)"
   ]
  },
  {
   "cell_type": "markdown",
   "metadata": {},
   "source": [
    "**Comments:**:\n",
    "- Chose to use Ada Boosting as the recall is higher and we are focused on recall"
   ]
  },
  {
   "cell_type": "code",
   "execution_count": null,
   "metadata": {},
   "outputs": [],
   "source": []
  }
 ],
 "metadata": {
  "kernelspec": {
   "display_name": "Python 3",
   "language": "python",
   "name": "python3"
  },
  "language_info": {
   "codemirror_mode": {
    "name": "ipython",
    "version": 3
   },
   "file_extension": ".py",
   "mimetype": "text/x-python",
   "name": "python",
   "nbconvert_exporter": "python",
   "pygments_lexer": "ipython3",
   "version": "3.7.3"
  }
 },
 "nbformat": 4,
 "nbformat_minor": 4
}
